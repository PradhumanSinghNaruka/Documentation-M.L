{
  "metadata": {
    "kernelspec": {
      "language": "python",
      "display_name": "Python 3",
      "name": "python3"
    },
    "language_info": {
      "name": "python",
      "version": "3.10.13",
      "mimetype": "text/x-python",
      "codemirror_mode": {
        "name": "ipython",
        "version": 3
      },
      "pygments_lexer": "ipython3",
      "nbconvert_exporter": "python",
      "file_extension": ".py"
    },
    "kaggle": {
      "accelerator": "none",
      "dataSources": [
        {
          "sourceId": 4806462,
          "sourceType": "datasetVersion",
          "datasetId": 2782855
        }
      ],
      "dockerImageVersionId": 30698,
      "isInternetEnabled": false,
      "language": "python",
      "sourceType": "notebook",
      "isGpuEnabled": false
    },
    "colab": {
      "provenance": [],
      "include_colab_link": true
    }
  },
  "nbformat_minor": 0,
  "nbformat": 4,
  "cells": [
    {
      "cell_type": "markdown",
      "metadata": {
        "id": "view-in-github",
        "colab_type": "text"
      },
      "source": [
        "<a href=\"https://colab.research.google.com/github/PradhumanSinghNaruka/Documentation-M.L/blob/main/Laptop_Price_Predictor.ipynb\" target=\"_parent\"><img src=\"https://colab.research.google.com/assets/colab-badge.svg\" alt=\"Open In Colab\"/></a>"
      ]
    },
    {
      "cell_type": "code",
      "source": [
        "# This Python 3 environment comes with many helpful analytics libraries installed\n",
        "# It is defined by the kaggle/python Docker image: https://github.com/kaggle/docker-python\n",
        "# For example, here's several helpful packages to load\n",
        "\n",
        "import numpy as np # linear algebra\n",
        "import pandas as pd # data processing, CSV file I/O (e.g. pd.read_csv)\n",
        "\n",
        "# Input data files are available in the read-only \"../input/\" directory\n",
        "# For example, running this (by clicking run or pressing Shift+Enter) will list all files under the input directory\n",
        "\n",
        "import os\n",
        "for dirname, _, filenames in os.walk('/kaggle/input'):\n",
        "    for filename in filenames:\n",
        "        print(os.path.join(dirname, filename))\n",
        "\n",
        "# You can write up to 20GB to the current directory (/kaggle/working/) that gets preserved as output when you create a version using \"Save & Run All\"\n",
        "# You can also write temporary files to /kaggle/temp/, but they won't be saved outside of the current session"
      ],
      "metadata": {
        "_uuid": "8f2839f25d086af736a60e9eeb907d3b93b6e0e5",
        "_cell_guid": "b1076dfc-b9ad-4769-8c92-a6c4dae69d19",
        "execution": {
          "iopub.status.busy": "2024-06-11T07:14:13.145076Z",
          "iopub.execute_input": "2024-06-11T07:14:13.145517Z",
          "iopub.status.idle": "2024-06-11T07:14:14.098044Z",
          "shell.execute_reply.started": "2024-06-11T07:14:13.145485Z",
          "shell.execute_reply": "2024-06-11T07:14:14.09681Z"
        },
        "trusted": true,
        "id": "v2WboLXo_sQh",
        "outputId": "b3cb485c-cc0a-4f57-b558-41b81ba02591"
      },
      "execution_count": null,
      "outputs": [
        {
          "name": "stdout",
          "text": "/kaggle/input/laptop-datacsv/laptop_data.csv\n",
          "output_type": "stream"
        }
      ]
    },
    {
      "cell_type": "code",
      "source": [
        "import numpy as np\n",
        "import pandas as pd"
      ],
      "metadata": {
        "execution": {
          "iopub.status.busy": "2024-06-11T07:14:14.099954Z",
          "iopub.execute_input": "2024-06-11T07:14:14.101094Z",
          "iopub.status.idle": "2024-06-11T07:14:14.106671Z",
          "shell.execute_reply.started": "2024-06-11T07:14:14.101052Z",
          "shell.execute_reply": "2024-06-11T07:14:14.105383Z"
        },
        "trusted": true,
        "id": "_2jRr9Eo_sQi"
      },
      "execution_count": null,
      "outputs": []
    },
    {
      "cell_type": "code",
      "source": [
        "df=pd.read_csv('/kaggle/input/laptop-datacsv/laptop_data.csv')"
      ],
      "metadata": {
        "execution": {
          "iopub.status.busy": "2024-06-11T07:14:14.108296Z",
          "iopub.execute_input": "2024-06-11T07:14:14.108861Z",
          "iopub.status.idle": "2024-06-11T07:14:14.145797Z",
          "shell.execute_reply.started": "2024-06-11T07:14:14.108822Z",
          "shell.execute_reply": "2024-06-11T07:14:14.144101Z"
        },
        "trusted": true,
        "id": "NAkwxFEe_sQj"
      },
      "execution_count": null,
      "outputs": []
    },
    {
      "cell_type": "code",
      "source": [
        "df.head()"
      ],
      "metadata": {
        "execution": {
          "iopub.status.busy": "2024-06-11T07:14:14.148455Z",
          "iopub.execute_input": "2024-06-11T07:14:14.148823Z",
          "iopub.status.idle": "2024-06-11T07:14:14.185709Z",
          "shell.execute_reply.started": "2024-06-11T07:14:14.148793Z",
          "shell.execute_reply": "2024-06-11T07:14:14.184648Z"
        },
        "trusted": true,
        "id": "iUM8I4NG_sQj",
        "outputId": "860bb57c-1ed9-4066-d51d-55665b942cb1"
      },
      "execution_count": null,
      "outputs": [
        {
          "execution_count": 4,
          "output_type": "execute_result",
          "data": {
            "text/plain": "   Unnamed: 0 Company   TypeName  Inches                    ScreenResolution  \\\n0           0   Apple  Ultrabook    13.3  IPS Panel Retina Display 2560x1600   \n1           1   Apple  Ultrabook    13.3                            1440x900   \n2           2      HP   Notebook    15.6                   Full HD 1920x1080   \n3           3   Apple  Ultrabook    15.4  IPS Panel Retina Display 2880x1800   \n4           4   Apple  Ultrabook    13.3  IPS Panel Retina Display 2560x1600   \n\n                          Cpu   Ram               Memory  \\\n0        Intel Core i5 2.3GHz   8GB            128GB SSD   \n1        Intel Core i5 1.8GHz   8GB  128GB Flash Storage   \n2  Intel Core i5 7200U 2.5GHz   8GB            256GB SSD   \n3        Intel Core i7 2.7GHz  16GB            512GB SSD   \n4        Intel Core i5 3.1GHz   8GB            256GB SSD   \n\n                            Gpu  OpSys  Weight        Price  \n0  Intel Iris Plus Graphics 640  macOS  1.37kg   71378.6832  \n1        Intel HD Graphics 6000  macOS  1.34kg   47895.5232  \n2         Intel HD Graphics 620  No OS  1.86kg   30636.0000  \n3            AMD Radeon Pro 455  macOS  1.83kg  135195.3360  \n4  Intel Iris Plus Graphics 650  macOS  1.37kg   96095.8080  ",
            "text/html": "<div>\n<style scoped>\n    .dataframe tbody tr th:only-of-type {\n        vertical-align: middle;\n    }\n\n    .dataframe tbody tr th {\n        vertical-align: top;\n    }\n\n    .dataframe thead th {\n        text-align: right;\n    }\n</style>\n<table border=\"1\" class=\"dataframe\">\n  <thead>\n    <tr style=\"text-align: right;\">\n      <th></th>\n      <th>Unnamed: 0</th>\n      <th>Company</th>\n      <th>TypeName</th>\n      <th>Inches</th>\n      <th>ScreenResolution</th>\n      <th>Cpu</th>\n      <th>Ram</th>\n      <th>Memory</th>\n      <th>Gpu</th>\n      <th>OpSys</th>\n      <th>Weight</th>\n      <th>Price</th>\n    </tr>\n  </thead>\n  <tbody>\n    <tr>\n      <th>0</th>\n      <td>0</td>\n      <td>Apple</td>\n      <td>Ultrabook</td>\n      <td>13.3</td>\n      <td>IPS Panel Retina Display 2560x1600</td>\n      <td>Intel Core i5 2.3GHz</td>\n      <td>8GB</td>\n      <td>128GB SSD</td>\n      <td>Intel Iris Plus Graphics 640</td>\n      <td>macOS</td>\n      <td>1.37kg</td>\n      <td>71378.6832</td>\n    </tr>\n    <tr>\n      <th>1</th>\n      <td>1</td>\n      <td>Apple</td>\n      <td>Ultrabook</td>\n      <td>13.3</td>\n      <td>1440x900</td>\n      <td>Intel Core i5 1.8GHz</td>\n      <td>8GB</td>\n      <td>128GB Flash Storage</td>\n      <td>Intel HD Graphics 6000</td>\n      <td>macOS</td>\n      <td>1.34kg</td>\n      <td>47895.5232</td>\n    </tr>\n    <tr>\n      <th>2</th>\n      <td>2</td>\n      <td>HP</td>\n      <td>Notebook</td>\n      <td>15.6</td>\n      <td>Full HD 1920x1080</td>\n      <td>Intel Core i5 7200U 2.5GHz</td>\n      <td>8GB</td>\n      <td>256GB SSD</td>\n      <td>Intel HD Graphics 620</td>\n      <td>No OS</td>\n      <td>1.86kg</td>\n      <td>30636.0000</td>\n    </tr>\n    <tr>\n      <th>3</th>\n      <td>3</td>\n      <td>Apple</td>\n      <td>Ultrabook</td>\n      <td>15.4</td>\n      <td>IPS Panel Retina Display 2880x1800</td>\n      <td>Intel Core i7 2.7GHz</td>\n      <td>16GB</td>\n      <td>512GB SSD</td>\n      <td>AMD Radeon Pro 455</td>\n      <td>macOS</td>\n      <td>1.83kg</td>\n      <td>135195.3360</td>\n    </tr>\n    <tr>\n      <th>4</th>\n      <td>4</td>\n      <td>Apple</td>\n      <td>Ultrabook</td>\n      <td>13.3</td>\n      <td>IPS Panel Retina Display 2560x1600</td>\n      <td>Intel Core i5 3.1GHz</td>\n      <td>8GB</td>\n      <td>256GB SSD</td>\n      <td>Intel Iris Plus Graphics 650</td>\n      <td>macOS</td>\n      <td>1.37kg</td>\n      <td>96095.8080</td>\n    </tr>\n  </tbody>\n</table>\n</div>"
          },
          "metadata": {}
        }
      ]
    },
    {
      "cell_type": "code",
      "source": [
        "df.shape"
      ],
      "metadata": {
        "execution": {
          "iopub.status.busy": "2024-06-11T07:14:14.187096Z",
          "iopub.execute_input": "2024-06-11T07:14:14.187722Z",
          "iopub.status.idle": "2024-06-11T07:14:14.195853Z",
          "shell.execute_reply.started": "2024-06-11T07:14:14.187683Z",
          "shell.execute_reply": "2024-06-11T07:14:14.194646Z"
        },
        "trusted": true,
        "id": "cfmg7DbK_sQk",
        "outputId": "99753ab0-b28c-4bcb-d9cd-aab97984ca5d"
      },
      "execution_count": null,
      "outputs": [
        {
          "execution_count": 5,
          "output_type": "execute_result",
          "data": {
            "text/plain": "(1303, 12)"
          },
          "metadata": {}
        }
      ]
    },
    {
      "cell_type": "code",
      "source": [
        "df.info()"
      ],
      "metadata": {
        "execution": {
          "iopub.status.busy": "2024-06-11T07:14:14.197719Z",
          "iopub.execute_input": "2024-06-11T07:14:14.198364Z",
          "iopub.status.idle": "2024-06-11T07:14:14.245509Z",
          "shell.execute_reply.started": "2024-06-11T07:14:14.198327Z",
          "shell.execute_reply": "2024-06-11T07:14:14.243964Z"
        },
        "trusted": true,
        "id": "nw9lnWy3_sQl",
        "outputId": "d2503c70-5c92-4903-e70e-898272fb9b88"
      },
      "execution_count": null,
      "outputs": [
        {
          "name": "stdout",
          "text": "<class 'pandas.core.frame.DataFrame'>\nRangeIndex: 1303 entries, 0 to 1302\nData columns (total 12 columns):\n #   Column            Non-Null Count  Dtype  \n---  ------            --------------  -----  \n 0   Unnamed: 0        1303 non-null   int64  \n 1   Company           1303 non-null   object \n 2   TypeName          1303 non-null   object \n 3   Inches            1303 non-null   float64\n 4   ScreenResolution  1303 non-null   object \n 5   Cpu               1303 non-null   object \n 6   Ram               1303 non-null   object \n 7   Memory            1303 non-null   object \n 8   Gpu               1303 non-null   object \n 9   OpSys             1303 non-null   object \n 10  Weight            1303 non-null   object \n 11  Price             1303 non-null   float64\ndtypes: float64(2), int64(1), object(9)\nmemory usage: 122.3+ KB\n",
          "output_type": "stream"
        }
      ]
    },
    {
      "cell_type": "code",
      "source": [
        "df.duplicated().sum()"
      ],
      "metadata": {
        "execution": {
          "iopub.status.busy": "2024-06-11T07:14:14.24765Z",
          "iopub.execute_input": "2024-06-11T07:14:14.248419Z",
          "iopub.status.idle": "2024-06-11T07:14:14.263271Z",
          "shell.execute_reply.started": "2024-06-11T07:14:14.248376Z",
          "shell.execute_reply": "2024-06-11T07:14:14.262045Z"
        },
        "trusted": true,
        "id": "COCREVVo_sQm",
        "outputId": "e6dab748-3149-48f3-bd7d-4091087a3d7b"
      },
      "execution_count": null,
      "outputs": [
        {
          "execution_count": 7,
          "output_type": "execute_result",
          "data": {
            "text/plain": "0"
          },
          "metadata": {}
        }
      ]
    },
    {
      "cell_type": "code",
      "source": [
        "df.isnull().sum()"
      ],
      "metadata": {
        "execution": {
          "iopub.status.busy": "2024-06-11T07:14:14.265134Z",
          "iopub.execute_input": "2024-06-11T07:14:14.266213Z",
          "iopub.status.idle": "2024-06-11T07:14:14.279839Z",
          "shell.execute_reply.started": "2024-06-11T07:14:14.266172Z",
          "shell.execute_reply": "2024-06-11T07:14:14.278046Z"
        },
        "trusted": true,
        "id": "D58aGUI8_sQm",
        "outputId": "5253c7e4-20ea-4b39-8402-5a0615027c5e"
      },
      "execution_count": null,
      "outputs": [
        {
          "execution_count": 8,
          "output_type": "execute_result",
          "data": {
            "text/plain": "Unnamed: 0          0\nCompany             0\nTypeName            0\nInches              0\nScreenResolution    0\nCpu                 0\nRam                 0\nMemory              0\nGpu                 0\nOpSys               0\nWeight              0\nPrice               0\ndtype: int64"
          },
          "metadata": {}
        }
      ]
    },
    {
      "cell_type": "code",
      "source": [
        "df.drop(columns=['Unnamed: 0'],inplace=True)"
      ],
      "metadata": {
        "execution": {
          "iopub.status.busy": "2024-06-11T07:14:14.281597Z",
          "iopub.execute_input": "2024-06-11T07:14:14.282655Z",
          "iopub.status.idle": "2024-06-11T07:14:14.292238Z",
          "shell.execute_reply.started": "2024-06-11T07:14:14.282611Z",
          "shell.execute_reply": "2024-06-11T07:14:14.291056Z"
        },
        "trusted": true,
        "id": "EGM1fPA7_sQn"
      },
      "execution_count": null,
      "outputs": []
    },
    {
      "cell_type": "code",
      "source": [
        "df.head()"
      ],
      "metadata": {
        "execution": {
          "iopub.status.busy": "2024-06-11T07:14:14.296518Z",
          "iopub.execute_input": "2024-06-11T07:14:14.297613Z",
          "iopub.status.idle": "2024-06-11T07:14:14.317019Z",
          "shell.execute_reply.started": "2024-06-11T07:14:14.297571Z",
          "shell.execute_reply": "2024-06-11T07:14:14.315266Z"
        },
        "trusted": true,
        "id": "kxJVNvSp_sQn",
        "outputId": "b3828a00-1773-451d-bd12-40cd51e8535c"
      },
      "execution_count": null,
      "outputs": [
        {
          "execution_count": 10,
          "output_type": "execute_result",
          "data": {
            "text/plain": "  Company   TypeName  Inches                    ScreenResolution  \\\n0   Apple  Ultrabook    13.3  IPS Panel Retina Display 2560x1600   \n1   Apple  Ultrabook    13.3                            1440x900   \n2      HP   Notebook    15.6                   Full HD 1920x1080   \n3   Apple  Ultrabook    15.4  IPS Panel Retina Display 2880x1800   \n4   Apple  Ultrabook    13.3  IPS Panel Retina Display 2560x1600   \n\n                          Cpu   Ram               Memory  \\\n0        Intel Core i5 2.3GHz   8GB            128GB SSD   \n1        Intel Core i5 1.8GHz   8GB  128GB Flash Storage   \n2  Intel Core i5 7200U 2.5GHz   8GB            256GB SSD   \n3        Intel Core i7 2.7GHz  16GB            512GB SSD   \n4        Intel Core i5 3.1GHz   8GB            256GB SSD   \n\n                            Gpu  OpSys  Weight        Price  \n0  Intel Iris Plus Graphics 640  macOS  1.37kg   71378.6832  \n1        Intel HD Graphics 6000  macOS  1.34kg   47895.5232  \n2         Intel HD Graphics 620  No OS  1.86kg   30636.0000  \n3            AMD Radeon Pro 455  macOS  1.83kg  135195.3360  \n4  Intel Iris Plus Graphics 650  macOS  1.37kg   96095.8080  ",
            "text/html": "<div>\n<style scoped>\n    .dataframe tbody tr th:only-of-type {\n        vertical-align: middle;\n    }\n\n    .dataframe tbody tr th {\n        vertical-align: top;\n    }\n\n    .dataframe thead th {\n        text-align: right;\n    }\n</style>\n<table border=\"1\" class=\"dataframe\">\n  <thead>\n    <tr style=\"text-align: right;\">\n      <th></th>\n      <th>Company</th>\n      <th>TypeName</th>\n      <th>Inches</th>\n      <th>ScreenResolution</th>\n      <th>Cpu</th>\n      <th>Ram</th>\n      <th>Memory</th>\n      <th>Gpu</th>\n      <th>OpSys</th>\n      <th>Weight</th>\n      <th>Price</th>\n    </tr>\n  </thead>\n  <tbody>\n    <tr>\n      <th>0</th>\n      <td>Apple</td>\n      <td>Ultrabook</td>\n      <td>13.3</td>\n      <td>IPS Panel Retina Display 2560x1600</td>\n      <td>Intel Core i5 2.3GHz</td>\n      <td>8GB</td>\n      <td>128GB SSD</td>\n      <td>Intel Iris Plus Graphics 640</td>\n      <td>macOS</td>\n      <td>1.37kg</td>\n      <td>71378.6832</td>\n    </tr>\n    <tr>\n      <th>1</th>\n      <td>Apple</td>\n      <td>Ultrabook</td>\n      <td>13.3</td>\n      <td>1440x900</td>\n      <td>Intel Core i5 1.8GHz</td>\n      <td>8GB</td>\n      <td>128GB Flash Storage</td>\n      <td>Intel HD Graphics 6000</td>\n      <td>macOS</td>\n      <td>1.34kg</td>\n      <td>47895.5232</td>\n    </tr>\n    <tr>\n      <th>2</th>\n      <td>HP</td>\n      <td>Notebook</td>\n      <td>15.6</td>\n      <td>Full HD 1920x1080</td>\n      <td>Intel Core i5 7200U 2.5GHz</td>\n      <td>8GB</td>\n      <td>256GB SSD</td>\n      <td>Intel HD Graphics 620</td>\n      <td>No OS</td>\n      <td>1.86kg</td>\n      <td>30636.0000</td>\n    </tr>\n    <tr>\n      <th>3</th>\n      <td>Apple</td>\n      <td>Ultrabook</td>\n      <td>15.4</td>\n      <td>IPS Panel Retina Display 2880x1800</td>\n      <td>Intel Core i7 2.7GHz</td>\n      <td>16GB</td>\n      <td>512GB SSD</td>\n      <td>AMD Radeon Pro 455</td>\n      <td>macOS</td>\n      <td>1.83kg</td>\n      <td>135195.3360</td>\n    </tr>\n    <tr>\n      <th>4</th>\n      <td>Apple</td>\n      <td>Ultrabook</td>\n      <td>13.3</td>\n      <td>IPS Panel Retina Display 2560x1600</td>\n      <td>Intel Core i5 3.1GHz</td>\n      <td>8GB</td>\n      <td>256GB SSD</td>\n      <td>Intel Iris Plus Graphics 650</td>\n      <td>macOS</td>\n      <td>1.37kg</td>\n      <td>96095.8080</td>\n    </tr>\n  </tbody>\n</table>\n</div>"
          },
          "metadata": {}
        }
      ]
    },
    {
      "cell_type": "code",
      "source": [
        "df['Ram']=df['Ram'].str.replace('GB','')\n",
        "df['Weight']=df['Weight'].str.replace('kg','')"
      ],
      "metadata": {
        "execution": {
          "iopub.status.busy": "2024-06-11T07:14:14.319416Z",
          "iopub.execute_input": "2024-06-11T07:14:14.31979Z",
          "iopub.status.idle": "2024-06-11T07:14:14.330793Z",
          "shell.execute_reply.started": "2024-06-11T07:14:14.319751Z",
          "shell.execute_reply": "2024-06-11T07:14:14.329661Z"
        },
        "trusted": true,
        "id": "TxHnwRnx_sQn"
      },
      "execution_count": null,
      "outputs": []
    },
    {
      "cell_type": "code",
      "source": [
        "df.head()"
      ],
      "metadata": {
        "execution": {
          "iopub.status.busy": "2024-06-11T07:14:14.333113Z",
          "iopub.execute_input": "2024-06-11T07:14:14.333495Z",
          "iopub.status.idle": "2024-06-11T07:14:14.356579Z",
          "shell.execute_reply.started": "2024-06-11T07:14:14.333465Z",
          "shell.execute_reply": "2024-06-11T07:14:14.354989Z"
        },
        "trusted": true,
        "id": "fgbCaBTZ_sQo",
        "outputId": "b7160428-5fe7-4fb4-bc96-eddc51bce5da"
      },
      "execution_count": null,
      "outputs": [
        {
          "execution_count": 12,
          "output_type": "execute_result",
          "data": {
            "text/plain": "  Company   TypeName  Inches                    ScreenResolution  \\\n0   Apple  Ultrabook    13.3  IPS Panel Retina Display 2560x1600   \n1   Apple  Ultrabook    13.3                            1440x900   \n2      HP   Notebook    15.6                   Full HD 1920x1080   \n3   Apple  Ultrabook    15.4  IPS Panel Retina Display 2880x1800   \n4   Apple  Ultrabook    13.3  IPS Panel Retina Display 2560x1600   \n\n                          Cpu Ram               Memory  \\\n0        Intel Core i5 2.3GHz   8            128GB SSD   \n1        Intel Core i5 1.8GHz   8  128GB Flash Storage   \n2  Intel Core i5 7200U 2.5GHz   8            256GB SSD   \n3        Intel Core i7 2.7GHz  16            512GB SSD   \n4        Intel Core i5 3.1GHz   8            256GB SSD   \n\n                            Gpu  OpSys Weight        Price  \n0  Intel Iris Plus Graphics 640  macOS   1.37   71378.6832  \n1        Intel HD Graphics 6000  macOS   1.34   47895.5232  \n2         Intel HD Graphics 620  No OS   1.86   30636.0000  \n3            AMD Radeon Pro 455  macOS   1.83  135195.3360  \n4  Intel Iris Plus Graphics 650  macOS   1.37   96095.8080  ",
            "text/html": "<div>\n<style scoped>\n    .dataframe tbody tr th:only-of-type {\n        vertical-align: middle;\n    }\n\n    .dataframe tbody tr th {\n        vertical-align: top;\n    }\n\n    .dataframe thead th {\n        text-align: right;\n    }\n</style>\n<table border=\"1\" class=\"dataframe\">\n  <thead>\n    <tr style=\"text-align: right;\">\n      <th></th>\n      <th>Company</th>\n      <th>TypeName</th>\n      <th>Inches</th>\n      <th>ScreenResolution</th>\n      <th>Cpu</th>\n      <th>Ram</th>\n      <th>Memory</th>\n      <th>Gpu</th>\n      <th>OpSys</th>\n      <th>Weight</th>\n      <th>Price</th>\n    </tr>\n  </thead>\n  <tbody>\n    <tr>\n      <th>0</th>\n      <td>Apple</td>\n      <td>Ultrabook</td>\n      <td>13.3</td>\n      <td>IPS Panel Retina Display 2560x1600</td>\n      <td>Intel Core i5 2.3GHz</td>\n      <td>8</td>\n      <td>128GB SSD</td>\n      <td>Intel Iris Plus Graphics 640</td>\n      <td>macOS</td>\n      <td>1.37</td>\n      <td>71378.6832</td>\n    </tr>\n    <tr>\n      <th>1</th>\n      <td>Apple</td>\n      <td>Ultrabook</td>\n      <td>13.3</td>\n      <td>1440x900</td>\n      <td>Intel Core i5 1.8GHz</td>\n      <td>8</td>\n      <td>128GB Flash Storage</td>\n      <td>Intel HD Graphics 6000</td>\n      <td>macOS</td>\n      <td>1.34</td>\n      <td>47895.5232</td>\n    </tr>\n    <tr>\n      <th>2</th>\n      <td>HP</td>\n      <td>Notebook</td>\n      <td>15.6</td>\n      <td>Full HD 1920x1080</td>\n      <td>Intel Core i5 7200U 2.5GHz</td>\n      <td>8</td>\n      <td>256GB SSD</td>\n      <td>Intel HD Graphics 620</td>\n      <td>No OS</td>\n      <td>1.86</td>\n      <td>30636.0000</td>\n    </tr>\n    <tr>\n      <th>3</th>\n      <td>Apple</td>\n      <td>Ultrabook</td>\n      <td>15.4</td>\n      <td>IPS Panel Retina Display 2880x1800</td>\n      <td>Intel Core i7 2.7GHz</td>\n      <td>16</td>\n      <td>512GB SSD</td>\n      <td>AMD Radeon Pro 455</td>\n      <td>macOS</td>\n      <td>1.83</td>\n      <td>135195.3360</td>\n    </tr>\n    <tr>\n      <th>4</th>\n      <td>Apple</td>\n      <td>Ultrabook</td>\n      <td>13.3</td>\n      <td>IPS Panel Retina Display 2560x1600</td>\n      <td>Intel Core i5 3.1GHz</td>\n      <td>8</td>\n      <td>256GB SSD</td>\n      <td>Intel Iris Plus Graphics 650</td>\n      <td>macOS</td>\n      <td>1.37</td>\n      <td>96095.8080</td>\n    </tr>\n  </tbody>\n</table>\n</div>"
          },
          "metadata": {}
        }
      ]
    },
    {
      "cell_type": "code",
      "source": [
        "df['Ram']=df['Ram'].astype('int32')\n",
        "df['Weight']=df['Weight'].astype('float32')"
      ],
      "metadata": {
        "execution": {
          "iopub.status.busy": "2024-06-11T07:14:14.360438Z",
          "iopub.execute_input": "2024-06-11T07:14:14.363302Z",
          "iopub.status.idle": "2024-06-11T07:14:14.373242Z",
          "shell.execute_reply.started": "2024-06-11T07:14:14.363257Z",
          "shell.execute_reply": "2024-06-11T07:14:14.371989Z"
        },
        "trusted": true,
        "id": "y9JV6F-Z_sQo"
      },
      "execution_count": null,
      "outputs": []
    },
    {
      "cell_type": "code",
      "source": [
        "df.info()"
      ],
      "metadata": {
        "execution": {
          "iopub.status.busy": "2024-06-11T07:14:14.377519Z",
          "iopub.execute_input": "2024-06-11T07:14:14.381611Z",
          "iopub.status.idle": "2024-06-11T07:14:14.40311Z",
          "shell.execute_reply.started": "2024-06-11T07:14:14.381562Z",
          "shell.execute_reply": "2024-06-11T07:14:14.40176Z"
        },
        "trusted": true,
        "id": "KcmjB8gP_sQo",
        "outputId": "619ed531-6241-475a-9ecd-9792e1bbbbe3"
      },
      "execution_count": null,
      "outputs": [
        {
          "name": "stdout",
          "text": "<class 'pandas.core.frame.DataFrame'>\nRangeIndex: 1303 entries, 0 to 1302\nData columns (total 11 columns):\n #   Column            Non-Null Count  Dtype  \n---  ------            --------------  -----  \n 0   Company           1303 non-null   object \n 1   TypeName          1303 non-null   object \n 2   Inches            1303 non-null   float64\n 3   ScreenResolution  1303 non-null   object \n 4   Cpu               1303 non-null   object \n 5   Ram               1303 non-null   int32  \n 6   Memory            1303 non-null   object \n 7   Gpu               1303 non-null   object \n 8   OpSys             1303 non-null   object \n 9   Weight            1303 non-null   float32\n 10  Price             1303 non-null   float64\ndtypes: float32(1), float64(2), int32(1), object(7)\nmemory usage: 101.9+ KB\n",
          "output_type": "stream"
        }
      ]
    },
    {
      "cell_type": "code",
      "source": [
        "import seaborn as sns"
      ],
      "metadata": {
        "execution": {
          "iopub.status.busy": "2024-06-11T07:14:14.408062Z",
          "iopub.execute_input": "2024-06-11T07:14:14.410791Z",
          "iopub.status.idle": "2024-06-11T07:14:15.791552Z",
          "shell.execute_reply.started": "2024-06-11T07:14:14.410724Z",
          "shell.execute_reply": "2024-06-11T07:14:15.789711Z"
        },
        "trusted": true,
        "id": "ParSYhzI_sQo"
      },
      "execution_count": null,
      "outputs": []
    },
    {
      "cell_type": "code",
      "source": [
        "sns.distplot(df['Price'])"
      ],
      "metadata": {
        "execution": {
          "iopub.status.busy": "2024-06-11T07:14:15.795452Z",
          "iopub.execute_input": "2024-06-11T07:14:15.795897Z",
          "iopub.status.idle": "2024-06-11T07:14:16.367082Z",
          "shell.execute_reply.started": "2024-06-11T07:14:15.795858Z",
          "shell.execute_reply": "2024-06-11T07:14:16.365945Z"
        },
        "trusted": true,
        "id": "NdxFbyIq_sQo",
        "outputId": "1a853c49-fc88-4571-c1ae-80474c917769"
      },
      "execution_count": null,
      "outputs": [
        {
          "name": "stderr",
          "text": "/tmp/ipykernel_33/834922981.py:1: UserWarning: \n\n`distplot` is a deprecated function and will be removed in seaborn v0.14.0.\n\nPlease adapt your code to use either `displot` (a figure-level function with\nsimilar flexibility) or `histplot` (an axes-level function for histograms).\n\nFor a guide to updating your code to use the new functions, please see\nhttps://gist.github.com/mwaskom/de44147ed2974457ad6372750bbe5751\n\n  sns.distplot(df['Price'])\n/opt/conda/lib/python3.10/site-packages/seaborn/_oldcore.py:1119: FutureWarning: use_inf_as_na option is deprecated and will be removed in a future version. Convert inf values to NaN before operating instead.\n  with pd.option_context('mode.use_inf_as_na', True):\n",
          "output_type": "stream"
        },
        {
          "execution_count": 16,
          "output_type": "execute_result",
          "data": {
            "text/plain": "<Axes: xlabel='Price', ylabel='Density'>"
          },
          "metadata": {}
        },
        {
          "output_type": "display_data",
          "data": {
            "text/plain": "<Figure size 640x480 with 1 Axes>",
            "image/png": "[encoded data removed]"
          },
          "metadata": {}
        }
      ]
    },
    {
      "cell_type": "code",
      "source": [
        "df['Company'].value_counts()"
      ],
      "metadata": {
        "execution": {
          "iopub.status.busy": "2024-06-11T07:14:16.36856Z",
          "iopub.execute_input": "2024-06-11T07:14:16.368972Z",
          "iopub.status.idle": "2024-06-11T07:14:16.378386Z",
          "shell.execute_reply.started": "2024-06-11T07:14:16.368934Z",
          "shell.execute_reply": "2024-06-11T07:14:16.377284Z"
        },
        "trusted": true,
        "id": "_qzE-onF_sQp",
        "outputId": "b9d9e49d-3cbd-4df0-ed4b-abcc98f90601"
      },
      "execution_count": null,
      "outputs": [
        {
          "execution_count": 17,
          "output_type": "execute_result",
          "data": {
            "text/plain": "Company\nDell         297\nLenovo       297\nHP           274\nAsus         158\nAcer         103\nMSI           54\nToshiba       48\nApple         21\nSamsung        9\nRazer          7\nMediacom       7\nMicrosoft      6\nXiaomi         4\nVero           4\nChuwi          3\nGoogle         3\nFujitsu        3\nLG             3\nHuawei         2\nName: count, dtype: int64"
          },
          "metadata": {}
        }
      ]
    },
    {
      "cell_type": "code",
      "source": [
        "\n",
        "df['Company'].value_counts().plot(kind='bar')\n"
      ],
      "metadata": {
        "execution": {
          "iopub.status.busy": "2024-06-11T07:14:16.379937Z",
          "iopub.execute_input": "2024-06-11T07:14:16.380328Z",
          "iopub.status.idle": "2024-06-11T07:14:16.748087Z",
          "shell.execute_reply.started": "2024-06-11T07:14:16.380299Z",
          "shell.execute_reply": "2024-06-11T07:14:16.747048Z"
        },
        "trusted": true,
        "id": "a7yAwVP8_sQp",
        "outputId": "1475f6f7-e182-4acf-caad-5dab1e990a5f"
      },
      "execution_count": null,
      "outputs": [
        {
          "execution_count": 18,
          "output_type": "execute_result",
          "data": {
            "text/plain": "<Axes: xlabel='Company'>"
          },
          "metadata": {}
        },
        {
          "output_type": "display_data",
          "data": {
            "text/plain": "<Figure size 640x480 with 1 Axes>",
            "image/png": "[encoded data removed]"
          },
          "metadata": {}
        }
      ]
    },
    {
      "cell_type": "code",
      "source": [
        "\n",
        "import matplotlib.pyplot as plt"
      ],
      "metadata": {
        "execution": {
          "iopub.status.busy": "2024-06-11T07:14:16.749381Z",
          "iopub.execute_input": "2024-06-11T07:14:16.749693Z",
          "iopub.status.idle": "2024-06-11T07:14:16.754358Z",
          "shell.execute_reply.started": "2024-06-11T07:14:16.749666Z",
          "shell.execute_reply": "2024-06-11T07:14:16.753319Z"
        },
        "trusted": true,
        "id": "BeNt7qg0_sQp"
      },
      "execution_count": null,
      "outputs": []
    },
    {
      "cell_type": "code",
      "source": [
        "sns.barplot(x=df['Company'],y=df['Price'])\n",
        "plt.xticks(rotation='vertical')\n",
        "plt.show()"
      ],
      "metadata": {
        "execution": {
          "iopub.status.busy": "2024-06-11T07:14:16.756131Z",
          "iopub.execute_input": "2024-06-11T07:14:16.756543Z",
          "iopub.status.idle": "2024-06-11T07:14:17.477026Z",
          "shell.execute_reply.started": "2024-06-11T07:14:16.756507Z",
          "shell.execute_reply": "2024-06-11T07:14:17.475797Z"
        },
        "trusted": true,
        "id": "zfm86a1W_sQp",
        "outputId": "d13cb097-e86a-4d7f-c4c5-69b2e4591975"
      },
      "execution_count": null,
      "outputs": [
        {
          "output_type": "display_data",
          "data": {
            "text/plain": "<Figure size 640x480 with 1 Axes>",
            "image/png": "[encoded data removed]"
          },
          "metadata": {}
        }
      ]
    },
    {
      "cell_type": "code",
      "source": [
        "df['TypeName'].value_counts().plot(kind='bar')"
      ],
      "metadata": {
        "execution": {
          "iopub.status.busy": "2024-06-11T07:14:17.478879Z",
          "iopub.execute_input": "2024-06-11T07:14:17.479378Z",
          "iopub.status.idle": "2024-06-11T07:14:17.736914Z",
          "shell.execute_reply.started": "2024-06-11T07:14:17.479335Z",
          "shell.execute_reply": "2024-06-11T07:14:17.735802Z"
        },
        "trusted": true,
        "id": "89QE6ptC_sQp",
        "outputId": "71c42fab-5aac-48d9-bde1-ac14292bf4ca"
      },
      "execution_count": null,
      "outputs": [
        {
          "execution_count": 21,
          "output_type": "execute_result",
          "data": {
            "text/plain": "<Axes: xlabel='TypeName'>"
          },
          "metadata": {}
        },
        {
          "output_type": "display_data",
          "data": {
            "text/plain": "<Figure size 640x480 with 1 Axes>",
            "image/png": "[encoded data removed]"
          },
          "metadata": {}
        }
      ]
    },
    {
      "cell_type": "code",
      "source": [
        "sns.barplot(x=df['TypeName'],y=df['Price'])\n",
        "plt.xticks(rotation='vertical')\n",
        "plt.show()"
      ],
      "metadata": {
        "execution": {
          "iopub.status.busy": "2024-06-11T07:14:17.738355Z",
          "iopub.execute_input": "2024-06-11T07:14:17.738663Z",
          "iopub.status.idle": "2024-06-11T07:14:18.058954Z",
          "shell.execute_reply.started": "2024-06-11T07:14:17.738636Z",
          "shell.execute_reply": "2024-06-11T07:14:18.057795Z"
        },
        "trusted": true,
        "id": "HWkFDE8E_sQp",
        "outputId": "7efddc3d-1c39-48f3-866a-88ca7aca4e21"
      },
      "execution_count": null,
      "outputs": [
        {
          "output_type": "display_data",
          "data": {
            "text/plain": "<Figure size 640x480 with 1 Axes>",
            "image/png": "[encoded data removed]"
          },
          "metadata": {}
        }
      ]
    },
    {
      "cell_type": "code",
      "source": [
        "sns.scatterplot(x=df['Inches'],y=df['Price'])"
      ],
      "metadata": {
        "execution": {
          "iopub.status.busy": "2024-06-11T07:14:18.060311Z",
          "iopub.execute_input": "2024-06-11T07:14:18.060631Z",
          "iopub.status.idle": "2024-06-11T07:14:18.312976Z",
          "shell.execute_reply.started": "2024-06-11T07:14:18.060603Z",
          "shell.execute_reply": "2024-06-11T07:14:18.31192Z"
        },
        "trusted": true,
        "id": "oClg4Vfn_sQp",
        "outputId": "53a24738-ecc2-48c1-d23c-a5409a34298a"
      },
      "execution_count": null,
      "outputs": [
        {
          "execution_count": 23,
          "output_type": "execute_result",
          "data": {
            "text/plain": "<Axes: xlabel='Inches', ylabel='Price'>"
          },
          "metadata": {}
        },
        {
          "output_type": "display_data",
          "data": {
            "text/plain": "<Figure size 640x480 with 1 Axes>",
            "image/png": "[encoded data removed]"
          },
          "metadata": {}
        }
      ]
    },
    {
      "cell_type": "markdown",
      "source": [
        "# **Extract Important Data From ScreenResolution Columns**"
      ],
      "metadata": {
        "id": "QKVPDzMN_sQp"
      }
    },
    {
      "cell_type": "code",
      "source": [
        "df['ScreenResolution'].value_counts()"
      ],
      "metadata": {
        "execution": {
          "iopub.status.busy": "2024-06-11T07:14:18.314396Z",
          "iopub.execute_input": "2024-06-11T07:14:18.315164Z",
          "iopub.status.idle": "2024-06-11T07:14:18.325298Z",
          "shell.execute_reply.started": "2024-06-11T07:14:18.315125Z",
          "shell.execute_reply": "2024-06-11T07:14:18.324152Z"
        },
        "trusted": true,
        "id": "deSX482B_sQr",
        "outputId": "86bda2eb-7e48-492b-9121-98abb0e05577"
      },
      "execution_count": null,
      "outputs": [
        {
          "execution_count": 24,
          "output_type": "execute_result",
          "data": {
            "text/plain": "ScreenResolution\nFull HD 1920x1080                                507\n1366x768                                         281\nIPS Panel Full HD 1920x1080                      230\nIPS Panel Full HD / Touchscreen 1920x1080         53\nFull HD / Touchscreen 1920x1080                   47\n1600x900                                          23\nTouchscreen 1366x768                              16\nQuad HD+ / Touchscreen 3200x1800                  15\nIPS Panel 4K Ultra HD 3840x2160                   12\nIPS Panel 4K Ultra HD / Touchscreen 3840x2160     11\n4K Ultra HD / Touchscreen 3840x2160               10\n4K Ultra HD 3840x2160                              7\nTouchscreen 2560x1440                              7\nIPS Panel 1366x768                                 7\nIPS Panel Quad HD+ / Touchscreen 3200x1800         6\nIPS Panel Retina Display 2560x1600                 6\nIPS Panel Retina Display 2304x1440                 6\nTouchscreen 2256x1504                              6\nIPS Panel Touchscreen 2560x1440                    5\nIPS Panel Retina Display 2880x1800                 4\nIPS Panel Touchscreen 1920x1200                    4\n1440x900                                           4\nIPS Panel 2560x1440                                4\nIPS Panel Quad HD+ 2560x1440                       3\nQuad HD+ 3200x1800                                 3\n1920x1080                                          3\nTouchscreen 2400x1600                              3\n2560x1440                                          3\nIPS Panel Touchscreen 1366x768                     3\nIPS Panel Touchscreen / 4K Ultra HD 3840x2160      2\nIPS Panel Full HD 2160x1440                        2\nIPS Panel Quad HD+ 3200x1800                       2\nIPS Panel Retina Display 2736x1824                 1\nIPS Panel Full HD 1920x1200                        1\nIPS Panel Full HD 2560x1440                        1\nIPS Panel Full HD 1366x768                         1\nTouchscreen / Full HD 1920x1080                    1\nTouchscreen / Quad HD+ 3200x1800                   1\nTouchscreen / 4K Ultra HD 3840x2160                1\nIPS Panel Touchscreen 2400x1600                    1\nName: count, dtype: int64"
          },
          "metadata": {}
        }
      ]
    },
    {
      "cell_type": "markdown",
      "source": [
        "**Feature Engineering 1**"
      ],
      "metadata": {
        "id": "Tmrx-i1m_sQs"
      }
    },
    {
      "cell_type": "code",
      "source": [
        "df['Touchscreen']=df['ScreenResolution'].apply(lambda x:1 if 'Touchscreen'in x else 0)"
      ],
      "metadata": {
        "execution": {
          "iopub.status.busy": "2024-06-11T07:14:18.326623Z",
          "iopub.execute_input": "2024-06-11T07:14:18.32698Z",
          "iopub.status.idle": "2024-06-11T07:14:18.340012Z",
          "shell.execute_reply.started": "2024-06-11T07:14:18.326953Z",
          "shell.execute_reply": "2024-06-11T07:14:18.338602Z"
        },
        "trusted": true,
        "id": "Dmjl7tfg_sQs"
      },
      "execution_count": null,
      "outputs": []
    },
    {
      "cell_type": "code",
      "source": [
        "df.sample(7)"
      ],
      "metadata": {
        "execution": {
          "iopub.status.busy": "2024-06-11T07:14:18.341426Z",
          "iopub.execute_input": "2024-06-11T07:14:18.341781Z",
          "iopub.status.idle": "2024-06-11T07:14:18.367045Z",
          "shell.execute_reply.started": "2024-06-11T07:14:18.341746Z",
          "shell.execute_reply": "2024-06-11T07:14:18.365972Z"
        },
        "trusted": true,
        "id": "S0YGCzS8_sQs",
        "outputId": "7b80a3c8-00eb-4c2e-a4ac-357820e36829"
      },
      "execution_count": null,
      "outputs": [
        {
          "execution_count": 26,
          "output_type": "execute_result",
          "data": {
            "text/plain": "    Company   TypeName  Inches                    ScreenResolution  \\\n4     Apple  Ultrabook    13.3  IPS Panel Retina Display 2560x1600   \n8      Asus  Ultrabook    14.0                   Full HD 1920x1080   \n519    Asus     Gaming    17.3                   Full HD 1920x1080   \n541    Dell   Notebook    14.0                   Full HD 1920x1080   \n868    Acer   Notebook    14.0         IPS Panel Full HD 1920x1080   \n216  Lenovo   Notebook    17.3                            1600x900   \n564    Asus   Notebook    15.6                   Full HD 1920x1080   \n\n                             Cpu  Ram                Memory  \\\n4           Intel Core i5 3.1GHz    8             256GB SSD   \n8     Intel Core i7 8550U 1.8GHz   16             512GB SSD   \n519  Intel Core i7 7700HQ 2.8GHz   16  256GB SSD +  1TB HDD   \n541     Intel Core i3 6006U 2GHz    4             128GB SSD   \n868   Intel Core i5 7200U 2.5GHz    8             256GB SSD   \n216   Intel Core i5 7200U 2.5GHz    8               1TB HDD   \n564  Intel Core i5 7300HQ 2.5GHz    8  128GB SSD +  1TB HDD   \n\n                              Gpu       OpSys  Weight       Price  Touchscreen  \n4    Intel Iris Plus Graphics 650       macOS    1.37  96095.8080            0  \n8            Nvidia GeForce MX150  Windows 10    1.30  79653.6000            0  \n519     Nvidia GeForce GTX1050 Ti  Windows 10    3.00  80133.1200            0  \n541         Intel HD Graphics 520  Windows 10    1.60  39207.1536            0  \n868         Intel HD Graphics 620  Windows 10    1.56  48058.5600            0  \n216      Nvidia GeForce GTX 940MX       No OS    2.80  31381.9200            0  \n564       Nvidia GeForce GTX 1050  Windows 10    2.50  44701.9200            0  ",
            "text/html": "<div>\n<style scoped>\n    .dataframe tbody tr th:only-of-type {\n        vertical-align: middle;\n    }\n\n    .dataframe tbody tr th {\n        vertical-align: top;\n    }\n\n    .dataframe thead th {\n        text-align: right;\n    }\n</style>\n<table border=\"1\" class=\"dataframe\">\n  <thead>\n    <tr style=\"text-align: right;\">\n      <th></th>\n      <th>Company</th>\n      <th>TypeName</th>\n      <th>Inches</th>\n      <th>ScreenResolution</th>\n      <th>Cpu</th>\n      <th>Ram</th>\n      <th>Memory</th>\n      <th>Gpu</th>\n      <th>OpSys</th>\n      <th>Weight</th>\n      <th>Price</th>\n      <th>Touchscreen</th>\n    </tr>\n  </thead>\n  <tbody>\n    <tr>\n      <th>4</th>\n      <td>Apple</td>\n      <td>Ultrabook</td>\n      <td>13.3</td>\n      <td>IPS Panel Retina Display 2560x1600</td>\n      <td>Intel Core i5 3.1GHz</td>\n      <td>8</td>\n      <td>256GB SSD</td>\n      <td>Intel Iris Plus Graphics 650</td>\n      <td>macOS</td>\n      <td>1.37</td>\n      <td>96095.8080</td>\n      <td>0</td>\n    </tr>\n    <tr>\n      <th>8</th>\n      <td>Asus</td>\n      <td>Ultrabook</td>\n      <td>14.0</td>\n      <td>Full HD 1920x1080</td>\n      <td>Intel Core i7 8550U 1.8GHz</td>\n      <td>16</td>\n      <td>512GB SSD</td>\n      <td>Nvidia GeForce MX150</td>\n      <td>Windows 10</td>\n      <td>1.30</td>\n      <td>79653.6000</td>\n      <td>0</td>\n    </tr>\n    <tr>\n      <th>519</th>\n      <td>Asus</td>\n      <td>Gaming</td>\n      <td>17.3</td>\n      <td>Full HD 1920x1080</td>\n      <td>Intel Core i7 7700HQ 2.8GHz</td>\n      <td>16</td>\n      <td>256GB SSD +  1TB HDD</td>\n      <td>Nvidia GeForce GTX1050 Ti</td>\n      <td>Windows 10</td>\n      <td>3.00</td>\n      <td>80133.1200</td>\n      <td>0</td>\n    </tr>\n    <tr>\n      <th>541</th>\n      <td>Dell</td>\n      <td>Notebook</td>\n      <td>14.0</td>\n      <td>Full HD 1920x1080</td>\n      <td>Intel Core i3 6006U 2GHz</td>\n      <td>4</td>\n      <td>128GB SSD</td>\n      <td>Intel HD Graphics 520</td>\n      <td>Windows 10</td>\n      <td>1.60</td>\n      <td>39207.1536</td>\n      <td>0</td>\n    </tr>\n    <tr>\n      <th>868</th>\n      <td>Acer</td>\n      <td>Notebook</td>\n      <td>14.0</td>\n      <td>IPS Panel Full HD 1920x1080</td>\n      <td>Intel Core i5 7200U 2.5GHz</td>\n      <td>8</td>\n      <td>256GB SSD</td>\n      <td>Intel HD Graphics 620</td>\n      <td>Windows 10</td>\n      <td>1.56</td>\n      <td>48058.5600</td>\n      <td>0</td>\n    </tr>\n    <tr>\n      <th>216</th>\n      <td>Lenovo</td>\n      <td>Notebook</td>\n      <td>17.3</td>\n      <td>1600x900</td>\n      <td>Intel Core i5 7200U 2.5GHz</td>\n      <td>8</td>\n      <td>1TB HDD</td>\n      <td>Nvidia GeForce GTX 940MX</td>\n      <td>No OS</td>\n      <td>2.80</td>\n      <td>31381.9200</td>\n      <td>0</td>\n    </tr>\n    <tr>\n      <th>564</th>\n      <td>Asus</td>\n      <td>Notebook</td>\n      <td>15.6</td>\n      <td>Full HD 1920x1080</td>\n      <td>Intel Core i5 7300HQ 2.5GHz</td>\n      <td>8</td>\n      <td>128GB SSD +  1TB HDD</td>\n      <td>Nvidia GeForce GTX 1050</td>\n      <td>Windows 10</td>\n      <td>2.50</td>\n      <td>44701.9200</td>\n      <td>0</td>\n    </tr>\n  </tbody>\n</table>\n</div>"
          },
          "metadata": {}
        }
      ]
    },
    {
      "cell_type": "code",
      "source": [
        "df['Touchscreen'].value_counts().plot(kind='bar')"
      ],
      "metadata": {
        "execution": {
          "iopub.status.busy": "2024-06-11T07:14:18.368213Z",
          "iopub.execute_input": "2024-06-11T07:14:18.368532Z",
          "iopub.status.idle": "2024-06-11T07:14:18.538603Z",
          "shell.execute_reply.started": "2024-06-11T07:14:18.368504Z",
          "shell.execute_reply": "2024-06-11T07:14:18.537636Z"
        },
        "trusted": true,
        "id": "tuZm1nVs_sQs",
        "outputId": "69664513-d46e-41d7-875f-7470a93b0bab"
      },
      "execution_count": null,
      "outputs": [
        {
          "execution_count": 27,
          "output_type": "execute_result",
          "data": {
            "text/plain": "<Axes: xlabel='Touchscreen'>"
          },
          "metadata": {}
        },
        {
          "output_type": "display_data",
          "data": {
            "text/plain": "<Figure size 640x480 with 1 Axes>",
            "image/png": "[encoded data removed]"
          },
          "metadata": {}
        }
      ]
    },
    {
      "cell_type": "code",
      "source": [
        "sns.barplot(x=df['Touchscreen'],y=df['Price'])"
      ],
      "metadata": {
        "execution": {
          "iopub.status.busy": "2024-06-11T07:14:18.546343Z",
          "iopub.execute_input": "2024-06-11T07:14:18.547057Z",
          "iopub.status.idle": "2024-06-11T07:14:18.781443Z",
          "shell.execute_reply.started": "2024-06-11T07:14:18.547025Z",
          "shell.execute_reply": "2024-06-11T07:14:18.780331Z"
        },
        "trusted": true,
        "id": "T6fiPpUF_sQs",
        "outputId": "362ab461-4121-4621-eb10-deb57e7a21ac"
      },
      "execution_count": null,
      "outputs": [
        {
          "execution_count": 28,
          "output_type": "execute_result",
          "data": {
            "text/plain": "<Axes: xlabel='Touchscreen', ylabel='Price'>"
          },
          "metadata": {}
        },
        {
          "output_type": "display_data",
          "data": {
            "text/plain": "<Figure size 640x480 with 1 Axes>",
            "image/png": "[encoded data removed]"
          },
          "metadata": {}
        }
      ]
    },
    {
      "cell_type": "markdown",
      "source": [
        "**Feature Engineering 2**"
      ],
      "metadata": {
        "id": "DU508tMw_sQt"
      }
    },
    {
      "cell_type": "code",
      "source": [
        "df['Ips']=df['ScreenResolution'].apply(lambda x:1 if 'IPS'in x else 0)"
      ],
      "metadata": {
        "execution": {
          "iopub.status.busy": "2024-06-11T07:14:18.782999Z",
          "iopub.execute_input": "2024-06-11T07:14:18.783408Z",
          "iopub.status.idle": "2024-06-11T07:14:18.790969Z",
          "shell.execute_reply.started": "2024-06-11T07:14:18.783373Z",
          "shell.execute_reply": "2024-06-11T07:14:18.789533Z"
        },
        "trusted": true,
        "id": "_EodccB2_sQt"
      },
      "execution_count": null,
      "outputs": []
    },
    {
      "cell_type": "code",
      "source": [
        "df.sample(5)"
      ],
      "metadata": {
        "execution": {
          "iopub.status.busy": "2024-06-11T07:14:18.792297Z",
          "iopub.execute_input": "2024-06-11T07:14:18.792789Z",
          "iopub.status.idle": "2024-06-11T07:14:18.815789Z",
          "shell.execute_reply.started": "2024-06-11T07:14:18.792722Z",
          "shell.execute_reply": "2024-06-11T07:14:18.814577Z"
        },
        "trusted": true,
        "id": "BKg64xfW_sQt",
        "outputId": "09f69a75-30bb-44ab-ced0-65cecadbacb4"
      },
      "execution_count": null,
      "outputs": [
        {
          "execution_count": 30,
          "output_type": "execute_result",
          "data": {
            "text/plain": "     Company   TypeName  Inches                 ScreenResolution  \\\n504   Lenovo    Netbook    11.6                         1366x768   \n122   Lenovo   Notebook    15.6                Full HD 1920x1080   \n768  Samsung  Ultrabook    13.3  Full HD / Touchscreen 1920x1080   \n791     Vero   Notebook    14.0                        1920x1080   \n363       HP   Notebook    15.6                Full HD 1920x1080   \n\n                                      Cpu  Ram              Memory  \\\n504  Intel Celeron Dual Core N3060 1.6GHz    4            16GB SSD   \n122            Intel Core i5 7200U 2.5GHz    8           256GB SSD   \n768            Intel Core i7 7500U 2.7GHz    8           256GB SSD   \n791  Intel Celeron Dual Core N3350 1.1GHz    4  32GB Flash Storage   \n363            Intel Core i5 7200U 2.5GHz    8             1TB HDD   \n\n                       Gpu       OpSys  Weight      Price  Touchscreen  Ips  \n504  Intel HD Graphics 400   Chrome OS    1.25  14119.200            0    0  \n122   Nvidia GeForce 940MX       No OS    2.20  33513.120            0    0  \n768  Intel HD Graphics 620  Windows 10    1.31  85194.720            1    0  \n791  Intel HD Graphics 500  Windows 10    1.22  10810.512            0    0  \n363  Intel HD Graphics 620  Windows 10    1.86  34045.920            0    0  ",
            "text/html": "<div>\n<style scoped>\n    .dataframe tbody tr th:only-of-type {\n        vertical-align: middle;\n    }\n\n    .dataframe tbody tr th {\n        vertical-align: top;\n    }\n\n    .dataframe thead th {\n        text-align: right;\n    }\n</style>\n<table border=\"1\" class=\"dataframe\">\n  <thead>\n    <tr style=\"text-align: right;\">\n      <th></th>\n      <th>Company</th>\n      <th>TypeName</th>\n      <th>Inches</th>\n      <th>ScreenResolution</th>\n      <th>Cpu</th>\n      <th>Ram</th>\n      <th>Memory</th>\n      <th>Gpu</th>\n      <th>OpSys</th>\n      <th>Weight</th>\n      <th>Price</th>\n      <th>Touchscreen</th>\n      <th>Ips</th>\n    </tr>\n  </thead>\n  <tbody>\n    <tr>\n      <th>504</th>\n      <td>Lenovo</td>\n      <td>Netbook</td>\n      <td>11.6</td>\n      <td>1366x768</td>\n      <td>Intel Celeron Dual Core N3060 1.6GHz</td>\n      <td>4</td>\n      <td>16GB SSD</td>\n      <td>Intel HD Graphics 400</td>\n      <td>Chrome OS</td>\n      <td>1.25</td>\n      <td>14119.200</td>\n      <td>0</td>\n      <td>0</td>\n    </tr>\n    <tr>\n      <th>122</th>\n      <td>Lenovo</td>\n      <td>Notebook</td>\n      <td>15.6</td>\n      <td>Full HD 1920x1080</td>\n      <td>Intel Core i5 7200U 2.5GHz</td>\n      <td>8</td>\n      <td>256GB SSD</td>\n      <td>Nvidia GeForce 940MX</td>\n      <td>No OS</td>\n      <td>2.20</td>\n      <td>33513.120</td>\n      <td>0</td>\n      <td>0</td>\n    </tr>\n    <tr>\n      <th>768</th>\n      <td>Samsung</td>\n      <td>Ultrabook</td>\n      <td>13.3</td>\n      <td>Full HD / Touchscreen 1920x1080</td>\n      <td>Intel Core i7 7500U 2.7GHz</td>\n      <td>8</td>\n      <td>256GB SSD</td>\n      <td>Intel HD Graphics 620</td>\n      <td>Windows 10</td>\n      <td>1.31</td>\n      <td>85194.720</td>\n      <td>1</td>\n      <td>0</td>\n    </tr>\n    <tr>\n      <th>791</th>\n      <td>Vero</td>\n      <td>Notebook</td>\n      <td>14.0</td>\n      <td>1920x1080</td>\n      <td>Intel Celeron Dual Core N3350 1.1GHz</td>\n      <td>4</td>\n      <td>32GB Flash Storage</td>\n      <td>Intel HD Graphics 500</td>\n      <td>Windows 10</td>\n      <td>1.22</td>\n      <td>10810.512</td>\n      <td>0</td>\n      <td>0</td>\n    </tr>\n    <tr>\n      <th>363</th>\n      <td>HP</td>\n      <td>Notebook</td>\n      <td>15.6</td>\n      <td>Full HD 1920x1080</td>\n      <td>Intel Core i5 7200U 2.5GHz</td>\n      <td>8</td>\n      <td>1TB HDD</td>\n      <td>Intel HD Graphics 620</td>\n      <td>Windows 10</td>\n      <td>1.86</td>\n      <td>34045.920</td>\n      <td>0</td>\n      <td>0</td>\n    </tr>\n  </tbody>\n</table>\n</div>"
          },
          "metadata": {}
        }
      ]
    },
    {
      "cell_type": "code",
      "source": [
        "df['Ips'].value_counts().plot(kind='bar')"
      ],
      "metadata": {
        "execution": {
          "iopub.status.busy": "2024-06-11T07:14:18.817059Z",
          "iopub.execute_input": "2024-06-11T07:14:18.81737Z",
          "iopub.status.idle": "2024-06-11T07:14:18.978748Z",
          "shell.execute_reply.started": "2024-06-11T07:14:18.817344Z",
          "shell.execute_reply": "2024-06-11T07:14:18.977671Z"
        },
        "trusted": true,
        "id": "LIaZZ0FD_sQt",
        "outputId": "0e56a2f3-708b-46c6-fefe-c0ea20bbc773"
      },
      "execution_count": null,
      "outputs": [
        {
          "execution_count": 31,
          "output_type": "execute_result",
          "data": {
            "text/plain": "<Axes: xlabel='Ips'>"
          },
          "metadata": {}
        },
        {
          "output_type": "display_data",
          "data": {
            "text/plain": "<Figure size 640x480 with 1 Axes>",
            "image/png": "[encoded data removed]"
          },
          "metadata": {}
        }
      ]
    },
    {
      "cell_type": "code",
      "source": [
        "sns.barplot(x=df['Ips'],y=df['Price'])"
      ],
      "metadata": {
        "execution": {
          "iopub.status.busy": "2024-06-11T07:14:18.980303Z",
          "iopub.execute_input": "2024-06-11T07:14:18.980696Z",
          "iopub.status.idle": "2024-06-11T07:14:19.211427Z",
          "shell.execute_reply.started": "2024-06-11T07:14:18.980661Z",
          "shell.execute_reply": "2024-06-11T07:14:19.210248Z"
        },
        "trusted": true,
        "id": "tF1kiqB0_sQt",
        "outputId": "2ba6b8fe-f22b-4907-b0f0-fc2e73546205"
      },
      "execution_count": null,
      "outputs": [
        {
          "execution_count": 32,
          "output_type": "execute_result",
          "data": {
            "text/plain": "<Axes: xlabel='Ips', ylabel='Price'>"
          },
          "metadata": {}
        },
        {
          "output_type": "display_data",
          "data": {
            "text/plain": "<Figure size 640x480 with 1 Axes>",
            "image/png": "[encoded data removed]"
          },
          "metadata": {}
        }
      ]
    },
    {
      "cell_type": "markdown",
      "source": [
        "**Feature Engineering 3**"
      ],
      "metadata": {
        "id": "6xDY4YpT_sQt"
      }
    },
    {
      "cell_type": "code",
      "source": [
        "new=df['ScreenResolution'].str.split('x', n=1,expand=True)"
      ],
      "metadata": {
        "execution": {
          "iopub.status.busy": "2024-06-11T07:14:19.212559Z",
          "iopub.execute_input": "2024-06-11T07:14:19.212859Z",
          "iopub.status.idle": "2024-06-11T07:14:19.222987Z",
          "shell.execute_reply.started": "2024-06-11T07:14:19.212834Z",
          "shell.execute_reply": "2024-06-11T07:14:19.221908Z"
        },
        "trusted": true,
        "id": "XKgDczBt_sQu"
      },
      "execution_count": null,
      "outputs": []
    },
    {
      "cell_type": "code",
      "source": [
        "df['X_resolution']=new[0]\n",
        "df['Y_resolution']=new[1]"
      ],
      "metadata": {
        "execution": {
          "iopub.status.busy": "2024-06-11T07:14:19.224575Z",
          "iopub.execute_input": "2024-06-11T07:14:19.224948Z",
          "iopub.status.idle": "2024-06-11T07:14:19.241411Z",
          "shell.execute_reply.started": "2024-06-11T07:14:19.224919Z",
          "shell.execute_reply": "2024-06-11T07:14:19.240184Z"
        },
        "trusted": true,
        "id": "15KqmD5X_sQu"
      },
      "execution_count": null,
      "outputs": []
    },
    {
      "cell_type": "code",
      "source": [
        "df.sample(5)"
      ],
      "metadata": {
        "execution": {
          "iopub.status.busy": "2024-06-11T07:14:19.242656Z",
          "iopub.execute_input": "2024-06-11T07:14:19.243003Z",
          "iopub.status.idle": "2024-06-11T07:14:19.277182Z",
          "shell.execute_reply.started": "2024-06-11T07:14:19.242976Z",
          "shell.execute_reply": "2024-06-11T07:14:19.276155Z"
        },
        "trusted": true,
        "id": "NQUyo1Ls_sQy",
        "outputId": "034a077a-9c4f-4b01-ffe5-b602b1f650e4"
      },
      "execution_count": null,
      "outputs": [
        {
          "execution_count": 35,
          "output_type": "execute_result",
          "data": {
            "text/plain": "    Company   TypeName  Inches             ScreenResolution  \\\n214  Huawei  Ultrabook    13.0  IPS Panel Full HD 2160x1440   \n427    Dell  Ultrabook    14.0            Full HD 1920x1080   \n843    Dell   Notebook    15.6                     1366x768   \n448     MSI     Gaming    15.6            Full HD 1920x1080   \n529    Dell   Notebook    15.6            Full HD 1920x1080   \n\n                             Cpu  Ram     Memory                      Gpu  \\\n214   Intel Core i7 7500U 2.7GHz    8  512GB SSD    Intel HD Graphics 620   \n427   Intel Core i7 7600U 2.8GHz    8  256GB SSD    Intel HD Graphics 620   \n843   Intel Core i5 7200U 2.5GHz    8  128GB SSD    Intel HD Graphics 620   \n448  Intel Core i5 7300HQ 2.5GHz    8  256GB SSD  Nvidia GeForce GTX 1050   \n529  Intel Core i5 7440HQ 2.8GHz    8  256GB SSD    Intel HD Graphics 620   \n\n          OpSys  Weight       Price  Touchscreen  Ips            X_resolution  \\\n214  Windows 10    1.05  79866.7200            0    1  IPS Panel Full HD 2160   \n427       Linux    1.60  58554.7200            0    0            Full HD 1920   \n843  Windows 10    2.18  38041.3872            0    0                    1366   \n448  Windows 10    2.20  54757.9872            0    0            Full HD 1920   \n529  Windows 10    1.90  73366.5600            0    0            Full HD 1920   \n\n    Y_resolution  \n214         1440  \n427         1080  \n843          768  \n448         1080  \n529         1080  ",
            "text/html": "<div>\n<style scoped>\n    .dataframe tbody tr th:only-of-type {\n        vertical-align: middle;\n    }\n\n    .dataframe tbody tr th {\n        vertical-align: top;\n    }\n\n    .dataframe thead th {\n        text-align: right;\n    }\n</style>\n<table border=\"1\" class=\"dataframe\">\n  <thead>\n    <tr style=\"text-align: right;\">\n      <th></th>\n      <th>Company</th>\n      <th>TypeName</th>\n      <th>Inches</th>\n      <th>ScreenResolution</th>\n      <th>Cpu</th>\n      <th>Ram</th>\n      <th>Memory</th>\n      <th>Gpu</th>\n      <th>OpSys</th>\n      <th>Weight</th>\n      <th>Price</th>\n      <th>Touchscreen</th>\n      <th>Ips</th>\n      <th>X_resolution</th>\n      <th>Y_resolution</th>\n    </tr>\n  </thead>\n  <tbody>\n    <tr>\n      <th>214</th>\n      <td>Huawei</td>\n      <td>Ultrabook</td>\n      <td>13.0</td>\n      <td>IPS Panel Full HD 2160x1440</td>\n      <td>Intel Core i7 7500U 2.7GHz</td>\n      <td>8</td>\n      <td>512GB SSD</td>\n      <td>Intel HD Graphics 620</td>\n      <td>Windows 10</td>\n      <td>1.05</td>\n      <td>79866.7200</td>\n      <td>0</td>\n      <td>1</td>\n      <td>IPS Panel Full HD 2160</td>\n      <td>1440</td>\n    </tr>\n    <tr>\n      <th>427</th>\n      <td>Dell</td>\n      <td>Ultrabook</td>\n      <td>14.0</td>\n      <td>Full HD 1920x1080</td>\n      <td>Intel Core i7 7600U 2.8GHz</td>\n      <td>8</td>\n      <td>256GB SSD</td>\n      <td>Intel HD Graphics 620</td>\n      <td>Linux</td>\n      <td>1.60</td>\n      <td>58554.7200</td>\n      <td>0</td>\n      <td>0</td>\n      <td>Full HD 1920</td>\n      <td>1080</td>\n    </tr>\n    <tr>\n      <th>843</th>\n      <td>Dell</td>\n      <td>Notebook</td>\n      <td>15.6</td>\n      <td>1366x768</td>\n      <td>Intel Core i5 7200U 2.5GHz</td>\n      <td>8</td>\n      <td>128GB SSD</td>\n      <td>Intel HD Graphics 620</td>\n      <td>Windows 10</td>\n      <td>2.18</td>\n      <td>38041.3872</td>\n      <td>0</td>\n      <td>0</td>\n      <td>1366</td>\n      <td>768</td>\n    </tr>\n    <tr>\n      <th>448</th>\n      <td>MSI</td>\n      <td>Gaming</td>\n      <td>15.6</td>\n      <td>Full HD 1920x1080</td>\n      <td>Intel Core i5 7300HQ 2.5GHz</td>\n      <td>8</td>\n      <td>256GB SSD</td>\n      <td>Nvidia GeForce GTX 1050</td>\n      <td>Windows 10</td>\n      <td>2.20</td>\n      <td>54757.9872</td>\n      <td>0</td>\n      <td>0</td>\n      <td>Full HD 1920</td>\n      <td>1080</td>\n    </tr>\n    <tr>\n      <th>529</th>\n      <td>Dell</td>\n      <td>Notebook</td>\n      <td>15.6</td>\n      <td>Full HD 1920x1080</td>\n      <td>Intel Core i5 7440HQ 2.8GHz</td>\n      <td>8</td>\n      <td>256GB SSD</td>\n      <td>Intel HD Graphics 620</td>\n      <td>Windows 10</td>\n      <td>1.90</td>\n      <td>73366.5600</td>\n      <td>0</td>\n      <td>0</td>\n      <td>Full HD 1920</td>\n      <td>1080</td>\n    </tr>\n  </tbody>\n</table>\n</div>"
          },
          "metadata": {}
        }
      ]
    },
    {
      "cell_type": "markdown",
      "source": [
        "**Regular Expresion**"
      ],
      "metadata": {
        "id": "AqQhyhC8_sQz"
      }
    },
    {
      "cell_type": "code",
      "source": [
        "df['X_resolution']=df['X_resolution'].str.replace(',','').str.findall(r'(\\d+\\.?\\d+)').apply(lambda x:x[0])"
      ],
      "metadata": {
        "execution": {
          "iopub.status.busy": "2024-06-11T07:14:19.278721Z",
          "iopub.execute_input": "2024-06-11T07:14:19.279047Z",
          "iopub.status.idle": "2024-06-11T07:14:19.29854Z",
          "shell.execute_reply.started": "2024-06-11T07:14:19.27902Z",
          "shell.execute_reply": "2024-06-11T07:14:19.297466Z"
        },
        "trusted": true,
        "id": "de2EokwB_sQz"
      },
      "execution_count": null,
      "outputs": []
    },
    {
      "cell_type": "code",
      "source": [
        "df.sample(5)"
      ],
      "metadata": {
        "execution": {
          "iopub.status.busy": "2024-06-11T07:14:19.299864Z",
          "iopub.execute_input": "2024-06-11T07:14:19.300225Z",
          "iopub.status.idle": "2024-06-11T07:14:19.328748Z",
          "shell.execute_reply.started": "2024-06-11T07:14:19.300199Z",
          "shell.execute_reply": "2024-06-11T07:14:19.327435Z"
        },
        "trusted": true,
        "id": "HBEb049A_sQz",
        "outputId": "a8674993-09d9-4dde-a19a-4430f3536005"
      },
      "execution_count": null,
      "outputs": [
        {
          "execution_count": 37,
          "output_type": "execute_result",
          "data": {
            "text/plain": "    Company   TypeName  Inches             ScreenResolution  \\\n423    Asus   Notebook    15.6            Full HD 1920x1080   \n921      HP  Ultrabook    15.6            Full HD 1920x1080   \n704  Lenovo   Notebook    15.6                     1366x768   \n822  Lenovo  Ultrabook    14.0  IPS Panel Full HD 1920x1080   \n689  Lenovo   Notebook    15.6                     1366x768   \n\n                                      Cpu  Ram     Memory  \\\n423            Intel Core i3 7100U 2.4GHz    8    1TB HDD   \n921            Intel Core i7 6500U 2.5GHz    8  256GB SSD   \n704              Intel Core i3 6006U 2GHz    4  500GB HDD   \n822            Intel Core i7 7500U 2.7GHz    8  512GB SSD   \n689  Intel Celeron Dual Core 3855U 1.6GHz    4  500GB HDD   \n\n                       Gpu       OpSys  Weight        Price  Touchscreen  Ips  \\\n423   Nvidia GeForce 940MX       Linux    2.30   31808.1600            0    0   \n921    AMD Radeon R7 M365X  Windows 10    1.84   69103.6272            0    0   \n704  Intel HD Graphics 520       No OS    1.90   23976.0000            0    0   \n822  Intel HD Graphics 620  Windows 10    1.13  133146.7200            0    1   \n689  Intel HD Graphics 510  Windows 10    2.10   16943.0400            0    0   \n\n    X_resolution Y_resolution  \n423         1920         1080  \n921         1920         1080  \n704         1366          768  \n822         1920         1080  \n689         1366          768  ",
            "text/html": "<div>\n<style scoped>\n    .dataframe tbody tr th:only-of-type {\n        vertical-align: middle;\n    }\n\n    .dataframe tbody tr th {\n        vertical-align: top;\n    }\n\n    .dataframe thead th {\n        text-align: right;\n    }\n</style>\n<table border=\"1\" class=\"dataframe\">\n  <thead>\n    <tr style=\"text-align: right;\">\n      <th></th>\n      <th>Company</th>\n      <th>TypeName</th>\n      <th>Inches</th>\n      <th>ScreenResolution</th>\n      <th>Cpu</th>\n      <th>Ram</th>\n      <th>Memory</th>\n      <th>Gpu</th>\n      <th>OpSys</th>\n      <th>Weight</th>\n      <th>Price</th>\n      <th>Touchscreen</th>\n      <th>Ips</th>\n      <th>X_resolution</th>\n      <th>Y_resolution</th>\n    </tr>\n  </thead>\n  <tbody>\n    <tr>\n      <th>423</th>\n      <td>Asus</td>\n      <td>Notebook</td>\n      <td>15.6</td>\n      <td>Full HD 1920x1080</td>\n      <td>Intel Core i3 7100U 2.4GHz</td>\n      <td>8</td>\n      <td>1TB HDD</td>\n      <td>Nvidia GeForce 940MX</td>\n      <td>Linux</td>\n      <td>2.30</td>\n      <td>31808.1600</td>\n      <td>0</td>\n      <td>0</td>\n      <td>1920</td>\n      <td>1080</td>\n    </tr>\n    <tr>\n      <th>921</th>\n      <td>HP</td>\n      <td>Ultrabook</td>\n      <td>15.6</td>\n      <td>Full HD 1920x1080</td>\n      <td>Intel Core i7 6500U 2.5GHz</td>\n      <td>8</td>\n      <td>256GB SSD</td>\n      <td>AMD Radeon R7 M365X</td>\n      <td>Windows 10</td>\n      <td>1.84</td>\n      <td>69103.6272</td>\n      <td>0</td>\n      <td>0</td>\n      <td>1920</td>\n      <td>1080</td>\n    </tr>\n    <tr>\n      <th>704</th>\n      <td>Lenovo</td>\n      <td>Notebook</td>\n      <td>15.6</td>\n      <td>1366x768</td>\n      <td>Intel Core i3 6006U 2GHz</td>\n      <td>4</td>\n      <td>500GB HDD</td>\n      <td>Intel HD Graphics 520</td>\n      <td>No OS</td>\n      <td>1.90</td>\n      <td>23976.0000</td>\n      <td>0</td>\n      <td>0</td>\n      <td>1366</td>\n      <td>768</td>\n    </tr>\n    <tr>\n      <th>822</th>\n      <td>Lenovo</td>\n      <td>Ultrabook</td>\n      <td>14.0</td>\n      <td>IPS Panel Full HD 1920x1080</td>\n      <td>Intel Core i7 7500U 2.7GHz</td>\n      <td>8</td>\n      <td>512GB SSD</td>\n      <td>Intel HD Graphics 620</td>\n      <td>Windows 10</td>\n      <td>1.13</td>\n      <td>133146.7200</td>\n      <td>0</td>\n      <td>1</td>\n      <td>1920</td>\n      <td>1080</td>\n    </tr>\n    <tr>\n      <th>689</th>\n      <td>Lenovo</td>\n      <td>Notebook</td>\n      <td>15.6</td>\n      <td>1366x768</td>\n      <td>Intel Celeron Dual Core 3855U 1.6GHz</td>\n      <td>4</td>\n      <td>500GB HDD</td>\n      <td>Intel HD Graphics 510</td>\n      <td>Windows 10</td>\n      <td>2.10</td>\n      <td>16943.0400</td>\n      <td>0</td>\n      <td>0</td>\n      <td>1366</td>\n      <td>768</td>\n    </tr>\n  </tbody>\n</table>\n</div>"
          },
          "metadata": {}
        }
      ]
    },
    {
      "cell_type": "code",
      "source": [
        "df['X_resolution']=df['X_resolution'].astype(int)\n",
        "df['Y_resolution']=df['Y_resolution'].astype(int)"
      ],
      "metadata": {
        "execution": {
          "iopub.status.busy": "2024-06-11T07:14:19.330177Z",
          "iopub.execute_input": "2024-06-11T07:14:19.330516Z",
          "iopub.status.idle": "2024-06-11T07:14:19.342047Z",
          "shell.execute_reply.started": "2024-06-11T07:14:19.330488Z",
          "shell.execute_reply": "2024-06-11T07:14:19.340814Z"
        },
        "trusted": true,
        "id": "Y2w9aOnr_sQz"
      },
      "execution_count": null,
      "outputs": []
    },
    {
      "cell_type": "code",
      "source": [
        "df.info()"
      ],
      "metadata": {
        "execution": {
          "iopub.status.busy": "2024-06-11T07:14:19.343438Z",
          "iopub.execute_input": "2024-06-11T07:14:19.343888Z",
          "iopub.status.idle": "2024-06-11T07:14:19.363776Z",
          "shell.execute_reply.started": "2024-06-11T07:14:19.343849Z",
          "shell.execute_reply": "2024-06-11T07:14:19.362567Z"
        },
        "trusted": true,
        "id": "sqR7ga4u_sQz",
        "outputId": "272769f2-d944-4223-a13a-ee55509b1ec5"
      },
      "execution_count": null,
      "outputs": [
        {
          "name": "stdout",
          "text": "<class 'pandas.core.frame.DataFrame'>\nRangeIndex: 1303 entries, 0 to 1302\nData columns (total 15 columns):\n #   Column            Non-Null Count  Dtype  \n---  ------            --------------  -----  \n 0   Company           1303 non-null   object \n 1   TypeName          1303 non-null   object \n 2   Inches            1303 non-null   float64\n 3   ScreenResolution  1303 non-null   object \n 4   Cpu               1303 non-null   object \n 5   Ram               1303 non-null   int32  \n 6   Memory            1303 non-null   object \n 7   Gpu               1303 non-null   object \n 8   OpSys             1303 non-null   object \n 9   Weight            1303 non-null   float32\n 10  Price             1303 non-null   float64\n 11  Touchscreen       1303 non-null   int64  \n 12  Ips               1303 non-null   int64  \n 13  X_resolution      1303 non-null   int64  \n 14  Y_resolution      1303 non-null   int64  \ndtypes: float32(1), float64(2), int32(1), int64(4), object(7)\nmemory usage: 142.6+ KB\n",
          "output_type": "stream"
        }
      ]
    },
    {
      "cell_type": "markdown",
      "source": [
        "**PPI = Square root of (X_resolution + Y_resolution) / Inches**"
      ],
      "metadata": {
        "id": "YKkQk8XI_sQz"
      }
    },
    {
      "cell_type": "code",
      "source": [
        "df['Ppi']=(((df['X_resolution']**2) + (df['Y_resolution']**2))**0.5 / df['Inches']).astype('float')"
      ],
      "metadata": {
        "execution": {
          "iopub.status.busy": "2024-06-11T07:14:19.365149Z",
          "iopub.execute_input": "2024-06-11T07:14:19.365462Z",
          "iopub.status.idle": "2024-06-11T07:14:19.379028Z",
          "shell.execute_reply.started": "2024-06-11T07:14:19.365435Z",
          "shell.execute_reply": "2024-06-11T07:14:19.37783Z"
        },
        "trusted": true,
        "id": "8i23Dn-B_sQ0"
      },
      "execution_count": null,
      "outputs": []
    },
    {
      "cell_type": "code",
      "source": [
        "df.sample(5)"
      ],
      "metadata": {
        "execution": {
          "iopub.status.busy": "2024-06-11T07:14:19.380392Z",
          "iopub.execute_input": "2024-06-11T07:14:19.381659Z",
          "iopub.status.idle": "2024-06-11T07:14:19.405199Z",
          "shell.execute_reply.started": "2024-06-11T07:14:19.381622Z",
          "shell.execute_reply": "2024-06-11T07:14:19.404072Z"
        },
        "trusted": true,
        "id": "htskXUD5_sQ0",
        "outputId": "c23687ec-2718-4259-aaa3-f91cbb1a809f"
      },
      "execution_count": null,
      "outputs": [
        {
          "execution_count": 41,
          "output_type": "execute_result",
          "data": {
            "text/plain": "    Company  TypeName  Inches             ScreenResolution  \\\n224    Dell    Gaming    17.3  IPS Panel Full HD 1920x1080   \n195      HP  Notebook    17.3  IPS Panel Full HD 1920x1080   \n220    Dell  Notebook    15.6            Full HD 1920x1080   \n833  Lenovo  Notebook    14.0            Full HD 1920x1080   \n148     MSI    Gaming    17.3            Full HD 1920x1080   \n\n                             Cpu  Ram                Memory  \\\n224  Intel Core i7 7700HQ 2.8GHz   16  256GB SSD +  1TB HDD   \n195   Intel Core i5 8250U 1.6GHz    8               1TB HDD   \n220   Intel Core i5 8250U 1.6GHz    8             256GB SSD   \n833   Intel Core i5 6200U 2.3GHz    8             256GB SSD   \n148  Intel Core i7 7700HQ 2.8GHz   16  256GB SSD +  1TB HDD   \n\n                         Gpu       OpSys  Weight        Price  Touchscreen  \\\n224  Nvidia GeForce GTX 1060  Windows 10    4.42  130873.7952            0   \n195     Nvidia GeForce 930MX  Windows 10    2.50   48697.9200            0   \n220           AMD Radeon 520       Linux    2.20   36089.2080            0   \n833    Intel HD Graphics 520  Windows 10    1.70   63190.0800            0   \n148  Nvidia GeForce GTX 1070  Windows 10    2.90  108105.1200            0   \n\n     Ips  X_resolution  Y_resolution         Ppi  \n224    1          1920          1080  127.335675  \n195    1          1920          1080  127.335675  \n220    0          1920          1080  141.211998  \n833    0          1920          1080  157.350512  \n148    0          1920          1080  127.335675  ",
            "text/html": "<div>\n<style scoped>\n    .dataframe tbody tr th:only-of-type {\n        vertical-align: middle;\n    }\n\n    .dataframe tbody tr th {\n        vertical-align: top;\n    }\n\n    .dataframe thead th {\n        text-align: right;\n    }\n</style>\n<table border=\"1\" class=\"dataframe\">\n  <thead>\n    <tr style=\"text-align: right;\">\n      <th></th>\n      <th>Company</th>\n      <th>TypeName</th>\n      <th>Inches</th>\n      <th>ScreenResolution</th>\n      <th>Cpu</th>\n      <th>Ram</th>\n      <th>Memory</th>\n      <th>Gpu</th>\n      <th>OpSys</th>\n      <th>Weight</th>\n      <th>Price</th>\n      <th>Touchscreen</th>\n      <th>Ips</th>\n      <th>X_resolution</th>\n      <th>Y_resolution</th>\n      <th>Ppi</th>\n    </tr>\n  </thead>\n  <tbody>\n    <tr>\n      <th>224</th>\n      <td>Dell</td>\n      <td>Gaming</td>\n      <td>17.3</td>\n      <td>IPS Panel Full HD 1920x1080</td>\n      <td>Intel Core i7 7700HQ 2.8GHz</td>\n      <td>16</td>\n      <td>256GB SSD +  1TB HDD</td>\n      <td>Nvidia GeForce GTX 1060</td>\n      <td>Windows 10</td>\n      <td>4.42</td>\n      <td>130873.7952</td>\n      <td>0</td>\n      <td>1</td>\n      <td>1920</td>\n      <td>1080</td>\n      <td>127.335675</td>\n    </tr>\n    <tr>\n      <th>195</th>\n      <td>HP</td>\n      <td>Notebook</td>\n      <td>17.3</td>\n      <td>IPS Panel Full HD 1920x1080</td>\n      <td>Intel Core i5 8250U 1.6GHz</td>\n      <td>8</td>\n      <td>1TB HDD</td>\n      <td>Nvidia GeForce 930MX</td>\n      <td>Windows 10</td>\n      <td>2.50</td>\n      <td>48697.9200</td>\n      <td>0</td>\n      <td>1</td>\n      <td>1920</td>\n      <td>1080</td>\n      <td>127.335675</td>\n    </tr>\n    <tr>\n      <th>220</th>\n      <td>Dell</td>\n      <td>Notebook</td>\n      <td>15.6</td>\n      <td>Full HD 1920x1080</td>\n      <td>Intel Core i5 8250U 1.6GHz</td>\n      <td>8</td>\n      <td>256GB SSD</td>\n      <td>AMD Radeon 520</td>\n      <td>Linux</td>\n      <td>2.20</td>\n      <td>36089.2080</td>\n      <td>0</td>\n      <td>0</td>\n      <td>1920</td>\n      <td>1080</td>\n      <td>141.211998</td>\n    </tr>\n    <tr>\n      <th>833</th>\n      <td>Lenovo</td>\n      <td>Notebook</td>\n      <td>14.0</td>\n      <td>Full HD 1920x1080</td>\n      <td>Intel Core i5 6200U 2.3GHz</td>\n      <td>8</td>\n      <td>256GB SSD</td>\n      <td>Intel HD Graphics 520</td>\n      <td>Windows 10</td>\n      <td>1.70</td>\n      <td>63190.0800</td>\n      <td>0</td>\n      <td>0</td>\n      <td>1920</td>\n      <td>1080</td>\n      <td>157.350512</td>\n    </tr>\n    <tr>\n      <th>148</th>\n      <td>MSI</td>\n      <td>Gaming</td>\n      <td>17.3</td>\n      <td>Full HD 1920x1080</td>\n      <td>Intel Core i7 7700HQ 2.8GHz</td>\n      <td>16</td>\n      <td>256GB SSD +  1TB HDD</td>\n      <td>Nvidia GeForce GTX 1070</td>\n      <td>Windows 10</td>\n      <td>2.90</td>\n      <td>108105.1200</td>\n      <td>0</td>\n      <td>0</td>\n      <td>1920</td>\n      <td>1080</td>\n      <td>127.335675</td>\n    </tr>\n  </tbody>\n</table>\n</div>"
          },
          "metadata": {}
        }
      ]
    },
    {
      "cell_type": "code",
      "source": [
        "df.drop(columns=['ScreenResolution'],inplace=True)"
      ],
      "metadata": {
        "execution": {
          "iopub.status.busy": "2024-06-11T07:14:19.406476Z",
          "iopub.execute_input": "2024-06-11T07:14:19.406811Z",
          "iopub.status.idle": "2024-06-11T07:14:19.420479Z",
          "shell.execute_reply.started": "2024-06-11T07:14:19.406783Z",
          "shell.execute_reply": "2024-06-11T07:14:19.419361Z"
        },
        "trusted": true,
        "id": "Lmx13yks_sQ0"
      },
      "execution_count": null,
      "outputs": []
    },
    {
      "cell_type": "code",
      "source": [
        "df.head()"
      ],
      "metadata": {
        "execution": {
          "iopub.status.busy": "2024-06-11T07:14:19.421913Z",
          "iopub.execute_input": "2024-06-11T07:14:19.422273Z",
          "iopub.status.idle": "2024-06-11T07:14:19.452355Z",
          "shell.execute_reply.started": "2024-06-11T07:14:19.422244Z",
          "shell.execute_reply": "2024-06-11T07:14:19.451083Z"
        },
        "trusted": true,
        "id": "kO-CKkQV_sQ0",
        "outputId": "6d6eeb59-2581-45a1-fb2d-e916830667d6"
      },
      "execution_count": null,
      "outputs": [
        {
          "execution_count": 43,
          "output_type": "execute_result",
          "data": {
            "text/plain": "  Company   TypeName  Inches                         Cpu  Ram  \\\n0   Apple  Ultrabook    13.3        Intel Core i5 2.3GHz    8   \n1   Apple  Ultrabook    13.3        Intel Core i5 1.8GHz    8   \n2      HP   Notebook    15.6  Intel Core i5 7200U 2.5GHz    8   \n3   Apple  Ultrabook    15.4        Intel Core i7 2.7GHz   16   \n4   Apple  Ultrabook    13.3        Intel Core i5 3.1GHz    8   \n\n                Memory                           Gpu  OpSys  Weight  \\\n0            128GB SSD  Intel Iris Plus Graphics 640  macOS    1.37   \n1  128GB Flash Storage        Intel HD Graphics 6000  macOS    1.34   \n2            256GB SSD         Intel HD Graphics 620  No OS    1.86   \n3            512GB SSD            AMD Radeon Pro 455  macOS    1.83   \n4            256GB SSD  Intel Iris Plus Graphics 650  macOS    1.37   \n\n         Price  Touchscreen  Ips  X_resolution  Y_resolution         Ppi  \n0   71378.6832            0    1          2560          1600  226.983005  \n1   47895.5232            0    0          1440           900  127.677940  \n2   30636.0000            0    0          1920          1080  141.211998  \n3  135195.3360            0    1          2880          1800  220.534624  \n4   96095.8080            0    1          2560          1600  226.983005  ",
            "text/html": "<div>\n<style scoped>\n    .dataframe tbody tr th:only-of-type {\n        vertical-align: middle;\n    }\n\n    .dataframe tbody tr th {\n        vertical-align: top;\n    }\n\n    .dataframe thead th {\n        text-align: right;\n    }\n</style>\n<table border=\"1\" class=\"dataframe\">\n  <thead>\n    <tr style=\"text-align: right;\">\n      <th></th>\n      <th>Company</th>\n      <th>TypeName</th>\n      <th>Inches</th>\n      <th>Cpu</th>\n      <th>Ram</th>\n      <th>Memory</th>\n      <th>Gpu</th>\n      <th>OpSys</th>\n      <th>Weight</th>\n      <th>Price</th>\n      <th>Touchscreen</th>\n      <th>Ips</th>\n      <th>X_resolution</th>\n      <th>Y_resolution</th>\n      <th>Ppi</th>\n    </tr>\n  </thead>\n  <tbody>\n    <tr>\n      <th>0</th>\n      <td>Apple</td>\n      <td>Ultrabook</td>\n      <td>13.3</td>\n      <td>Intel Core i5 2.3GHz</td>\n      <td>8</td>\n      <td>128GB SSD</td>\n      <td>Intel Iris Plus Graphics 640</td>\n      <td>macOS</td>\n      <td>1.37</td>\n      <td>71378.6832</td>\n      <td>0</td>\n      <td>1</td>\n      <td>2560</td>\n      <td>1600</td>\n      <td>226.983005</td>\n    </tr>\n    <tr>\n      <th>1</th>\n      <td>Apple</td>\n      <td>Ultrabook</td>\n      <td>13.3</td>\n      <td>Intel Core i5 1.8GHz</td>\n      <td>8</td>\n      <td>128GB Flash Storage</td>\n      <td>Intel HD Graphics 6000</td>\n      <td>macOS</td>\n      <td>1.34</td>\n      <td>47895.5232</td>\n      <td>0</td>\n      <td>0</td>\n      <td>1440</td>\n      <td>900</td>\n      <td>127.677940</td>\n    </tr>\n    <tr>\n      <th>2</th>\n      <td>HP</td>\n      <td>Notebook</td>\n      <td>15.6</td>\n      <td>Intel Core i5 7200U 2.5GHz</td>\n      <td>8</td>\n      <td>256GB SSD</td>\n      <td>Intel HD Graphics 620</td>\n      <td>No OS</td>\n      <td>1.86</td>\n      <td>30636.0000</td>\n      <td>0</td>\n      <td>0</td>\n      <td>1920</td>\n      <td>1080</td>\n      <td>141.211998</td>\n    </tr>\n    <tr>\n      <th>3</th>\n      <td>Apple</td>\n      <td>Ultrabook</td>\n      <td>15.4</td>\n      <td>Intel Core i7 2.7GHz</td>\n      <td>16</td>\n      <td>512GB SSD</td>\n      <td>AMD Radeon Pro 455</td>\n      <td>macOS</td>\n      <td>1.83</td>\n      <td>135195.3360</td>\n      <td>0</td>\n      <td>1</td>\n      <td>2880</td>\n      <td>1800</td>\n      <td>220.534624</td>\n    </tr>\n    <tr>\n      <th>4</th>\n      <td>Apple</td>\n      <td>Ultrabook</td>\n      <td>13.3</td>\n      <td>Intel Core i5 3.1GHz</td>\n      <td>8</td>\n      <td>256GB SSD</td>\n      <td>Intel Iris Plus Graphics 650</td>\n      <td>macOS</td>\n      <td>1.37</td>\n      <td>96095.8080</td>\n      <td>0</td>\n      <td>1</td>\n      <td>2560</td>\n      <td>1600</td>\n      <td>226.983005</td>\n    </tr>\n  </tbody>\n</table>\n</div>"
          },
          "metadata": {}
        }
      ]
    },
    {
      "cell_type": "code",
      "source": [
        "df.drop(columns=['Inches','X_resolution','Y_resolution'],inplace=True)"
      ],
      "metadata": {
        "execution": {
          "iopub.status.busy": "2024-06-11T07:14:19.45398Z",
          "iopub.execute_input": "2024-06-11T07:14:19.454414Z",
          "iopub.status.idle": "2024-06-11T07:14:19.464507Z",
          "shell.execute_reply.started": "2024-06-11T07:14:19.454377Z",
          "shell.execute_reply": "2024-06-11T07:14:19.463477Z"
        },
        "trusted": true,
        "id": "4u7Qbtmy_sQ0"
      },
      "execution_count": null,
      "outputs": []
    },
    {
      "cell_type": "code",
      "source": [
        "df.head()"
      ],
      "metadata": {
        "execution": {
          "iopub.status.busy": "2024-06-11T07:14:19.465854Z",
          "iopub.execute_input": "2024-06-11T07:14:19.466244Z",
          "iopub.status.idle": "2024-06-11T07:14:19.488613Z",
          "shell.execute_reply.started": "2024-06-11T07:14:19.466209Z",
          "shell.execute_reply": "2024-06-11T07:14:19.487513Z"
        },
        "trusted": true,
        "id": "stA-PHIj_sQ0",
        "outputId": "a87e2c1f-acbb-4aaa-9377-3b7aca3086a3"
      },
      "execution_count": null,
      "outputs": [
        {
          "execution_count": 45,
          "output_type": "execute_result",
          "data": {
            "text/plain": "  Company   TypeName                         Cpu  Ram               Memory  \\\n0   Apple  Ultrabook        Intel Core i5 2.3GHz    8            128GB SSD   \n1   Apple  Ultrabook        Intel Core i5 1.8GHz    8  128GB Flash Storage   \n2      HP   Notebook  Intel Core i5 7200U 2.5GHz    8            256GB SSD   \n3   Apple  Ultrabook        Intel Core i7 2.7GHz   16            512GB SSD   \n4   Apple  Ultrabook        Intel Core i5 3.1GHz    8            256GB SSD   \n\n                            Gpu  OpSys  Weight        Price  Touchscreen  Ips  \\\n0  Intel Iris Plus Graphics 640  macOS    1.37   71378.6832            0    1   \n1        Intel HD Graphics 6000  macOS    1.34   47895.5232            0    0   \n2         Intel HD Graphics 620  No OS    1.86   30636.0000            0    0   \n3            AMD Radeon Pro 455  macOS    1.83  135195.3360            0    1   \n4  Intel Iris Plus Graphics 650  macOS    1.37   96095.8080            0    1   \n\n          Ppi  \n0  226.983005  \n1  127.677940  \n2  141.211998  \n3  220.534624  \n4  226.983005  ",
            "text/html": "<div>\n<style scoped>\n    .dataframe tbody tr th:only-of-type {\n        vertical-align: middle;\n    }\n\n    .dataframe tbody tr th {\n        vertical-align: top;\n    }\n\n    .dataframe thead th {\n        text-align: right;\n    }\n</style>\n<table border=\"1\" class=\"dataframe\">\n  <thead>\n    <tr style=\"text-align: right;\">\n      <th></th>\n      <th>Company</th>\n      <th>TypeName</th>\n      <th>Cpu</th>\n      <th>Ram</th>\n      <th>Memory</th>\n      <th>Gpu</th>\n      <th>OpSys</th>\n      <th>Weight</th>\n      <th>Price</th>\n      <th>Touchscreen</th>\n      <th>Ips</th>\n      <th>Ppi</th>\n    </tr>\n  </thead>\n  <tbody>\n    <tr>\n      <th>0</th>\n      <td>Apple</td>\n      <td>Ultrabook</td>\n      <td>Intel Core i5 2.3GHz</td>\n      <td>8</td>\n      <td>128GB SSD</td>\n      <td>Intel Iris Plus Graphics 640</td>\n      <td>macOS</td>\n      <td>1.37</td>\n      <td>71378.6832</td>\n      <td>0</td>\n      <td>1</td>\n      <td>226.983005</td>\n    </tr>\n    <tr>\n      <th>1</th>\n      <td>Apple</td>\n      <td>Ultrabook</td>\n      <td>Intel Core i5 1.8GHz</td>\n      <td>8</td>\n      <td>128GB Flash Storage</td>\n      <td>Intel HD Graphics 6000</td>\n      <td>macOS</td>\n      <td>1.34</td>\n      <td>47895.5232</td>\n      <td>0</td>\n      <td>0</td>\n      <td>127.677940</td>\n    </tr>\n    <tr>\n      <th>2</th>\n      <td>HP</td>\n      <td>Notebook</td>\n      <td>Intel Core i5 7200U 2.5GHz</td>\n      <td>8</td>\n      <td>256GB SSD</td>\n      <td>Intel HD Graphics 620</td>\n      <td>No OS</td>\n      <td>1.86</td>\n      <td>30636.0000</td>\n      <td>0</td>\n      <td>0</td>\n      <td>141.211998</td>\n    </tr>\n    <tr>\n      <th>3</th>\n      <td>Apple</td>\n      <td>Ultrabook</td>\n      <td>Intel Core i7 2.7GHz</td>\n      <td>16</td>\n      <td>512GB SSD</td>\n      <td>AMD Radeon Pro 455</td>\n      <td>macOS</td>\n      <td>1.83</td>\n      <td>135195.3360</td>\n      <td>0</td>\n      <td>1</td>\n      <td>220.534624</td>\n    </tr>\n    <tr>\n      <th>4</th>\n      <td>Apple</td>\n      <td>Ultrabook</td>\n      <td>Intel Core i5 3.1GHz</td>\n      <td>8</td>\n      <td>256GB SSD</td>\n      <td>Intel Iris Plus Graphics 650</td>\n      <td>macOS</td>\n      <td>1.37</td>\n      <td>96095.8080</td>\n      <td>0</td>\n      <td>1</td>\n      <td>226.983005</td>\n    </tr>\n  </tbody>\n</table>\n</div>"
          },
          "metadata": {}
        }
      ]
    },
    {
      "cell_type": "markdown",
      "source": [
        "# **Extract Important Data From CPU Columns**"
      ],
      "metadata": {
        "id": "MBsVc98c_sQ0"
      }
    },
    {
      "cell_type": "code",
      "source": [
        "df['Cpu'].value_counts()"
      ],
      "metadata": {
        "execution": {
          "iopub.status.busy": "2024-06-11T07:14:19.489847Z",
          "iopub.execute_input": "2024-06-11T07:14:19.490158Z",
          "iopub.status.idle": "2024-06-11T07:14:19.504857Z",
          "shell.execute_reply.started": "2024-06-11T07:14:19.490122Z",
          "shell.execute_reply": "2024-06-11T07:14:19.503329Z"
        },
        "trusted": true,
        "id": "RuvDgvWV_sQ0",
        "outputId": "2612a3eb-81fd-4e8a-89b5-0599f3e36276"
      },
      "execution_count": null,
      "outputs": [
        {
          "execution_count": 46,
          "output_type": "execute_result",
          "data": {
            "text/plain": "Cpu\nIntel Core i5 7200U 2.5GHz       190\nIntel Core i7 7700HQ 2.8GHz      146\nIntel Core i7 7500U 2.7GHz       134\nIntel Core i7 8550U 1.8GHz        73\nIntel Core i5 8250U 1.6GHz        72\n                                ... \nIntel Core M M3-6Y30 0.9GHz        1\nAMD A9-Series 9420 2.9GHz          1\nIntel Core i3 6006U 2.2GHz         1\nAMD A6-Series 7310 2GHz            1\nIntel Xeon E3-1535M v6 3.1GHz      1\nName: count, Length: 118, dtype: int64"
          },
          "metadata": {}
        }
      ]
    },
    {
      "cell_type": "code",
      "source": [
        "df['Cpu Naam']=df['Cpu'].apply(lambda x:\" \".join(x.split()[0:3]))"
      ],
      "metadata": {
        "execution": {
          "iopub.status.busy": "2024-06-11T07:14:19.506282Z",
          "iopub.execute_input": "2024-06-11T07:14:19.506753Z",
          "iopub.status.idle": "2024-06-11T07:14:19.519663Z",
          "shell.execute_reply.started": "2024-06-11T07:14:19.506695Z",
          "shell.execute_reply": "2024-06-11T07:14:19.518377Z"
        },
        "trusted": true,
        "id": "Wg7zUiAT_sQ1"
      },
      "execution_count": null,
      "outputs": []
    },
    {
      "cell_type": "code",
      "source": [
        "df.head()"
      ],
      "metadata": {
        "execution": {
          "iopub.status.busy": "2024-06-11T07:14:19.521053Z",
          "iopub.execute_input": "2024-06-11T07:14:19.521402Z",
          "iopub.status.idle": "2024-06-11T07:14:19.549519Z",
          "shell.execute_reply.started": "2024-06-11T07:14:19.521372Z",
          "shell.execute_reply": "2024-06-11T07:14:19.548445Z"
        },
        "trusted": true,
        "id": "3KxsSRAJ_sQ1",
        "outputId": "bf914bb9-d0f4-4a9b-b1ad-b7598ab57074"
      },
      "execution_count": null,
      "outputs": [
        {
          "execution_count": 48,
          "output_type": "execute_result",
          "data": {
            "text/plain": "  Company   TypeName                         Cpu  Ram               Memory  \\\n0   Apple  Ultrabook        Intel Core i5 2.3GHz    8            128GB SSD   \n1   Apple  Ultrabook        Intel Core i5 1.8GHz    8  128GB Flash Storage   \n2      HP   Notebook  Intel Core i5 7200U 2.5GHz    8            256GB SSD   \n3   Apple  Ultrabook        Intel Core i7 2.7GHz   16            512GB SSD   \n4   Apple  Ultrabook        Intel Core i5 3.1GHz    8            256GB SSD   \n\n                            Gpu  OpSys  Weight        Price  Touchscreen  Ips  \\\n0  Intel Iris Plus Graphics 640  macOS    1.37   71378.6832            0    1   \n1        Intel HD Graphics 6000  macOS    1.34   47895.5232            0    0   \n2         Intel HD Graphics 620  No OS    1.86   30636.0000            0    0   \n3            AMD Radeon Pro 455  macOS    1.83  135195.3360            0    1   \n4  Intel Iris Plus Graphics 650  macOS    1.37   96095.8080            0    1   \n\n          Ppi       Cpu Naam  \n0  226.983005  Intel Core i5  \n1  127.677940  Intel Core i5  \n2  141.211998  Intel Core i5  \n3  220.534624  Intel Core i7  \n4  226.983005  Intel Core i5  ",
            "text/html": "<div>\n<style scoped>\n    .dataframe tbody tr th:only-of-type {\n        vertical-align: middle;\n    }\n\n    .dataframe tbody tr th {\n        vertical-align: top;\n    }\n\n    .dataframe thead th {\n        text-align: right;\n    }\n</style>\n<table border=\"1\" class=\"dataframe\">\n  <thead>\n    <tr style=\"text-align: right;\">\n      <th></th>\n      <th>Company</th>\n      <th>TypeName</th>\n      <th>Cpu</th>\n      <th>Ram</th>\n      <th>Memory</th>\n      <th>Gpu</th>\n      <th>OpSys</th>\n      <th>Weight</th>\n      <th>Price</th>\n      <th>Touchscreen</th>\n      <th>Ips</th>\n      <th>Ppi</th>\n      <th>Cpu Naam</th>\n    </tr>\n  </thead>\n  <tbody>\n    <tr>\n      <th>0</th>\n      <td>Apple</td>\n      <td>Ultrabook</td>\n      <td>Intel Core i5 2.3GHz</td>\n      <td>8</td>\n      <td>128GB SSD</td>\n      <td>Intel Iris Plus Graphics 640</td>\n      <td>macOS</td>\n      <td>1.37</td>\n      <td>71378.6832</td>\n      <td>0</td>\n      <td>1</td>\n      <td>226.983005</td>\n      <td>Intel Core i5</td>\n    </tr>\n    <tr>\n      <th>1</th>\n      <td>Apple</td>\n      <td>Ultrabook</td>\n      <td>Intel Core i5 1.8GHz</td>\n      <td>8</td>\n      <td>128GB Flash Storage</td>\n      <td>Intel HD Graphics 6000</td>\n      <td>macOS</td>\n      <td>1.34</td>\n      <td>47895.5232</td>\n      <td>0</td>\n      <td>0</td>\n      <td>127.677940</td>\n      <td>Intel Core i5</td>\n    </tr>\n    <tr>\n      <th>2</th>\n      <td>HP</td>\n      <td>Notebook</td>\n      <td>Intel Core i5 7200U 2.5GHz</td>\n      <td>8</td>\n      <td>256GB SSD</td>\n      <td>Intel HD Graphics 620</td>\n      <td>No OS</td>\n      <td>1.86</td>\n      <td>30636.0000</td>\n      <td>0</td>\n      <td>0</td>\n      <td>141.211998</td>\n      <td>Intel Core i5</td>\n    </tr>\n    <tr>\n      <th>3</th>\n      <td>Apple</td>\n      <td>Ultrabook</td>\n      <td>Intel Core i7 2.7GHz</td>\n      <td>16</td>\n      <td>512GB SSD</td>\n      <td>AMD Radeon Pro 455</td>\n      <td>macOS</td>\n      <td>1.83</td>\n      <td>135195.3360</td>\n      <td>0</td>\n      <td>1</td>\n      <td>220.534624</td>\n      <td>Intel Core i7</td>\n    </tr>\n    <tr>\n      <th>4</th>\n      <td>Apple</td>\n      <td>Ultrabook</td>\n      <td>Intel Core i5 3.1GHz</td>\n      <td>8</td>\n      <td>256GB SSD</td>\n      <td>Intel Iris Plus Graphics 650</td>\n      <td>macOS</td>\n      <td>1.37</td>\n      <td>96095.8080</td>\n      <td>0</td>\n      <td>1</td>\n      <td>226.983005</td>\n      <td>Intel Core i5</td>\n    </tr>\n  </tbody>\n</table>\n</div>"
          },
          "metadata": {}
        }
      ]
    },
    {
      "cell_type": "code",
      "source": [
        "def processor(text):\n",
        "    if text == 'Intel Core i7' or text == 'Intel Core i5' or text == 'Intel Core i3':\n",
        "        return text\n",
        "    else:\n",
        "        if text.split()[0] == 'Intel':\n",
        "            return 'Other Intel Processor'\n",
        "        else:\n",
        "            return 'AMD Processor'"
      ],
      "metadata": {
        "execution": {
          "iopub.status.busy": "2024-06-11T07:14:19.550859Z",
          "iopub.execute_input": "2024-06-11T07:14:19.551204Z",
          "iopub.status.idle": "2024-06-11T07:14:19.56087Z",
          "shell.execute_reply.started": "2024-06-11T07:14:19.551177Z",
          "shell.execute_reply": "2024-06-11T07:14:19.559621Z"
        },
        "trusted": true,
        "id": "wYfj41Nd_sQ1"
      },
      "execution_count": null,
      "outputs": []
    },
    {
      "cell_type": "code",
      "source": [
        "df['Cpu brand']=df['Cpu Naam'].apply(processor)"
      ],
      "metadata": {
        "execution": {
          "iopub.status.busy": "2024-06-11T07:14:19.56223Z",
          "iopub.execute_input": "2024-06-11T07:14:19.562553Z",
          "iopub.status.idle": "2024-06-11T07:14:19.576002Z",
          "shell.execute_reply.started": "2024-06-11T07:14:19.562526Z",
          "shell.execute_reply": "2024-06-11T07:14:19.574722Z"
        },
        "trusted": true,
        "id": "51TF3b4D_sQ1"
      },
      "execution_count": null,
      "outputs": []
    },
    {
      "cell_type": "code",
      "source": [
        "df.head()"
      ],
      "metadata": {
        "execution": {
          "iopub.status.busy": "2024-06-11T07:14:19.577774Z",
          "iopub.execute_input": "2024-06-11T07:14:19.578208Z",
          "iopub.status.idle": "2024-06-11T07:14:19.603363Z",
          "shell.execute_reply.started": "2024-06-11T07:14:19.578158Z",
          "shell.execute_reply": "2024-06-11T07:14:19.602109Z"
        },
        "trusted": true,
        "id": "u4OwW5PU_sQ1",
        "outputId": "819705cf-e5a9-43bd-84f1-ab070385160c"
      },
      "execution_count": null,
      "outputs": [
        {
          "execution_count": 51,
          "output_type": "execute_result",
          "data": {
            "text/plain": "  Company   TypeName                         Cpu  Ram               Memory  \\\n0   Apple  Ultrabook        Intel Core i5 2.3GHz    8            128GB SSD   \n1   Apple  Ultrabook        Intel Core i5 1.8GHz    8  128GB Flash Storage   \n2      HP   Notebook  Intel Core i5 7200U 2.5GHz    8            256GB SSD   \n3   Apple  Ultrabook        Intel Core i7 2.7GHz   16            512GB SSD   \n4   Apple  Ultrabook        Intel Core i5 3.1GHz    8            256GB SSD   \n\n                            Gpu  OpSys  Weight        Price  Touchscreen  Ips  \\\n0  Intel Iris Plus Graphics 640  macOS    1.37   71378.6832            0    1   \n1        Intel HD Graphics 6000  macOS    1.34   47895.5232            0    0   \n2         Intel HD Graphics 620  No OS    1.86   30636.0000            0    0   \n3            AMD Radeon Pro 455  macOS    1.83  135195.3360            0    1   \n4  Intel Iris Plus Graphics 650  macOS    1.37   96095.8080            0    1   \n\n          Ppi       Cpu Naam      Cpu brand  \n0  226.983005  Intel Core i5  Intel Core i5  \n1  127.677940  Intel Core i5  Intel Core i5  \n2  141.211998  Intel Core i5  Intel Core i5  \n3  220.534624  Intel Core i7  Intel Core i7  \n4  226.983005  Intel Core i5  Intel Core i5  ",
            "text/html": "<div>\n<style scoped>\n    .dataframe tbody tr th:only-of-type {\n        vertical-align: middle;\n    }\n\n    .dataframe tbody tr th {\n        vertical-align: top;\n    }\n\n    .dataframe thead th {\n        text-align: right;\n    }\n</style>\n<table border=\"1\" class=\"dataframe\">\n  <thead>\n    <tr style=\"text-align: right;\">\n      <th></th>\n      <th>Company</th>\n      <th>TypeName</th>\n      <th>Cpu</th>\n      <th>Ram</th>\n      <th>Memory</th>\n      <th>Gpu</th>\n      <th>OpSys</th>\n      <th>Weight</th>\n      <th>Price</th>\n      <th>Touchscreen</th>\n      <th>Ips</th>\n      <th>Ppi</th>\n      <th>Cpu Naam</th>\n      <th>Cpu brand</th>\n    </tr>\n  </thead>\n  <tbody>\n    <tr>\n      <th>0</th>\n      <td>Apple</td>\n      <td>Ultrabook</td>\n      <td>Intel Core i5 2.3GHz</td>\n      <td>8</td>\n      <td>128GB SSD</td>\n      <td>Intel Iris Plus Graphics 640</td>\n      <td>macOS</td>\n      <td>1.37</td>\n      <td>71378.6832</td>\n      <td>0</td>\n      <td>1</td>\n      <td>226.983005</td>\n      <td>Intel Core i5</td>\n      <td>Intel Core i5</td>\n    </tr>\n    <tr>\n      <th>1</th>\n      <td>Apple</td>\n      <td>Ultrabook</td>\n      <td>Intel Core i5 1.8GHz</td>\n      <td>8</td>\n      <td>128GB Flash Storage</td>\n      <td>Intel HD Graphics 6000</td>\n      <td>macOS</td>\n      <td>1.34</td>\n      <td>47895.5232</td>\n      <td>0</td>\n      <td>0</td>\n      <td>127.677940</td>\n      <td>Intel Core i5</td>\n      <td>Intel Core i5</td>\n    </tr>\n    <tr>\n      <th>2</th>\n      <td>HP</td>\n      <td>Notebook</td>\n      <td>Intel Core i5 7200U 2.5GHz</td>\n      <td>8</td>\n      <td>256GB SSD</td>\n      <td>Intel HD Graphics 620</td>\n      <td>No OS</td>\n      <td>1.86</td>\n      <td>30636.0000</td>\n      <td>0</td>\n      <td>0</td>\n      <td>141.211998</td>\n      <td>Intel Core i5</td>\n      <td>Intel Core i5</td>\n    </tr>\n    <tr>\n      <th>3</th>\n      <td>Apple</td>\n      <td>Ultrabook</td>\n      <td>Intel Core i7 2.7GHz</td>\n      <td>16</td>\n      <td>512GB SSD</td>\n      <td>AMD Radeon Pro 455</td>\n      <td>macOS</td>\n      <td>1.83</td>\n      <td>135195.3360</td>\n      <td>0</td>\n      <td>1</td>\n      <td>220.534624</td>\n      <td>Intel Core i7</td>\n      <td>Intel Core i7</td>\n    </tr>\n    <tr>\n      <th>4</th>\n      <td>Apple</td>\n      <td>Ultrabook</td>\n      <td>Intel Core i5 3.1GHz</td>\n      <td>8</td>\n      <td>256GB SSD</td>\n      <td>Intel Iris Plus Graphics 650</td>\n      <td>macOS</td>\n      <td>1.37</td>\n      <td>96095.8080</td>\n      <td>0</td>\n      <td>1</td>\n      <td>226.983005</td>\n      <td>Intel Core i5</td>\n      <td>Intel Core i5</td>\n    </tr>\n  </tbody>\n</table>\n</div>"
          },
          "metadata": {}
        }
      ]
    },
    {
      "cell_type": "code",
      "source": [
        "df['Cpu brand'].value_counts().plot(kind='bar')"
      ],
      "metadata": {
        "execution": {
          "iopub.status.busy": "2024-06-11T07:14:19.604805Z",
          "iopub.execute_input": "2024-06-11T07:14:19.605324Z",
          "iopub.status.idle": "2024-06-11T07:14:19.851238Z",
          "shell.execute_reply.started": "2024-06-11T07:14:19.605282Z",
          "shell.execute_reply": "2024-06-11T07:14:19.850073Z"
        },
        "trusted": true,
        "id": "Zl_0V72U_sQ2",
        "outputId": "0664dc07-3a6b-46c0-efce-363b21f3439e"
      },
      "execution_count": null,
      "outputs": [
        {
          "execution_count": 52,
          "output_type": "execute_result",
          "data": {
            "text/plain": "<Axes: xlabel='Cpu brand'>"
          },
          "metadata": {}
        },
        {
          "output_type": "display_data",
          "data": {
            "text/plain": "<Figure size 640x480 with 1 Axes>",
            "image/png": "[encoded data removed]"
          },
          "metadata": {}
        }
      ]
    },
    {
      "cell_type": "code",
      "source": [
        "sns.barplot(x=df['Cpu brand'],y=df['Price'])"
      ],
      "metadata": {
        "execution": {
          "iopub.status.busy": "2024-06-11T07:14:19.852463Z",
          "iopub.execute_input": "2024-06-11T07:14:19.852775Z",
          "iopub.status.idle": "2024-06-11T07:14:20.151947Z",
          "shell.execute_reply.started": "2024-06-11T07:14:19.852749Z",
          "shell.execute_reply": "2024-06-11T07:14:20.150905Z"
        },
        "trusted": true,
        "id": "bbeeDtR6_sQ2",
        "outputId": "4cca5346-5dc5-44b4-d3c8-cd9d312ebefa"
      },
      "execution_count": null,
      "outputs": [
        {
          "execution_count": 53,
          "output_type": "execute_result",
          "data": {
            "text/plain": "<Axes: xlabel='Cpu brand', ylabel='Price'>"
          },
          "metadata": {}
        },
        {
          "output_type": "display_data",
          "data": {
            "text/plain": "<Figure size 640x480 with 1 Axes>",
            "image/png": "[encoded data removed]"
          },
          "metadata": {}
        }
      ]
    },
    {
      "cell_type": "code",
      "source": [
        "df.drop(columns=['Cpu','Cpu Naam'],inplace=True)"
      ],
      "metadata": {
        "execution": {
          "iopub.status.busy": "2024-06-11T07:14:20.153082Z",
          "iopub.execute_input": "2024-06-11T07:14:20.153469Z",
          "iopub.status.idle": "2024-06-11T07:14:20.159954Z",
          "shell.execute_reply.started": "2024-06-11T07:14:20.153434Z",
          "shell.execute_reply": "2024-06-11T07:14:20.158781Z"
        },
        "trusted": true,
        "id": "yQQCkZoR_sQ2"
      },
      "execution_count": null,
      "outputs": []
    },
    {
      "cell_type": "code",
      "source": [
        "df.head()"
      ],
      "metadata": {
        "execution": {
          "iopub.status.busy": "2024-06-11T07:14:20.161233Z",
          "iopub.execute_input": "2024-06-11T07:14:20.1616Z",
          "iopub.status.idle": "2024-06-11T07:14:20.184086Z",
          "shell.execute_reply.started": "2024-06-11T07:14:20.161572Z",
          "shell.execute_reply": "2024-06-11T07:14:20.182876Z"
        },
        "trusted": true,
        "id": "sS62yAD5_sQ3",
        "outputId": "f6ea1e1c-1a7d-421b-d232-9330c1cca4af"
      },
      "execution_count": null,
      "outputs": [
        {
          "execution_count": 55,
          "output_type": "execute_result",
          "data": {
            "text/plain": "  Company   TypeName  Ram               Memory                           Gpu  \\\n0   Apple  Ultrabook    8            128GB SSD  Intel Iris Plus Graphics 640   \n1   Apple  Ultrabook    8  128GB Flash Storage        Intel HD Graphics 6000   \n2      HP   Notebook    8            256GB SSD         Intel HD Graphics 620   \n3   Apple  Ultrabook   16            512GB SSD            AMD Radeon Pro 455   \n4   Apple  Ultrabook    8            256GB SSD  Intel Iris Plus Graphics 650   \n\n   OpSys  Weight        Price  Touchscreen  Ips         Ppi      Cpu brand  \n0  macOS    1.37   71378.6832            0    1  226.983005  Intel Core i5  \n1  macOS    1.34   47895.5232            0    0  127.677940  Intel Core i5  \n2  No OS    1.86   30636.0000            0    0  141.211998  Intel Core i5  \n3  macOS    1.83  135195.3360            0    1  220.534624  Intel Core i7  \n4  macOS    1.37   96095.8080            0    1  226.983005  Intel Core i5  ",
            "text/html": "<div>\n<style scoped>\n    .dataframe tbody tr th:only-of-type {\n        vertical-align: middle;\n    }\n\n    .dataframe tbody tr th {\n        vertical-align: top;\n    }\n\n    .dataframe thead th {\n        text-align: right;\n    }\n</style>\n<table border=\"1\" class=\"dataframe\">\n  <thead>\n    <tr style=\"text-align: right;\">\n      <th></th>\n      <th>Company</th>\n      <th>TypeName</th>\n      <th>Ram</th>\n      <th>Memory</th>\n      <th>Gpu</th>\n      <th>OpSys</th>\n      <th>Weight</th>\n      <th>Price</th>\n      <th>Touchscreen</th>\n      <th>Ips</th>\n      <th>Ppi</th>\n      <th>Cpu brand</th>\n    </tr>\n  </thead>\n  <tbody>\n    <tr>\n      <th>0</th>\n      <td>Apple</td>\n      <td>Ultrabook</td>\n      <td>8</td>\n      <td>128GB SSD</td>\n      <td>Intel Iris Plus Graphics 640</td>\n      <td>macOS</td>\n      <td>1.37</td>\n      <td>71378.6832</td>\n      <td>0</td>\n      <td>1</td>\n      <td>226.983005</td>\n      <td>Intel Core i5</td>\n    </tr>\n    <tr>\n      <th>1</th>\n      <td>Apple</td>\n      <td>Ultrabook</td>\n      <td>8</td>\n      <td>128GB Flash Storage</td>\n      <td>Intel HD Graphics 6000</td>\n      <td>macOS</td>\n      <td>1.34</td>\n      <td>47895.5232</td>\n      <td>0</td>\n      <td>0</td>\n      <td>127.677940</td>\n      <td>Intel Core i5</td>\n    </tr>\n    <tr>\n      <th>2</th>\n      <td>HP</td>\n      <td>Notebook</td>\n      <td>8</td>\n      <td>256GB SSD</td>\n      <td>Intel HD Graphics 620</td>\n      <td>No OS</td>\n      <td>1.86</td>\n      <td>30636.0000</td>\n      <td>0</td>\n      <td>0</td>\n      <td>141.211998</td>\n      <td>Intel Core i5</td>\n    </tr>\n    <tr>\n      <th>3</th>\n      <td>Apple</td>\n      <td>Ultrabook</td>\n      <td>16</td>\n      <td>512GB SSD</td>\n      <td>AMD Radeon Pro 455</td>\n      <td>macOS</td>\n      <td>1.83</td>\n      <td>135195.3360</td>\n      <td>0</td>\n      <td>1</td>\n      <td>220.534624</td>\n      <td>Intel Core i7</td>\n    </tr>\n    <tr>\n      <th>4</th>\n      <td>Apple</td>\n      <td>Ultrabook</td>\n      <td>8</td>\n      <td>256GB SSD</td>\n      <td>Intel Iris Plus Graphics 650</td>\n      <td>macOS</td>\n      <td>1.37</td>\n      <td>96095.8080</td>\n      <td>0</td>\n      <td>1</td>\n      <td>226.983005</td>\n      <td>Intel Core i5</td>\n    </tr>\n  </tbody>\n</table>\n</div>"
          },
          "metadata": {}
        }
      ]
    },
    {
      "cell_type": "markdown",
      "source": [
        "# **For Ram**"
      ],
      "metadata": {
        "id": "A1Vo374l_sQ3"
      }
    },
    {
      "cell_type": "code",
      "source": [
        "df['Ram'].value_counts().plot(kind='bar')"
      ],
      "metadata": {
        "execution": {
          "iopub.status.busy": "2024-06-11T07:14:20.185326Z",
          "iopub.execute_input": "2024-06-11T07:14:20.185675Z",
          "iopub.status.idle": "2024-06-11T07:14:20.414764Z",
          "shell.execute_reply.started": "2024-06-11T07:14:20.185648Z",
          "shell.execute_reply": "2024-06-11T07:14:20.413581Z"
        },
        "trusted": true,
        "id": "YrwKHpjO_sQ3",
        "outputId": "66676221-34ba-4bf4-c9ad-475aa6009a68"
      },
      "execution_count": null,
      "outputs": [
        {
          "execution_count": 56,
          "output_type": "execute_result",
          "data": {
            "text/plain": "<Axes: xlabel='Ram'>"
          },
          "metadata": {}
        },
        {
          "output_type": "display_data",
          "data": {
            "text/plain": "<Figure size 640x480 with 1 Axes>",
            "image/png": "[encoded data removed]"
          },
          "metadata": {}
        }
      ]
    },
    {
      "cell_type": "code",
      "source": [
        "sns.barplot(x=df['Ram'],y=df['Price'])"
      ],
      "metadata": {
        "execution": {
          "iopub.status.busy": "2024-06-11T07:14:20.416042Z",
          "iopub.execute_input": "2024-06-11T07:14:20.416392Z",
          "iopub.status.idle": "2024-06-11T07:14:20.883206Z",
          "shell.execute_reply.started": "2024-06-11T07:14:20.416362Z",
          "shell.execute_reply": "2024-06-11T07:14:20.8819Z"
        },
        "trusted": true,
        "id": "IEHVhMha_sQ3",
        "outputId": "8f24a2d0-0a63-42c4-87da-76fdd082cafe"
      },
      "execution_count": null,
      "outputs": [
        {
          "execution_count": 57,
          "output_type": "execute_result",
          "data": {
            "text/plain": "<Axes: xlabel='Ram', ylabel='Price'>"
          },
          "metadata": {}
        },
        {
          "output_type": "display_data",
          "data": {
            "text/plain": "<Figure size 640x480 with 1 Axes>",
            "image/png": "[encoded data removed]"
          },
          "metadata": {}
        }
      ]
    },
    {
      "cell_type": "markdown",
      "source": [],
      "metadata": {
        "id": "lq9AU0hy_sQ3"
      }
    },
    {
      "cell_type": "markdown",
      "source": [
        "# **For Memory Columns  Make Four Different Columns**"
      ],
      "metadata": {
        "id": "T23DPxR5_sQ3"
      }
    },
    {
      "cell_type": "code",
      "source": [
        "df['Memory'].value_counts()"
      ],
      "metadata": {
        "execution": {
          "iopub.status.busy": "2024-06-11T07:14:20.884838Z",
          "iopub.execute_input": "2024-06-11T07:14:20.885244Z",
          "iopub.status.idle": "2024-06-11T07:14:20.8958Z",
          "shell.execute_reply.started": "2024-06-11T07:14:20.885212Z",
          "shell.execute_reply": "2024-06-11T07:14:20.894636Z"
        },
        "trusted": true,
        "id": "SXyZ6V0e_sQ3",
        "outputId": "c22079f1-10f0-4e96-ee93-cb68bb387619"
      },
      "execution_count": null,
      "outputs": [
        {
          "execution_count": 58,
          "output_type": "execute_result",
          "data": {
            "text/plain": "Memory\n256GB SSD                        412\n1TB HDD                          223\n500GB HDD                        132\n512GB SSD                        118\n128GB SSD +  1TB HDD              94\n128GB SSD                         76\n256GB SSD +  1TB HDD              73\n32GB Flash Storage                38\n2TB HDD                           16\n64GB Flash Storage                15\n512GB SSD +  1TB HDD              14\n1TB SSD                           14\n256GB SSD +  2TB HDD              10\n1.0TB Hybrid                       9\n256GB Flash Storage                8\n16GB Flash Storage                 7\n32GB SSD                           6\n180GB SSD                          5\n128GB Flash Storage                4\n512GB SSD +  2TB HDD               3\n16GB SSD                           3\n512GB Flash Storage                2\n1TB SSD +  1TB HDD                 2\n256GB SSD +  500GB HDD             2\n128GB SSD +  2TB HDD               2\n256GB SSD +  256GB SSD             2\n512GB SSD +  256GB SSD             1\n512GB SSD +  512GB SSD             1\n64GB Flash Storage +  1TB HDD      1\n1TB HDD +  1TB HDD                 1\n32GB HDD                           1\n64GB SSD                           1\n128GB HDD                          1\n240GB SSD                          1\n8GB SSD                            1\n508GB Hybrid                       1\n1.0TB HDD                          1\n512GB SSD +  1.0TB Hybrid          1\n256GB SSD +  1.0TB Hybrid          1\nName: count, dtype: int64"
          },
          "metadata": {}
        }
      ]
    },
    {
      "cell_type": "code",
      "source": [
        "df['Memory'] = df['Memory'].astype(str).replace('\\.0', '', regex=True)\n",
        "df[\"Memory\"] = df[\"Memory\"].str.replace('GB', '')\n",
        "df[\"Memory\"] = df[\"Memory\"].str.replace('TB', '000')\n",
        "new = df[\"Memory\"].str.split(\"+\", n = 1, expand = True)\n",
        "\n",
        "df[\"first\"]= new[0]\n",
        "df[\"first\"]=df[\"first\"].str.strip()\n",
        "\n",
        "df[\"second\"]= new[1]\n",
        "\n",
        "df[\"Layer1HDD\"] = df[\"first\"].apply(lambda x: 1 if \"HDD\" in x else 0)\n",
        "df[\"Layer1SSD\"] = df[\"first\"].apply(lambda x: 1 if \"SSD\" in x else 0)\n",
        "df[\"Layer1Hybrid\"] = df[\"first\"].apply(lambda x: 1 if \"Hybrid\" in x else 0)\n",
        "df[\"Layer1Flash_Storage\"] = df[\"first\"].apply(lambda x: 1 if \"Flash Storage\" in x else 0)\n",
        "\n",
        "df['first'] = df['first'].str.replace(r'\\D', '')\n",
        "\n",
        "df[\"second\"].fillna(\"0\", inplace = True)\n",
        "\n",
        "df[\"Layer2HDD\"] = df[\"second\"].apply(lambda x: 1 if \"HDD\" in x else 0)\n",
        "df[\"Layer2SSD\"] = df[\"second\"].apply(lambda x: 1 if \"SSD\" in x else 0)\n",
        "df[\"Layer2Hybrid\"] = df[\"second\"].apply(lambda x: 1 if \"Hybrid\" in x else 0)\n",
        "df[\"Layer2Flash_Storage\"] = df[\"second\"].apply(lambda x: 1 if \"Flash Storage\" in x else 0)\n",
        "\n",
        "df['second'] = df['second'].str.replace(r'\\D', '')\n",
        "\n",
        "# df[\"first\"] = df[\"first\"].astype(int)\n",
        "# df[\"second\"] = df[\"second\"].astype(int)\n",
        "\n",
        "df[\"HDD\"]=(df[\"first\"]*df[\"Layer1HDD\"]+df[\"second\"]*df[\"Layer2HDD\"])\n",
        "df[\"SSD\"]=(df[\"first\"]*df[\"Layer1SSD\"]+df[\"second\"]*df[\"Layer2SSD\"])\n",
        "df[\"Hybrid\"]=(df[\"first\"]*df[\"Layer1Hybrid\"]+df[\"second\"]*df[\"Layer2Hybrid\"])\n",
        "df[\"Flash_Storage\"]=(df[\"first\"]*df[\"Layer1Flash_Storage\"]+df[\"second\"]*df[\"Layer2Flash_Storage\"])\n",
        "\n",
        "df.drop(columns=['first', 'second', 'Layer1HDD', 'Layer1SSD', 'Layer1Hybrid',\n",
        "       'Layer1Flash_Storage', 'Layer2HDD', 'Layer2SSD', 'Layer2Hybrid',\n",
        "       'Layer2Flash_Storage'],inplace=True)"
      ],
      "metadata": {
        "execution": {
          "iopub.status.busy": "2024-06-11T07:14:20.897217Z",
          "iopub.execute_input": "2024-06-11T07:14:20.897623Z",
          "iopub.status.idle": "2024-06-11T07:14:20.942297Z",
          "shell.execute_reply.started": "2024-06-11T07:14:20.897586Z",
          "shell.execute_reply": "2024-06-11T07:14:20.941055Z"
        },
        "trusted": true,
        "id": "3HEp5ym8_sQ4",
        "outputId": "c9b15659-90bb-414c-9028-6719740d803d"
      },
      "execution_count": null,
      "outputs": [
        {
          "name": "stderr",
          "text": "/tmp/ipykernel_33/95443796.py:18: FutureWarning: A value is trying to be set on a copy of a DataFrame or Series through chained assignment using an inplace method.\nThe behavior will change in pandas 3.0. This inplace method will never work because the intermediate object on which we are setting values always behaves as a copy.\n\nFor example, when doing 'df[col].method(value, inplace=True)', try using 'df.method({col: value}, inplace=True)' or df[col] = df[col].method(value) instead, to perform the operation inplace on the original object.\n\n\n  df[\"second\"].fillna(\"0\", inplace = True)\n",
          "output_type": "stream"
        }
      ]
    },
    {
      "cell_type": "code",
      "source": [
        "df.head()"
      ],
      "metadata": {
        "execution": {
          "iopub.status.busy": "2024-06-11T07:14:20.943532Z",
          "iopub.execute_input": "2024-06-11T07:14:20.943849Z",
          "iopub.status.idle": "2024-06-11T07:14:20.971995Z",
          "shell.execute_reply.started": "2024-06-11T07:14:20.943823Z",
          "shell.execute_reply": "2024-06-11T07:14:20.970821Z"
        },
        "trusted": true,
        "id": "9pOJPBHF_sQ4",
        "outputId": "c6f022d6-1cf2-4a17-c7f7-b5f955121676"
      },
      "execution_count": null,
      "outputs": [
        {
          "execution_count": 60,
          "output_type": "execute_result",
          "data": {
            "text/plain": "  Company   TypeName  Ram             Memory                           Gpu  \\\n0   Apple  Ultrabook    8            128 SSD  Intel Iris Plus Graphics 640   \n1   Apple  Ultrabook    8  128 Flash Storage        Intel HD Graphics 6000   \n2      HP   Notebook    8            256 SSD         Intel HD Graphics 620   \n3   Apple  Ultrabook   16            512 SSD            AMD Radeon Pro 455   \n4   Apple  Ultrabook    8            256 SSD  Intel Iris Plus Graphics 650   \n\n   OpSys  Weight        Price  Touchscreen  Ips         Ppi      Cpu brand  \\\n0  macOS    1.37   71378.6832            0    1  226.983005  Intel Core i5   \n1  macOS    1.34   47895.5232            0    0  127.677940  Intel Core i5   \n2  No OS    1.86   30636.0000            0    0  141.211998  Intel Core i5   \n3  macOS    1.83  135195.3360            0    1  220.534624  Intel Core i7   \n4  macOS    1.37   96095.8080            0    1  226.983005  Intel Core i5   \n\n  HDD      SSD Hybrid      Flash_Storage  \n0      128 SSD                            \n1                      128 Flash Storage  \n2      256 SSD                            \n3      512 SSD                            \n4      256 SSD                            ",
            "text/html": "<div>\n<style scoped>\n    .dataframe tbody tr th:only-of-type {\n        vertical-align: middle;\n    }\n\n    .dataframe tbody tr th {\n        vertical-align: top;\n    }\n\n    .dataframe thead th {\n        text-align: right;\n    }\n</style>\n<table border=\"1\" class=\"dataframe\">\n  <thead>\n    <tr style=\"text-align: right;\">\n      <th></th>\n      <th>Company</th>\n      <th>TypeName</th>\n      <th>Ram</th>\n      <th>Memory</th>\n      <th>Gpu</th>\n      <th>OpSys</th>\n      <th>Weight</th>\n      <th>Price</th>\n      <th>Touchscreen</th>\n      <th>Ips</th>\n      <th>Ppi</th>\n      <th>Cpu brand</th>\n      <th>HDD</th>\n      <th>SSD</th>\n      <th>Hybrid</th>\n      <th>Flash_Storage</th>\n    </tr>\n  </thead>\n  <tbody>\n    <tr>\n      <th>0</th>\n      <td>Apple</td>\n      <td>Ultrabook</td>\n      <td>8</td>\n      <td>128 SSD</td>\n      <td>Intel Iris Plus Graphics 640</td>\n      <td>macOS</td>\n      <td>1.37</td>\n      <td>71378.6832</td>\n      <td>0</td>\n      <td>1</td>\n      <td>226.983005</td>\n      <td>Intel Core i5</td>\n      <td></td>\n      <td>128 SSD</td>\n      <td></td>\n      <td></td>\n    </tr>\n    <tr>\n      <th>1</th>\n      <td>Apple</td>\n      <td>Ultrabook</td>\n      <td>8</td>\n      <td>128 Flash Storage</td>\n      <td>Intel HD Graphics 6000</td>\n      <td>macOS</td>\n      <td>1.34</td>\n      <td>47895.5232</td>\n      <td>0</td>\n      <td>0</td>\n      <td>127.677940</td>\n      <td>Intel Core i5</td>\n      <td></td>\n      <td></td>\n      <td></td>\n      <td>128 Flash Storage</td>\n    </tr>\n    <tr>\n      <th>2</th>\n      <td>HP</td>\n      <td>Notebook</td>\n      <td>8</td>\n      <td>256 SSD</td>\n      <td>Intel HD Graphics 620</td>\n      <td>No OS</td>\n      <td>1.86</td>\n      <td>30636.0000</td>\n      <td>0</td>\n      <td>0</td>\n      <td>141.211998</td>\n      <td>Intel Core i5</td>\n      <td></td>\n      <td>256 SSD</td>\n      <td></td>\n      <td></td>\n    </tr>\n    <tr>\n      <th>3</th>\n      <td>Apple</td>\n      <td>Ultrabook</td>\n      <td>16</td>\n      <td>512 SSD</td>\n      <td>AMD Radeon Pro 455</td>\n      <td>macOS</td>\n      <td>1.83</td>\n      <td>135195.3360</td>\n      <td>0</td>\n      <td>1</td>\n      <td>220.534624</td>\n      <td>Intel Core i7</td>\n      <td></td>\n      <td>512 SSD</td>\n      <td></td>\n      <td></td>\n    </tr>\n    <tr>\n      <th>4</th>\n      <td>Apple</td>\n      <td>Ultrabook</td>\n      <td>8</td>\n      <td>256 SSD</td>\n      <td>Intel Iris Plus Graphics 650</td>\n      <td>macOS</td>\n      <td>1.37</td>\n      <td>96095.8080</td>\n      <td>0</td>\n      <td>1</td>\n      <td>226.983005</td>\n      <td>Intel Core i5</td>\n      <td></td>\n      <td>256 SSD</td>\n      <td></td>\n      <td></td>\n    </tr>\n  </tbody>\n</table>\n</div>"
          },
          "metadata": {}
        }
      ]
    },
    {
      "cell_type": "code",
      "source": [
        "df['HDD']=df['HDD'].str.replace('HDD','')\n",
        "df['SSD']=df['SSD'].str.replace('SSD','')"
      ],
      "metadata": {
        "execution": {
          "iopub.status.busy": "2024-06-11T07:14:20.973195Z",
          "iopub.execute_input": "2024-06-11T07:14:20.973508Z",
          "iopub.status.idle": "2024-06-11T07:14:20.984241Z",
          "shell.execute_reply.started": "2024-06-11T07:14:20.973482Z",
          "shell.execute_reply": "2024-06-11T07:14:20.98321Z"
        },
        "trusted": true,
        "id": "bSAzVadj_sQ4"
      },
      "execution_count": null,
      "outputs": []
    },
    {
      "cell_type": "code",
      "source": [
        "df.sample(5)"
      ],
      "metadata": {
        "execution": {
          "iopub.status.busy": "2024-06-11T07:14:20.985621Z",
          "iopub.execute_input": "2024-06-11T07:14:20.986015Z",
          "iopub.status.idle": "2024-06-11T07:14:21.012326Z",
          "shell.execute_reply.started": "2024-06-11T07:14:20.985982Z",
          "shell.execute_reply": "2024-06-11T07:14:21.010863Z"
        },
        "trusted": true,
        "id": "s3dZVhY5_sQ4",
        "outputId": "e8029fd6-8c9c-4eba-c7b6-176eb583a035"
      },
      "execution_count": null,
      "outputs": [
        {
          "execution_count": 62,
          "output_type": "execute_result",
          "data": {
            "text/plain": "     Company            TypeName  Ram    Memory                    Gpu  \\\n1113      HP           Ultrabook    8   512 SSD  Intel HD Graphics 520   \n899     Dell            Notebook    8   500 HDD  Intel HD Graphics 620   \n1262    Dell            Notebook    6  1000 HDD  Intel HD Graphics 620   \n1249    Dell  2 in 1 Convertible    8   256 SSD  Intel HD Graphics 615   \n141   Lenovo            Notebook    8   256 SSD      AMD Radeon RX 550   \n\n           OpSys  Weight        Price  Touchscreen  Ips         Ppi  \\\n1113  Windows 10    1.16  104908.3200            0    0  165.632118   \n899   Windows 10    1.90   49816.8000            0    0  141.211998   \n1262  Windows 10    2.30   24455.5200            0    0  100.454670   \n1249  Windows 10    1.24   96596.6400            1    0  276.053530   \n141   Windows 10    1.75   59461.5456            0    1  157.350512   \n\n          Cpu brand    HDD   SSD Hybrid Flash_Storage  \n1113  Intel Core i7         512                        \n899   Intel Core i5   500                              \n1262  Intel Core i3  1000                              \n1249  Intel Core i5         256                        \n141   Intel Core i5         256                        ",
            "text/html": "<div>\n<style scoped>\n    .dataframe tbody tr th:only-of-type {\n        vertical-align: middle;\n    }\n\n    .dataframe tbody tr th {\n        vertical-align: top;\n    }\n\n    .dataframe thead th {\n        text-align: right;\n    }\n</style>\n<table border=\"1\" class=\"dataframe\">\n  <thead>\n    <tr style=\"text-align: right;\">\n      <th></th>\n      <th>Company</th>\n      <th>TypeName</th>\n      <th>Ram</th>\n      <th>Memory</th>\n      <th>Gpu</th>\n      <th>OpSys</th>\n      <th>Weight</th>\n      <th>Price</th>\n      <th>Touchscreen</th>\n      <th>Ips</th>\n      <th>Ppi</th>\n      <th>Cpu brand</th>\n      <th>HDD</th>\n      <th>SSD</th>\n      <th>Hybrid</th>\n      <th>Flash_Storage</th>\n    </tr>\n  </thead>\n  <tbody>\n    <tr>\n      <th>1113</th>\n      <td>HP</td>\n      <td>Ultrabook</td>\n      <td>8</td>\n      <td>512 SSD</td>\n      <td>Intel HD Graphics 520</td>\n      <td>Windows 10</td>\n      <td>1.16</td>\n      <td>104908.3200</td>\n      <td>0</td>\n      <td>0</td>\n      <td>165.632118</td>\n      <td>Intel Core i7</td>\n      <td></td>\n      <td>512</td>\n      <td></td>\n      <td></td>\n    </tr>\n    <tr>\n      <th>899</th>\n      <td>Dell</td>\n      <td>Notebook</td>\n      <td>8</td>\n      <td>500 HDD</td>\n      <td>Intel HD Graphics 620</td>\n      <td>Windows 10</td>\n      <td>1.90</td>\n      <td>49816.8000</td>\n      <td>0</td>\n      <td>0</td>\n      <td>141.211998</td>\n      <td>Intel Core i5</td>\n      <td>500</td>\n      <td></td>\n      <td></td>\n      <td></td>\n    </tr>\n    <tr>\n      <th>1262</th>\n      <td>Dell</td>\n      <td>Notebook</td>\n      <td>6</td>\n      <td>1000 HDD</td>\n      <td>Intel HD Graphics 620</td>\n      <td>Windows 10</td>\n      <td>2.30</td>\n      <td>24455.5200</td>\n      <td>0</td>\n      <td>0</td>\n      <td>100.454670</td>\n      <td>Intel Core i3</td>\n      <td>1000</td>\n      <td></td>\n      <td></td>\n      <td></td>\n    </tr>\n    <tr>\n      <th>1249</th>\n      <td>Dell</td>\n      <td>2 in 1 Convertible</td>\n      <td>8</td>\n      <td>256 SSD</td>\n      <td>Intel HD Graphics 615</td>\n      <td>Windows 10</td>\n      <td>1.24</td>\n      <td>96596.6400</td>\n      <td>1</td>\n      <td>0</td>\n      <td>276.053530</td>\n      <td>Intel Core i5</td>\n      <td></td>\n      <td>256</td>\n      <td></td>\n      <td></td>\n    </tr>\n    <tr>\n      <th>141</th>\n      <td>Lenovo</td>\n      <td>Notebook</td>\n      <td>8</td>\n      <td>256 SSD</td>\n      <td>AMD Radeon RX 550</td>\n      <td>Windows 10</td>\n      <td>1.75</td>\n      <td>59461.5456</td>\n      <td>0</td>\n      <td>1</td>\n      <td>157.350512</td>\n      <td>Intel Core i5</td>\n      <td></td>\n      <td>256</td>\n      <td></td>\n      <td></td>\n    </tr>\n  </tbody>\n</table>\n</div>"
          },
          "metadata": {}
        }
      ]
    },
    {
      "cell_type": "code",
      "source": [
        "df.info()"
      ],
      "metadata": {
        "execution": {
          "iopub.status.busy": "2024-06-11T07:14:21.013846Z",
          "iopub.execute_input": "2024-06-11T07:14:21.01419Z",
          "iopub.status.idle": "2024-06-11T07:14:21.031234Z",
          "shell.execute_reply.started": "2024-06-11T07:14:21.014164Z",
          "shell.execute_reply": "2024-06-11T07:14:21.030109Z"
        },
        "trusted": true,
        "id": "xymbinkb_sQ4",
        "outputId": "500be7fd-c91c-4553-972d-abec03c023ae"
      },
      "execution_count": null,
      "outputs": [
        {
          "name": "stdout",
          "text": "<class 'pandas.core.frame.DataFrame'>\nRangeIndex: 1303 entries, 0 to 1302\nData columns (total 16 columns):\n #   Column         Non-Null Count  Dtype  \n---  ------         --------------  -----  \n 0   Company        1303 non-null   object \n 1   TypeName       1303 non-null   object \n 2   Ram            1303 non-null   int32  \n 3   Memory         1303 non-null   object \n 4   Gpu            1303 non-null   object \n 5   OpSys          1303 non-null   object \n 6   Weight         1303 non-null   float32\n 7   Price          1303 non-null   float64\n 8   Touchscreen    1303 non-null   int64  \n 9   Ips            1303 non-null   int64  \n 10  Ppi            1303 non-null   float64\n 11  Cpu brand      1303 non-null   object \n 12  HDD            1303 non-null   object \n 13  SSD            1303 non-null   object \n 14  Hybrid         1303 non-null   object \n 15  Flash_Storage  1303 non-null   object \ndtypes: float32(1), float64(2), int32(1), int64(2), object(10)\nmemory usage: 152.8+ KB\n",
          "output_type": "stream"
        }
      ]
    },
    {
      "cell_type": "code",
      "source": [
        "df.drop(columns=['Memory'],inplace=True)"
      ],
      "metadata": {
        "execution": {
          "iopub.status.busy": "2024-06-11T07:14:21.03254Z",
          "iopub.execute_input": "2024-06-11T07:14:21.032919Z",
          "iopub.status.idle": "2024-06-11T07:14:21.047456Z",
          "shell.execute_reply.started": "2024-06-11T07:14:21.032889Z",
          "shell.execute_reply": "2024-06-11T07:14:21.046276Z"
        },
        "trusted": true,
        "id": "qO3zXtIc_sQ4"
      },
      "execution_count": null,
      "outputs": []
    },
    {
      "cell_type": "code",
      "source": [
        "df.head()"
      ],
      "metadata": {
        "execution": {
          "iopub.status.busy": "2024-06-11T07:14:21.049046Z",
          "iopub.execute_input": "2024-06-11T07:14:21.049396Z",
          "iopub.status.idle": "2024-06-11T07:14:21.072208Z",
          "shell.execute_reply.started": "2024-06-11T07:14:21.049369Z",
          "shell.execute_reply": "2024-06-11T07:14:21.071135Z"
        },
        "trusted": true,
        "id": "OzmYHwhs_sQ5",
        "outputId": "e7b02ae7-824b-4a05-cbc1-e271e6b13b55"
      },
      "execution_count": null,
      "outputs": [
        {
          "execution_count": 65,
          "output_type": "execute_result",
          "data": {
            "text/plain": "  Company   TypeName  Ram                           Gpu  OpSys  Weight  \\\n0   Apple  Ultrabook    8  Intel Iris Plus Graphics 640  macOS    1.37   \n1   Apple  Ultrabook    8        Intel HD Graphics 6000  macOS    1.34   \n2      HP   Notebook    8         Intel HD Graphics 620  No OS    1.86   \n3   Apple  Ultrabook   16            AMD Radeon Pro 455  macOS    1.83   \n4   Apple  Ultrabook    8  Intel Iris Plus Graphics 650  macOS    1.37   \n\n         Price  Touchscreen  Ips         Ppi      Cpu brand HDD   SSD Hybrid  \\\n0   71378.6832            0    1  226.983005  Intel Core i5      128           \n1   47895.5232            0    0  127.677940  Intel Core i5                    \n2   30636.0000            0    0  141.211998  Intel Core i5      256           \n3  135195.3360            0    1  220.534624  Intel Core i7      512           \n4   96095.8080            0    1  226.983005  Intel Core i5      256           \n\n       Flash_Storage  \n0                     \n1  128 Flash Storage  \n2                     \n3                     \n4                     ",
            "text/html": "<div>\n<style scoped>\n    .dataframe tbody tr th:only-of-type {\n        vertical-align: middle;\n    }\n\n    .dataframe tbody tr th {\n        vertical-align: top;\n    }\n\n    .dataframe thead th {\n        text-align: right;\n    }\n</style>\n<table border=\"1\" class=\"dataframe\">\n  <thead>\n    <tr style=\"text-align: right;\">\n      <th></th>\n      <th>Company</th>\n      <th>TypeName</th>\n      <th>Ram</th>\n      <th>Gpu</th>\n      <th>OpSys</th>\n      <th>Weight</th>\n      <th>Price</th>\n      <th>Touchscreen</th>\n      <th>Ips</th>\n      <th>Ppi</th>\n      <th>Cpu brand</th>\n      <th>HDD</th>\n      <th>SSD</th>\n      <th>Hybrid</th>\n      <th>Flash_Storage</th>\n    </tr>\n  </thead>\n  <tbody>\n    <tr>\n      <th>0</th>\n      <td>Apple</td>\n      <td>Ultrabook</td>\n      <td>8</td>\n      <td>Intel Iris Plus Graphics 640</td>\n      <td>macOS</td>\n      <td>1.37</td>\n      <td>71378.6832</td>\n      <td>0</td>\n      <td>1</td>\n      <td>226.983005</td>\n      <td>Intel Core i5</td>\n      <td></td>\n      <td>128</td>\n      <td></td>\n      <td></td>\n    </tr>\n    <tr>\n      <th>1</th>\n      <td>Apple</td>\n      <td>Ultrabook</td>\n      <td>8</td>\n      <td>Intel HD Graphics 6000</td>\n      <td>macOS</td>\n      <td>1.34</td>\n      <td>47895.5232</td>\n      <td>0</td>\n      <td>0</td>\n      <td>127.677940</td>\n      <td>Intel Core i5</td>\n      <td></td>\n      <td></td>\n      <td></td>\n      <td>128 Flash Storage</td>\n    </tr>\n    <tr>\n      <th>2</th>\n      <td>HP</td>\n      <td>Notebook</td>\n      <td>8</td>\n      <td>Intel HD Graphics 620</td>\n      <td>No OS</td>\n      <td>1.86</td>\n      <td>30636.0000</td>\n      <td>0</td>\n      <td>0</td>\n      <td>141.211998</td>\n      <td>Intel Core i5</td>\n      <td></td>\n      <td>256</td>\n      <td></td>\n      <td></td>\n    </tr>\n    <tr>\n      <th>3</th>\n      <td>Apple</td>\n      <td>Ultrabook</td>\n      <td>16</td>\n      <td>AMD Radeon Pro 455</td>\n      <td>macOS</td>\n      <td>1.83</td>\n      <td>135195.3360</td>\n      <td>0</td>\n      <td>1</td>\n      <td>220.534624</td>\n      <td>Intel Core i7</td>\n      <td></td>\n      <td>512</td>\n      <td></td>\n      <td></td>\n    </tr>\n    <tr>\n      <th>4</th>\n      <td>Apple</td>\n      <td>Ultrabook</td>\n      <td>8</td>\n      <td>Intel Iris Plus Graphics 650</td>\n      <td>macOS</td>\n      <td>1.37</td>\n      <td>96095.8080</td>\n      <td>0</td>\n      <td>1</td>\n      <td>226.983005</td>\n      <td>Intel Core i5</td>\n      <td></td>\n      <td>256</td>\n      <td></td>\n      <td></td>\n    </tr>\n  </tbody>\n</table>\n</div>"
          },
          "metadata": {}
        }
      ]
    },
    {
      "cell_type": "code",
      "source": [
        "df['HDD'] = pd.to_numeric(df['HDD'], errors='coerce')\n",
        "df['HDD'].fillna(0, inplace=True)\n",
        "df['HDD'] = df['HDD'].astype(int)"
      ],
      "metadata": {
        "execution": {
          "iopub.status.busy": "2024-06-11T07:14:21.073634Z",
          "iopub.execute_input": "2024-06-11T07:14:21.07401Z",
          "iopub.status.idle": "2024-06-11T07:14:21.087566Z",
          "shell.execute_reply.started": "2024-06-11T07:14:21.073977Z",
          "shell.execute_reply": "2024-06-11T07:14:21.086417Z"
        },
        "trusted": true,
        "id": "G6OUf4e5_sQ5",
        "outputId": "7e7cc3af-23bb-42c1-b2c8-c666c5b9e3e2"
      },
      "execution_count": null,
      "outputs": [
        {
          "name": "stderr",
          "text": "/tmp/ipykernel_33/616434139.py:2: FutureWarning: A value is trying to be set on a copy of a DataFrame or Series through chained assignment using an inplace method.\nThe behavior will change in pandas 3.0. This inplace method will never work because the intermediate object on which we are setting values always behaves as a copy.\n\nFor example, when doing 'df[col].method(value, inplace=True)', try using 'df.method({col: value}, inplace=True)' or df[col] = df[col].method(value) instead, to perform the operation inplace on the original object.\n\n\n  df['HDD'].fillna(0, inplace=True)\n",
          "output_type": "stream"
        }
      ]
    },
    {
      "cell_type": "code",
      "source": [
        "df['SSD'] = pd.to_numeric(df['SSD'], errors='coerce')\n",
        "df['SSD'].fillna(0, inplace=True)\n",
        "df['SSD'] = df['SSD'].astype(int)"
      ],
      "metadata": {
        "execution": {
          "iopub.status.busy": "2024-06-11T07:14:21.088991Z",
          "iopub.execute_input": "2024-06-11T07:14:21.089345Z",
          "iopub.status.idle": "2024-06-11T07:14:21.104924Z",
          "shell.execute_reply.started": "2024-06-11T07:14:21.089317Z",
          "shell.execute_reply": "2024-06-11T07:14:21.103671Z"
        },
        "trusted": true,
        "id": "4P3ZSZsH_sQ5",
        "outputId": "66f454ba-43b3-4467-800d-dd7142673e32"
      },
      "execution_count": null,
      "outputs": [
        {
          "name": "stderr",
          "text": "/tmp/ipykernel_33/2210179837.py:2: FutureWarning: A value is trying to be set on a copy of a DataFrame or Series through chained assignment using an inplace method.\nThe behavior will change in pandas 3.0. This inplace method will never work because the intermediate object on which we are setting values always behaves as a copy.\n\nFor example, when doing 'df[col].method(value, inplace=True)', try using 'df.method({col: value}, inplace=True)' or df[col] = df[col].method(value) instead, to perform the operation inplace on the original object.\n\n\n  df['SSD'].fillna(0, inplace=True)\n",
          "output_type": "stream"
        }
      ]
    },
    {
      "cell_type": "code",
      "source": [
        "df.info()"
      ],
      "metadata": {
        "execution": {
          "iopub.status.busy": "2024-06-11T07:14:21.10657Z",
          "iopub.execute_input": "2024-06-11T07:14:21.106948Z",
          "iopub.status.idle": "2024-06-11T07:14:21.133788Z",
          "shell.execute_reply.started": "2024-06-11T07:14:21.106918Z",
          "shell.execute_reply": "2024-06-11T07:14:21.132567Z"
        },
        "trusted": true,
        "id": "rGzlcGFl_sQ5",
        "outputId": "ea3e01cc-745c-4a6b-e519-23acc7daa170"
      },
      "execution_count": null,
      "outputs": [
        {
          "name": "stdout",
          "text": "<class 'pandas.core.frame.DataFrame'>\nRangeIndex: 1303 entries, 0 to 1302\nData columns (total 15 columns):\n #   Column         Non-Null Count  Dtype  \n---  ------         --------------  -----  \n 0   Company        1303 non-null   object \n 1   TypeName       1303 non-null   object \n 2   Ram            1303 non-null   int32  \n 3   Gpu            1303 non-null   object \n 4   OpSys          1303 non-null   object \n 5   Weight         1303 non-null   float32\n 6   Price          1303 non-null   float64\n 7   Touchscreen    1303 non-null   int64  \n 8   Ips            1303 non-null   int64  \n 9   Ppi            1303 non-null   float64\n 10  Cpu brand      1303 non-null   object \n 11  HDD            1303 non-null   int64  \n 12  SSD            1303 non-null   int64  \n 13  Hybrid         1303 non-null   object \n 14  Flash_Storage  1303 non-null   object \ndtypes: float32(1), float64(2), int32(1), int64(4), object(7)\nmemory usage: 142.6+ KB\n",
          "output_type": "stream"
        }
      ]
    },
    {
      "cell_type": "code",
      "source": [
        "df['Flash_Storage']=df['Flash_Storage'].str.replace('Flash Storage','')"
      ],
      "metadata": {
        "execution": {
          "iopub.status.busy": "2024-06-11T07:14:21.135165Z",
          "iopub.execute_input": "2024-06-11T07:14:21.13553Z",
          "iopub.status.idle": "2024-06-11T07:14:21.14694Z",
          "shell.execute_reply.started": "2024-06-11T07:14:21.135501Z",
          "shell.execute_reply": "2024-06-11T07:14:21.145808Z"
        },
        "trusted": true,
        "id": "0n6gizis_sQ5"
      },
      "execution_count": null,
      "outputs": []
    },
    {
      "cell_type": "code",
      "source": [
        "df['Hybrid']=df['Hybrid'].str.replace('Hybrid','')"
      ],
      "metadata": {
        "execution": {
          "iopub.status.busy": "2024-06-11T07:14:21.148334Z",
          "iopub.execute_input": "2024-06-11T07:14:21.148711Z",
          "iopub.status.idle": "2024-06-11T07:14:21.161191Z",
          "shell.execute_reply.started": "2024-06-11T07:14:21.148678Z",
          "shell.execute_reply": "2024-06-11T07:14:21.160187Z"
        },
        "trusted": true,
        "id": "ypCvm0zl_sQ5"
      },
      "execution_count": null,
      "outputs": []
    },
    {
      "cell_type": "code",
      "source": [
        "df['Flash_Storage'] = pd.to_numeric(df['Flash_Storage'], errors='coerce')\n",
        "df['Flash_Storage'].fillna(0, inplace=True)\n",
        "df['Flash_Storage'] = df['Flash_Storage'].astype(int)"
      ],
      "metadata": {
        "execution": {
          "iopub.status.busy": "2024-06-11T07:14:21.162835Z",
          "iopub.execute_input": "2024-06-11T07:14:21.163723Z",
          "iopub.status.idle": "2024-06-11T07:14:21.177217Z",
          "shell.execute_reply.started": "2024-06-11T07:14:21.163682Z",
          "shell.execute_reply": "2024-06-11T07:14:21.17593Z"
        },
        "trusted": true,
        "id": "bpFvkjhh_sQ5",
        "outputId": "b156d4ff-7d53-4aa1-d147-f60aa44e2eb5"
      },
      "execution_count": null,
      "outputs": [
        {
          "name": "stderr",
          "text": "/tmp/ipykernel_33/1887626314.py:2: FutureWarning: A value is trying to be set on a copy of a DataFrame or Series through chained assignment using an inplace method.\nThe behavior will change in pandas 3.0. This inplace method will never work because the intermediate object on which we are setting values always behaves as a copy.\n\nFor example, when doing 'df[col].method(value, inplace=True)', try using 'df.method({col: value}, inplace=True)' or df[col] = df[col].method(value) instead, to perform the operation inplace on the original object.\n\n\n  df['Flash_Storage'].fillna(0, inplace=True)\n",
          "output_type": "stream"
        }
      ]
    },
    {
      "cell_type": "code",
      "source": [
        "df['Hybrid'] = pd.to_numeric(df['Hybrid'], errors='coerce')\n",
        "df['Hybrid'].fillna(0, inplace=True)\n",
        "df['Hybrid'] = df['Hybrid'].astype(int)"
      ],
      "metadata": {
        "execution": {
          "iopub.status.busy": "2024-06-11T07:14:21.178768Z",
          "iopub.execute_input": "2024-06-11T07:14:21.179629Z",
          "iopub.status.idle": "2024-06-11T07:14:21.192437Z",
          "shell.execute_reply.started": "2024-06-11T07:14:21.179596Z",
          "shell.execute_reply": "2024-06-11T07:14:21.19137Z"
        },
        "trusted": true,
        "id": "OdDEc5XE_sQ5",
        "outputId": "93ddf3bd-4bfa-4810-d37d-bfed70d4e2bf"
      },
      "execution_count": null,
      "outputs": [
        {
          "name": "stderr",
          "text": "/tmp/ipykernel_33/2644285492.py:2: FutureWarning: A value is trying to be set on a copy of a DataFrame or Series through chained assignment using an inplace method.\nThe behavior will change in pandas 3.0. This inplace method will never work because the intermediate object on which we are setting values always behaves as a copy.\n\nFor example, when doing 'df[col].method(value, inplace=True)', try using 'df.method({col: value}, inplace=True)' or df[col] = df[col].method(value) instead, to perform the operation inplace on the original object.\n\n\n  df['Hybrid'].fillna(0, inplace=True)\n",
          "output_type": "stream"
        }
      ]
    },
    {
      "cell_type": "code",
      "source": [
        "df.sample(10)"
      ],
      "metadata": {
        "execution": {
          "iopub.status.busy": "2024-06-11T07:14:21.193704Z",
          "iopub.execute_input": "2024-06-11T07:14:21.194041Z",
          "iopub.status.idle": "2024-06-11T07:14:21.219218Z",
          "shell.execute_reply.started": "2024-06-11T07:14:21.194014Z",
          "shell.execute_reply": "2024-06-11T07:14:21.218062Z"
        },
        "trusted": true,
        "id": "J78gpv4q_sQ6",
        "outputId": "2bb26559-bc39-4739-e99f-62c9f833fe5f"
      },
      "execution_count": null,
      "outputs": [
        {
          "execution_count": 73,
          "output_type": "execute_result",
          "data": {
            "text/plain": "     Company   TypeName  Ram                     Gpu       OpSys  Weight  \\\n240   Lenovo   Notebook    8   Intel HD Graphics 520  Windows 10    2.20   \n1091      HP   Notebook    4   Intel HD Graphics 520       No OS    1.86   \n61      Dell  Ultrabook    8  Intel UHD Graphics 620  Windows 10    1.70   \n94      Asus  Ultrabook    8   Intel HD Graphics 620  Windows 10    1.25   \n81     Apple  Ultrabook    8   Intel HD Graphics 615       macOS    0.92   \n1006      HP   Notebook    4   Intel HD Graphics 620  Windows 10    1.95   \n1044      HP   Notebook    4   Intel HD Graphics 520  Windows 10    1.54   \n1054    Dell  Ultrabook   16   Intel HD Graphics 620  Windows 10    1.20   \n1146      HP  Ultrabook    8   Intel HD Graphics 520   Windows 7    1.26   \n996       HP  Ultrabook    8   Intel HD Graphics 620  Windows 10    1.11   \n\n            Price  Touchscreen  Ips         Ppi      Cpu brand   HDD   SSD  \\\n240    31381.9200            0    0  100.454670  Intel Core i3     0   128   \n1091   18434.3472            0    0  100.454670  Intel Core i3  1000     0   \n61     46833.1200            0    0  157.350512  Intel Core i5     0   256   \n94     55890.7200            0    0  157.350512  Intel Core i7     0   256   \n81     80452.8000            0    1  226.415547  Intel Core i5     0   512   \n1006   64202.4000            0    0  157.350512  Intel Core i5     0   256   \n1044   53280.0000            0    0  157.350512  Intel Core i5   500     0   \n1054  120093.1200            1    0  276.053530  Intel Core i7     0  1000   \n1146  122381.4960            0    0  176.232574  Intel Core i7     0   256   \n996    71874.7200            1    1  165.632118  Intel Core i7     0   256   \n\n      Hybrid  Flash_Storage  \n240        0              0  \n1091       0              0  \n61         0              0  \n94         0              0  \n81         0              0  \n1006       0              0  \n1044       0              0  \n1054       0              0  \n1146       0              0  \n996        0              0  ",
            "text/html": "<div>\n<style scoped>\n    .dataframe tbody tr th:only-of-type {\n        vertical-align: middle;\n    }\n\n    .dataframe tbody tr th {\n        vertical-align: top;\n    }\n\n    .dataframe thead th {\n        text-align: right;\n    }\n</style>\n<table border=\"1\" class=\"dataframe\">\n  <thead>\n    <tr style=\"text-align: right;\">\n      <th></th>\n      <th>Company</th>\n      <th>TypeName</th>\n      <th>Ram</th>\n      <th>Gpu</th>\n      <th>OpSys</th>\n      <th>Weight</th>\n      <th>Price</th>\n      <th>Touchscreen</th>\n      <th>Ips</th>\n      <th>Ppi</th>\n      <th>Cpu brand</th>\n      <th>HDD</th>\n      <th>SSD</th>\n      <th>Hybrid</th>\n      <th>Flash_Storage</th>\n    </tr>\n  </thead>\n  <tbody>\n    <tr>\n      <th>240</th>\n      <td>Lenovo</td>\n      <td>Notebook</td>\n      <td>8</td>\n      <td>Intel HD Graphics 520</td>\n      <td>Windows 10</td>\n      <td>2.20</td>\n      <td>31381.9200</td>\n      <td>0</td>\n      <td>0</td>\n      <td>100.454670</td>\n      <td>Intel Core i3</td>\n      <td>0</td>\n      <td>128</td>\n      <td>0</td>\n      <td>0</td>\n    </tr>\n    <tr>\n      <th>1091</th>\n      <td>HP</td>\n      <td>Notebook</td>\n      <td>4</td>\n      <td>Intel HD Graphics 520</td>\n      <td>No OS</td>\n      <td>1.86</td>\n      <td>18434.3472</td>\n      <td>0</td>\n      <td>0</td>\n      <td>100.454670</td>\n      <td>Intel Core i3</td>\n      <td>1000</td>\n      <td>0</td>\n      <td>0</td>\n      <td>0</td>\n    </tr>\n    <tr>\n      <th>61</th>\n      <td>Dell</td>\n      <td>Ultrabook</td>\n      <td>8</td>\n      <td>Intel UHD Graphics 620</td>\n      <td>Windows 10</td>\n      <td>1.70</td>\n      <td>46833.1200</td>\n      <td>0</td>\n      <td>0</td>\n      <td>157.350512</td>\n      <td>Intel Core i5</td>\n      <td>0</td>\n      <td>256</td>\n      <td>0</td>\n      <td>0</td>\n    </tr>\n    <tr>\n      <th>94</th>\n      <td>Asus</td>\n      <td>Ultrabook</td>\n      <td>8</td>\n      <td>Intel HD Graphics 620</td>\n      <td>Windows 10</td>\n      <td>1.25</td>\n      <td>55890.7200</td>\n      <td>0</td>\n      <td>0</td>\n      <td>157.350512</td>\n      <td>Intel Core i7</td>\n      <td>0</td>\n      <td>256</td>\n      <td>0</td>\n      <td>0</td>\n    </tr>\n    <tr>\n      <th>81</th>\n      <td>Apple</td>\n      <td>Ultrabook</td>\n      <td>8</td>\n      <td>Intel HD Graphics 615</td>\n      <td>macOS</td>\n      <td>0.92</td>\n      <td>80452.8000</td>\n      <td>0</td>\n      <td>1</td>\n      <td>226.415547</td>\n      <td>Intel Core i5</td>\n      <td>0</td>\n      <td>512</td>\n      <td>0</td>\n      <td>0</td>\n    </tr>\n    <tr>\n      <th>1006</th>\n      <td>HP</td>\n      <td>Notebook</td>\n      <td>4</td>\n      <td>Intel HD Graphics 620</td>\n      <td>Windows 10</td>\n      <td>1.95</td>\n      <td>64202.4000</td>\n      <td>0</td>\n      <td>0</td>\n      <td>157.350512</td>\n      <td>Intel Core i5</td>\n      <td>0</td>\n      <td>256</td>\n      <td>0</td>\n      <td>0</td>\n    </tr>\n    <tr>\n      <th>1044</th>\n      <td>HP</td>\n      <td>Notebook</td>\n      <td>4</td>\n      <td>Intel HD Graphics 520</td>\n      <td>Windows 10</td>\n      <td>1.54</td>\n      <td>53280.0000</td>\n      <td>0</td>\n      <td>0</td>\n      <td>157.350512</td>\n      <td>Intel Core i5</td>\n      <td>500</td>\n      <td>0</td>\n      <td>0</td>\n      <td>0</td>\n    </tr>\n    <tr>\n      <th>1054</th>\n      <td>Dell</td>\n      <td>Ultrabook</td>\n      <td>16</td>\n      <td>Intel HD Graphics 620</td>\n      <td>Windows 10</td>\n      <td>1.20</td>\n      <td>120093.1200</td>\n      <td>1</td>\n      <td>0</td>\n      <td>276.053530</td>\n      <td>Intel Core i7</td>\n      <td>0</td>\n      <td>1000</td>\n      <td>0</td>\n      <td>0</td>\n    </tr>\n    <tr>\n      <th>1146</th>\n      <td>HP</td>\n      <td>Ultrabook</td>\n      <td>8</td>\n      <td>Intel HD Graphics 520</td>\n      <td>Windows 7</td>\n      <td>1.26</td>\n      <td>122381.4960</td>\n      <td>0</td>\n      <td>0</td>\n      <td>176.232574</td>\n      <td>Intel Core i7</td>\n      <td>0</td>\n      <td>256</td>\n      <td>0</td>\n      <td>0</td>\n    </tr>\n    <tr>\n      <th>996</th>\n      <td>HP</td>\n      <td>Ultrabook</td>\n      <td>8</td>\n      <td>Intel HD Graphics 620</td>\n      <td>Windows 10</td>\n      <td>1.11</td>\n      <td>71874.7200</td>\n      <td>1</td>\n      <td>1</td>\n      <td>165.632118</td>\n      <td>Intel Core i7</td>\n      <td>0</td>\n      <td>256</td>\n      <td>0</td>\n      <td>0</td>\n    </tr>\n  </tbody>\n</table>\n</div>"
          },
          "metadata": {}
        }
      ]
    },
    {
      "cell_type": "code",
      "source": [
        "df.drop(columns=['Hybrid','Flash_Storage'],inplace=True)"
      ],
      "metadata": {
        "execution": {
          "iopub.status.busy": "2024-06-11T07:14:21.220511Z",
          "iopub.execute_input": "2024-06-11T07:14:21.22089Z",
          "iopub.status.idle": "2024-06-11T07:14:21.233191Z",
          "shell.execute_reply.started": "2024-06-11T07:14:21.22086Z",
          "shell.execute_reply": "2024-06-11T07:14:21.23218Z"
        },
        "trusted": true,
        "id": "oNYwzpVh_sQ6"
      },
      "execution_count": null,
      "outputs": []
    },
    {
      "cell_type": "code",
      "source": [
        "df.head()"
      ],
      "metadata": {
        "execution": {
          "iopub.status.busy": "2024-06-11T07:14:21.234512Z",
          "iopub.execute_input": "2024-06-11T07:14:21.234852Z",
          "iopub.status.idle": "2024-06-11T07:14:21.260502Z",
          "shell.execute_reply.started": "2024-06-11T07:14:21.234824Z",
          "shell.execute_reply": "2024-06-11T07:14:21.259386Z"
        },
        "trusted": true,
        "id": "RonYhlyw_sQ6",
        "outputId": "6cd2617c-a9a3-467f-c908-f27557e4b6e4"
      },
      "execution_count": null,
      "outputs": [
        {
          "execution_count": 75,
          "output_type": "execute_result",
          "data": {
            "text/plain": "  Company   TypeName  Ram                           Gpu  OpSys  Weight  \\\n0   Apple  Ultrabook    8  Intel Iris Plus Graphics 640  macOS    1.37   \n1   Apple  Ultrabook    8        Intel HD Graphics 6000  macOS    1.34   \n2      HP   Notebook    8         Intel HD Graphics 620  No OS    1.86   \n3   Apple  Ultrabook   16            AMD Radeon Pro 455  macOS    1.83   \n4   Apple  Ultrabook    8  Intel Iris Plus Graphics 650  macOS    1.37   \n\n         Price  Touchscreen  Ips         Ppi      Cpu brand  HDD  SSD  \n0   71378.6832            0    1  226.983005  Intel Core i5    0  128  \n1   47895.5232            0    0  127.677940  Intel Core i5    0    0  \n2   30636.0000            0    0  141.211998  Intel Core i5    0  256  \n3  135195.3360            0    1  220.534624  Intel Core i7    0  512  \n4   96095.8080            0    1  226.983005  Intel Core i5    0  256  ",
            "text/html": "<div>\n<style scoped>\n    .dataframe tbody tr th:only-of-type {\n        vertical-align: middle;\n    }\n\n    .dataframe tbody tr th {\n        vertical-align: top;\n    }\n\n    .dataframe thead th {\n        text-align: right;\n    }\n</style>\n<table border=\"1\" class=\"dataframe\">\n  <thead>\n    <tr style=\"text-align: right;\">\n      <th></th>\n      <th>Company</th>\n      <th>TypeName</th>\n      <th>Ram</th>\n      <th>Gpu</th>\n      <th>OpSys</th>\n      <th>Weight</th>\n      <th>Price</th>\n      <th>Touchscreen</th>\n      <th>Ips</th>\n      <th>Ppi</th>\n      <th>Cpu brand</th>\n      <th>HDD</th>\n      <th>SSD</th>\n    </tr>\n  </thead>\n  <tbody>\n    <tr>\n      <th>0</th>\n      <td>Apple</td>\n      <td>Ultrabook</td>\n      <td>8</td>\n      <td>Intel Iris Plus Graphics 640</td>\n      <td>macOS</td>\n      <td>1.37</td>\n      <td>71378.6832</td>\n      <td>0</td>\n      <td>1</td>\n      <td>226.983005</td>\n      <td>Intel Core i5</td>\n      <td>0</td>\n      <td>128</td>\n    </tr>\n    <tr>\n      <th>1</th>\n      <td>Apple</td>\n      <td>Ultrabook</td>\n      <td>8</td>\n      <td>Intel HD Graphics 6000</td>\n      <td>macOS</td>\n      <td>1.34</td>\n      <td>47895.5232</td>\n      <td>0</td>\n      <td>0</td>\n      <td>127.677940</td>\n      <td>Intel Core i5</td>\n      <td>0</td>\n      <td>0</td>\n    </tr>\n    <tr>\n      <th>2</th>\n      <td>HP</td>\n      <td>Notebook</td>\n      <td>8</td>\n      <td>Intel HD Graphics 620</td>\n      <td>No OS</td>\n      <td>1.86</td>\n      <td>30636.0000</td>\n      <td>0</td>\n      <td>0</td>\n      <td>141.211998</td>\n      <td>Intel Core i5</td>\n      <td>0</td>\n      <td>256</td>\n    </tr>\n    <tr>\n      <th>3</th>\n      <td>Apple</td>\n      <td>Ultrabook</td>\n      <td>16</td>\n      <td>AMD Radeon Pro 455</td>\n      <td>macOS</td>\n      <td>1.83</td>\n      <td>135195.3360</td>\n      <td>0</td>\n      <td>1</td>\n      <td>220.534624</td>\n      <td>Intel Core i7</td>\n      <td>0</td>\n      <td>512</td>\n    </tr>\n    <tr>\n      <th>4</th>\n      <td>Apple</td>\n      <td>Ultrabook</td>\n      <td>8</td>\n      <td>Intel Iris Plus Graphics 650</td>\n      <td>macOS</td>\n      <td>1.37</td>\n      <td>96095.8080</td>\n      <td>0</td>\n      <td>1</td>\n      <td>226.983005</td>\n      <td>Intel Core i5</td>\n      <td>0</td>\n      <td>256</td>\n    </tr>\n  </tbody>\n</table>\n</div>"
          },
          "metadata": {}
        }
      ]
    },
    {
      "cell_type": "code",
      "source": [
        "df['Gpu'].value_counts()"
      ],
      "metadata": {
        "execution": {
          "iopub.status.busy": "2024-06-11T07:14:21.2618Z",
          "iopub.execute_input": "2024-06-11T07:14:21.262175Z",
          "iopub.status.idle": "2024-06-11T07:14:21.277391Z",
          "shell.execute_reply.started": "2024-06-11T07:14:21.26213Z",
          "shell.execute_reply": "2024-06-11T07:14:21.276163Z"
        },
        "trusted": true,
        "id": "8cFY1As0_sQ6",
        "outputId": "f15253d2-b267-4441-9b5b-e3c865a49e85"
      },
      "execution_count": null,
      "outputs": [
        {
          "execution_count": 76,
          "output_type": "execute_result",
          "data": {
            "text/plain": "Gpu\nIntel HD Graphics 620      281\nIntel HD Graphics 520      185\nIntel UHD Graphics 620      68\nNvidia GeForce GTX 1050     66\nNvidia GeForce GTX 1060     48\n                          ... \nAMD Radeon R5 520            1\nAMD Radeon R7                1\nIntel HD Graphics 540        1\nAMD Radeon 540               1\nARM Mali T860 MP4            1\nName: count, Length: 110, dtype: int64"
          },
          "metadata": {}
        }
      ]
    },
    {
      "cell_type": "code",
      "source": [
        "df['Gpu Brand']=df['Gpu'].apply(lambda x:x.split()[0])"
      ],
      "metadata": {
        "execution": {
          "iopub.status.busy": "2024-06-11T07:14:21.278646Z",
          "iopub.execute_input": "2024-06-11T07:14:21.278993Z",
          "iopub.status.idle": "2024-06-11T07:14:21.290326Z",
          "shell.execute_reply.started": "2024-06-11T07:14:21.278966Z",
          "shell.execute_reply": "2024-06-11T07:14:21.289264Z"
        },
        "trusted": true,
        "id": "Kj_6781f_sQ6"
      },
      "execution_count": null,
      "outputs": []
    },
    {
      "cell_type": "code",
      "source": [
        "df.head()"
      ],
      "metadata": {
        "execution": {
          "iopub.status.busy": "2024-06-11T07:14:21.291636Z",
          "iopub.execute_input": "2024-06-11T07:14:21.291973Z",
          "iopub.status.idle": "2024-06-11T07:14:21.317119Z",
          "shell.execute_reply.started": "2024-06-11T07:14:21.291947Z",
          "shell.execute_reply": "2024-06-11T07:14:21.315973Z"
        },
        "trusted": true,
        "id": "PyLDSr_T_sQ6",
        "outputId": "34d47d86-8045-4f58-d41d-da541e875959"
      },
      "execution_count": null,
      "outputs": [
        {
          "execution_count": 78,
          "output_type": "execute_result",
          "data": {
            "text/plain": "  Company   TypeName  Ram                           Gpu  OpSys  Weight  \\\n0   Apple  Ultrabook    8  Intel Iris Plus Graphics 640  macOS    1.37   \n1   Apple  Ultrabook    8        Intel HD Graphics 6000  macOS    1.34   \n2      HP   Notebook    8         Intel HD Graphics 620  No OS    1.86   \n3   Apple  Ultrabook   16            AMD Radeon Pro 455  macOS    1.83   \n4   Apple  Ultrabook    8  Intel Iris Plus Graphics 650  macOS    1.37   \n\n         Price  Touchscreen  Ips         Ppi      Cpu brand  HDD  SSD  \\\n0   71378.6832            0    1  226.983005  Intel Core i5    0  128   \n1   47895.5232            0    0  127.677940  Intel Core i5    0    0   \n2   30636.0000            0    0  141.211998  Intel Core i5    0  256   \n3  135195.3360            0    1  220.534624  Intel Core i7    0  512   \n4   96095.8080            0    1  226.983005  Intel Core i5    0  256   \n\n  Gpu Brand  \n0     Intel  \n1     Intel  \n2     Intel  \n3       AMD  \n4     Intel  ",
            "text/html": "<div>\n<style scoped>\n    .dataframe tbody tr th:only-of-type {\n        vertical-align: middle;\n    }\n\n    .dataframe tbody tr th {\n        vertical-align: top;\n    }\n\n    .dataframe thead th {\n        text-align: right;\n    }\n</style>\n<table border=\"1\" class=\"dataframe\">\n  <thead>\n    <tr style=\"text-align: right;\">\n      <th></th>\n      <th>Company</th>\n      <th>TypeName</th>\n      <th>Ram</th>\n      <th>Gpu</th>\n      <th>OpSys</th>\n      <th>Weight</th>\n      <th>Price</th>\n      <th>Touchscreen</th>\n      <th>Ips</th>\n      <th>Ppi</th>\n      <th>Cpu brand</th>\n      <th>HDD</th>\n      <th>SSD</th>\n      <th>Gpu Brand</th>\n    </tr>\n  </thead>\n  <tbody>\n    <tr>\n      <th>0</th>\n      <td>Apple</td>\n      <td>Ultrabook</td>\n      <td>8</td>\n      <td>Intel Iris Plus Graphics 640</td>\n      <td>macOS</td>\n      <td>1.37</td>\n      <td>71378.6832</td>\n      <td>0</td>\n      <td>1</td>\n      <td>226.983005</td>\n      <td>Intel Core i5</td>\n      <td>0</td>\n      <td>128</td>\n      <td>Intel</td>\n    </tr>\n    <tr>\n      <th>1</th>\n      <td>Apple</td>\n      <td>Ultrabook</td>\n      <td>8</td>\n      <td>Intel HD Graphics 6000</td>\n      <td>macOS</td>\n      <td>1.34</td>\n      <td>47895.5232</td>\n      <td>0</td>\n      <td>0</td>\n      <td>127.677940</td>\n      <td>Intel Core i5</td>\n      <td>0</td>\n      <td>0</td>\n      <td>Intel</td>\n    </tr>\n    <tr>\n      <th>2</th>\n      <td>HP</td>\n      <td>Notebook</td>\n      <td>8</td>\n      <td>Intel HD Graphics 620</td>\n      <td>No OS</td>\n      <td>1.86</td>\n      <td>30636.0000</td>\n      <td>0</td>\n      <td>0</td>\n      <td>141.211998</td>\n      <td>Intel Core i5</td>\n      <td>0</td>\n      <td>256</td>\n      <td>Intel</td>\n    </tr>\n    <tr>\n      <th>3</th>\n      <td>Apple</td>\n      <td>Ultrabook</td>\n      <td>16</td>\n      <td>AMD Radeon Pro 455</td>\n      <td>macOS</td>\n      <td>1.83</td>\n      <td>135195.3360</td>\n      <td>0</td>\n      <td>1</td>\n      <td>220.534624</td>\n      <td>Intel Core i7</td>\n      <td>0</td>\n      <td>512</td>\n      <td>AMD</td>\n    </tr>\n    <tr>\n      <th>4</th>\n      <td>Apple</td>\n      <td>Ultrabook</td>\n      <td>8</td>\n      <td>Intel Iris Plus Graphics 650</td>\n      <td>macOS</td>\n      <td>1.37</td>\n      <td>96095.8080</td>\n      <td>0</td>\n      <td>1</td>\n      <td>226.983005</td>\n      <td>Intel Core i5</td>\n      <td>0</td>\n      <td>256</td>\n      <td>Intel</td>\n    </tr>\n  </tbody>\n</table>\n</div>"
          },
          "metadata": {}
        }
      ]
    },
    {
      "cell_type": "code",
      "source": [
        "df['Gpu Brand'].value_counts()"
      ],
      "metadata": {
        "execution": {
          "iopub.status.busy": "2024-06-11T07:14:21.318614Z",
          "iopub.execute_input": "2024-06-11T07:14:21.319029Z",
          "iopub.status.idle": "2024-06-11T07:14:21.334079Z",
          "shell.execute_reply.started": "2024-06-11T07:14:21.318997Z",
          "shell.execute_reply": "2024-06-11T07:14:21.332936Z"
        },
        "trusted": true,
        "id": "99KaCtDI_sQ6",
        "outputId": "ec6ed985-b289-4d04-8e3c-6f15045f3e7b"
      },
      "execution_count": null,
      "outputs": [
        {
          "execution_count": 79,
          "output_type": "execute_result",
          "data": {
            "text/plain": "Gpu Brand\nIntel     722\nNvidia    400\nAMD       180\nARM         1\nName: count, dtype: int64"
          },
          "metadata": {}
        }
      ]
    },
    {
      "cell_type": "code",
      "source": [
        "df=df[df['Gpu Brand'] != 'ARM']"
      ],
      "metadata": {
        "execution": {
          "iopub.status.busy": "2024-06-11T07:14:21.33532Z",
          "iopub.execute_input": "2024-06-11T07:14:21.335721Z",
          "iopub.status.idle": "2024-06-11T07:14:21.346378Z",
          "shell.execute_reply.started": "2024-06-11T07:14:21.335685Z",
          "shell.execute_reply": "2024-06-11T07:14:21.345285Z"
        },
        "trusted": true,
        "id": "BCSU4QBx_sQ6"
      },
      "execution_count": null,
      "outputs": []
    },
    {
      "cell_type": "code",
      "source": [
        "df['Gpu Brand'].value_counts()"
      ],
      "metadata": {
        "execution": {
          "iopub.status.busy": "2024-06-11T07:14:21.347536Z",
          "iopub.execute_input": "2024-06-11T07:14:21.347962Z",
          "iopub.status.idle": "2024-06-11T07:14:21.361669Z",
          "shell.execute_reply.started": "2024-06-11T07:14:21.347923Z",
          "shell.execute_reply": "2024-06-11T07:14:21.360608Z"
        },
        "trusted": true,
        "id": "O0UYFAi7_sQ7",
        "outputId": "da83f891-2e12-4618-cdf7-c71f06d32457"
      },
      "execution_count": null,
      "outputs": [
        {
          "execution_count": 81,
          "output_type": "execute_result",
          "data": {
            "text/plain": "Gpu Brand\nIntel     722\nNvidia    400\nAMD       180\nName: count, dtype: int64"
          },
          "metadata": {}
        }
      ]
    },
    {
      "cell_type": "code",
      "source": [
        "sns.barplot(x=df['Gpu Brand'],y=df['Price'])"
      ],
      "metadata": {
        "execution": {
          "iopub.status.busy": "2024-06-11T07:14:21.374959Z",
          "iopub.execute_input": "2024-06-11T07:14:21.375532Z",
          "iopub.status.idle": "2024-06-11T07:14:21.685505Z",
          "shell.execute_reply.started": "2024-06-11T07:14:21.375494Z",
          "shell.execute_reply": "2024-06-11T07:14:21.684431Z"
        },
        "trusted": true,
        "id": "iT-6eVQx_sQ7",
        "outputId": "0fb746f4-234d-4c89-b0a0-fc422bb771eb"
      },
      "execution_count": null,
      "outputs": [
        {
          "execution_count": 82,
          "output_type": "execute_result",
          "data": {
            "text/plain": "<Axes: xlabel='Gpu Brand', ylabel='Price'>"
          },
          "metadata": {}
        },
        {
          "output_type": "display_data",
          "data": {
            "text/plain": "<Figure size 640x480 with 1 Axes>",
            "image/png": "[encoded data removed]"
          },
          "metadata": {}
        }
      ]
    },
    {
      "cell_type": "code",
      "source": [
        "df.drop(columns=['Gpu'],inplace=True)"
      ],
      "metadata": {
        "execution": {
          "iopub.status.busy": "2024-06-11T07:14:21.687229Z",
          "iopub.execute_input": "2024-06-11T07:14:21.687635Z",
          "iopub.status.idle": "2024-06-11T07:14:21.694776Z",
          "shell.execute_reply.started": "2024-06-11T07:14:21.6876Z",
          "shell.execute_reply": "2024-06-11T07:14:21.693297Z"
        },
        "trusted": true,
        "id": "aOrzYXLn_sQ7"
      },
      "execution_count": null,
      "outputs": []
    },
    {
      "cell_type": "code",
      "source": [
        "df.head()"
      ],
      "metadata": {
        "execution": {
          "iopub.status.busy": "2024-06-11T07:14:21.696428Z",
          "iopub.execute_input": "2024-06-11T07:14:21.696921Z",
          "iopub.status.idle": "2024-06-11T07:14:21.720436Z",
          "shell.execute_reply.started": "2024-06-11T07:14:21.696884Z",
          "shell.execute_reply": "2024-06-11T07:14:21.719287Z"
        },
        "trusted": true,
        "id": "4kwHSS_y_sQ7",
        "outputId": "9b987d8d-52af-4e67-9d11-c28ac4a182ee"
      },
      "execution_count": null,
      "outputs": [
        {
          "execution_count": 84,
          "output_type": "execute_result",
          "data": {
            "text/plain": "  Company   TypeName  Ram  OpSys  Weight        Price  Touchscreen  Ips  \\\n0   Apple  Ultrabook    8  macOS    1.37   71378.6832            0    1   \n1   Apple  Ultrabook    8  macOS    1.34   47895.5232            0    0   \n2      HP   Notebook    8  No OS    1.86   30636.0000            0    0   \n3   Apple  Ultrabook   16  macOS    1.83  135195.3360            0    1   \n4   Apple  Ultrabook    8  macOS    1.37   96095.8080            0    1   \n\n          Ppi      Cpu brand  HDD  SSD Gpu Brand  \n0  226.983005  Intel Core i5    0  128     Intel  \n1  127.677940  Intel Core i5    0    0     Intel  \n2  141.211998  Intel Core i5    0  256     Intel  \n3  220.534624  Intel Core i7    0  512       AMD  \n4  226.983005  Intel Core i5    0  256     Intel  ",
            "text/html": "<div>\n<style scoped>\n    .dataframe tbody tr th:only-of-type {\n        vertical-align: middle;\n    }\n\n    .dataframe tbody tr th {\n        vertical-align: top;\n    }\n\n    .dataframe thead th {\n        text-align: right;\n    }\n</style>\n<table border=\"1\" class=\"dataframe\">\n  <thead>\n    <tr style=\"text-align: right;\">\n      <th></th>\n      <th>Company</th>\n      <th>TypeName</th>\n      <th>Ram</th>\n      <th>OpSys</th>\n      <th>Weight</th>\n      <th>Price</th>\n      <th>Touchscreen</th>\n      <th>Ips</th>\n      <th>Ppi</th>\n      <th>Cpu brand</th>\n      <th>HDD</th>\n      <th>SSD</th>\n      <th>Gpu Brand</th>\n    </tr>\n  </thead>\n  <tbody>\n    <tr>\n      <th>0</th>\n      <td>Apple</td>\n      <td>Ultrabook</td>\n      <td>8</td>\n      <td>macOS</td>\n      <td>1.37</td>\n      <td>71378.6832</td>\n      <td>0</td>\n      <td>1</td>\n      <td>226.983005</td>\n      <td>Intel Core i5</td>\n      <td>0</td>\n      <td>128</td>\n      <td>Intel</td>\n    </tr>\n    <tr>\n      <th>1</th>\n      <td>Apple</td>\n      <td>Ultrabook</td>\n      <td>8</td>\n      <td>macOS</td>\n      <td>1.34</td>\n      <td>47895.5232</td>\n      <td>0</td>\n      <td>0</td>\n      <td>127.677940</td>\n      <td>Intel Core i5</td>\n      <td>0</td>\n      <td>0</td>\n      <td>Intel</td>\n    </tr>\n    <tr>\n      <th>2</th>\n      <td>HP</td>\n      <td>Notebook</td>\n      <td>8</td>\n      <td>No OS</td>\n      <td>1.86</td>\n      <td>30636.0000</td>\n      <td>0</td>\n      <td>0</td>\n      <td>141.211998</td>\n      <td>Intel Core i5</td>\n      <td>0</td>\n      <td>256</td>\n      <td>Intel</td>\n    </tr>\n    <tr>\n      <th>3</th>\n      <td>Apple</td>\n      <td>Ultrabook</td>\n      <td>16</td>\n      <td>macOS</td>\n      <td>1.83</td>\n      <td>135195.3360</td>\n      <td>0</td>\n      <td>1</td>\n      <td>220.534624</td>\n      <td>Intel Core i7</td>\n      <td>0</td>\n      <td>512</td>\n      <td>AMD</td>\n    </tr>\n    <tr>\n      <th>4</th>\n      <td>Apple</td>\n      <td>Ultrabook</td>\n      <td>8</td>\n      <td>macOS</td>\n      <td>1.37</td>\n      <td>96095.8080</td>\n      <td>0</td>\n      <td>1</td>\n      <td>226.983005</td>\n      <td>Intel Core i5</td>\n      <td>0</td>\n      <td>256</td>\n      <td>Intel</td>\n    </tr>\n  </tbody>\n</table>\n</div>"
          },
          "metadata": {}
        }
      ]
    },
    {
      "cell_type": "code",
      "source": [
        "df['OpSys'].value_counts()"
      ],
      "metadata": {
        "execution": {
          "iopub.status.busy": "2024-06-11T07:14:21.722431Z",
          "iopub.execute_input": "2024-06-11T07:14:21.722929Z",
          "iopub.status.idle": "2024-06-11T07:14:21.73669Z",
          "shell.execute_reply.started": "2024-06-11T07:14:21.722887Z",
          "shell.execute_reply": "2024-06-11T07:14:21.73551Z"
        },
        "trusted": true,
        "id": "ejAZuf0g_sQ7",
        "outputId": "e5a320dd-248d-48e4-d6ad-b9390eb45041"
      },
      "execution_count": null,
      "outputs": [
        {
          "execution_count": 85,
          "output_type": "execute_result",
          "data": {
            "text/plain": "OpSys\nWindows 10      1072\nNo OS             66\nLinux             62\nWindows 7         45\nChrome OS         26\nmacOS             13\nMac OS X           8\nWindows 10 S       8\nAndroid            2\nName: count, dtype: int64"
          },
          "metadata": {}
        }
      ]
    },
    {
      "cell_type": "code",
      "source": [
        "sns.barplot(x=df['OpSys'],y=df['Price'])\n",
        "plt.xticks(rotation='vertical')\n",
        "plt.show()"
      ],
      "metadata": {
        "execution": {
          "iopub.status.busy": "2024-06-11T07:14:21.738292Z",
          "iopub.execute_input": "2024-06-11T07:14:21.738757Z",
          "iopub.status.idle": "2024-06-11T07:14:22.293457Z",
          "shell.execute_reply.started": "2024-06-11T07:14:21.738701Z",
          "shell.execute_reply": "2024-06-11T07:14:22.292218Z"
        },
        "trusted": true,
        "id": "TX-P3LbQ_sQ7",
        "outputId": "b2f17045-ee5c-4045-8352-fd8e742f0153"
      },
      "execution_count": null,
      "outputs": [
        {
          "output_type": "display_data",
          "data": {
            "text/plain": "<Figure size 640x480 with 1 Axes>",
            "image/png": "[encoded data removed]"
          },
          "metadata": {}
        }
      ]
    },
    {
      "cell_type": "markdown",
      "source": [
        "# Catagrise the OpSys in Windows, Mac and Other for (cat_os Function)"
      ],
      "metadata": {
        "id": "RUJA9LDQ_sQ7"
      }
    },
    {
      "cell_type": "code",
      "source": [
        "def cat_os(inp):\n",
        "    if inp == 'Windows 10' or inp == 'Windows 7' or inp == 'Windows 10 S':\n",
        "        return 'Windows'\n",
        "    elif inp == 'macOS' or inp == 'Mac OS X':\n",
        "        return 'Mac'\n",
        "    else:\n",
        "        return 'Others/No OS/Linux'"
      ],
      "metadata": {
        "execution": {
          "iopub.status.busy": "2024-06-11T07:14:22.294894Z",
          "iopub.execute_input": "2024-06-11T07:14:22.295319Z",
          "iopub.status.idle": "2024-06-11T07:14:22.301708Z",
          "shell.execute_reply.started": "2024-06-11T07:14:22.295266Z",
          "shell.execute_reply": "2024-06-11T07:14:22.300593Z"
        },
        "trusted": true,
        "id": "v7wdtGPr_sQ7"
      },
      "execution_count": null,
      "outputs": []
    },
    {
      "cell_type": "code",
      "source": [
        "df['Os']=df['OpSys'].apply(cat_os)"
      ],
      "metadata": {
        "execution": {
          "iopub.status.busy": "2024-06-11T07:14:22.303035Z",
          "iopub.execute_input": "2024-06-11T07:14:22.303336Z",
          "iopub.status.idle": "2024-06-11T07:14:22.31489Z",
          "shell.execute_reply.started": "2024-06-11T07:14:22.30331Z",
          "shell.execute_reply": "2024-06-11T07:14:22.313814Z"
        },
        "trusted": true,
        "id": "rwSd-HUt_sQ-"
      },
      "execution_count": null,
      "outputs": []
    },
    {
      "cell_type": "code",
      "source": [
        "df.head()"
      ],
      "metadata": {
        "execution": {
          "iopub.status.busy": "2024-06-11T07:14:22.31617Z",
          "iopub.execute_input": "2024-06-11T07:14:22.316461Z",
          "iopub.status.idle": "2024-06-11T07:14:22.339609Z",
          "shell.execute_reply.started": "2024-06-11T07:14:22.316436Z",
          "shell.execute_reply": "2024-06-11T07:14:22.338436Z"
        },
        "trusted": true,
        "id": "vzOHB-o4_sQ-",
        "outputId": "60c66b19-d5c1-4582-8fde-c558b06053da"
      },
      "execution_count": null,
      "outputs": [
        {
          "execution_count": 89,
          "output_type": "execute_result",
          "data": {
            "text/plain": "  Company   TypeName  Ram  OpSys  Weight        Price  Touchscreen  Ips  \\\n0   Apple  Ultrabook    8  macOS    1.37   71378.6832            0    1   \n1   Apple  Ultrabook    8  macOS    1.34   47895.5232            0    0   \n2      HP   Notebook    8  No OS    1.86   30636.0000            0    0   \n3   Apple  Ultrabook   16  macOS    1.83  135195.3360            0    1   \n4   Apple  Ultrabook    8  macOS    1.37   96095.8080            0    1   \n\n          Ppi      Cpu brand  HDD  SSD Gpu Brand                  Os  \n0  226.983005  Intel Core i5    0  128     Intel                 Mac  \n1  127.677940  Intel Core i5    0    0     Intel                 Mac  \n2  141.211998  Intel Core i5    0  256     Intel  Others/No OS/Linux  \n3  220.534624  Intel Core i7    0  512       AMD                 Mac  \n4  226.983005  Intel Core i5    0  256     Intel                 Mac  ",
            "text/html": "<div>\n<style scoped>\n    .dataframe tbody tr th:only-of-type {\n        vertical-align: middle;\n    }\n\n    .dataframe tbody tr th {\n        vertical-align: top;\n    }\n\n    .dataframe thead th {\n        text-align: right;\n    }\n</style>\n<table border=\"1\" class=\"dataframe\">\n  <thead>\n    <tr style=\"text-align: right;\">\n      <th></th>\n      <th>Company</th>\n      <th>TypeName</th>\n      <th>Ram</th>\n      <th>OpSys</th>\n      <th>Weight</th>\n      <th>Price</th>\n      <th>Touchscreen</th>\n      <th>Ips</th>\n      <th>Ppi</th>\n      <th>Cpu brand</th>\n      <th>HDD</th>\n      <th>SSD</th>\n      <th>Gpu Brand</th>\n      <th>Os</th>\n    </tr>\n  </thead>\n  <tbody>\n    <tr>\n      <th>0</th>\n      <td>Apple</td>\n      <td>Ultrabook</td>\n      <td>8</td>\n      <td>macOS</td>\n      <td>1.37</td>\n      <td>71378.6832</td>\n      <td>0</td>\n      <td>1</td>\n      <td>226.983005</td>\n      <td>Intel Core i5</td>\n      <td>0</td>\n      <td>128</td>\n      <td>Intel</td>\n      <td>Mac</td>\n    </tr>\n    <tr>\n      <th>1</th>\n      <td>Apple</td>\n      <td>Ultrabook</td>\n      <td>8</td>\n      <td>macOS</td>\n      <td>1.34</td>\n      <td>47895.5232</td>\n      <td>0</td>\n      <td>0</td>\n      <td>127.677940</td>\n      <td>Intel Core i5</td>\n      <td>0</td>\n      <td>0</td>\n      <td>Intel</td>\n      <td>Mac</td>\n    </tr>\n    <tr>\n      <th>2</th>\n      <td>HP</td>\n      <td>Notebook</td>\n      <td>8</td>\n      <td>No OS</td>\n      <td>1.86</td>\n      <td>30636.0000</td>\n      <td>0</td>\n      <td>0</td>\n      <td>141.211998</td>\n      <td>Intel Core i5</td>\n      <td>0</td>\n      <td>256</td>\n      <td>Intel</td>\n      <td>Others/No OS/Linux</td>\n    </tr>\n    <tr>\n      <th>3</th>\n      <td>Apple</td>\n      <td>Ultrabook</td>\n      <td>16</td>\n      <td>macOS</td>\n      <td>1.83</td>\n      <td>135195.3360</td>\n      <td>0</td>\n      <td>1</td>\n      <td>220.534624</td>\n      <td>Intel Core i7</td>\n      <td>0</td>\n      <td>512</td>\n      <td>AMD</td>\n      <td>Mac</td>\n    </tr>\n    <tr>\n      <th>4</th>\n      <td>Apple</td>\n      <td>Ultrabook</td>\n      <td>8</td>\n      <td>macOS</td>\n      <td>1.37</td>\n      <td>96095.8080</td>\n      <td>0</td>\n      <td>1</td>\n      <td>226.983005</td>\n      <td>Intel Core i5</td>\n      <td>0</td>\n      <td>256</td>\n      <td>Intel</td>\n      <td>Mac</td>\n    </tr>\n  </tbody>\n</table>\n</div>"
          },
          "metadata": {}
        }
      ]
    },
    {
      "cell_type": "code",
      "source": [
        "df.drop(columns=['OpSys'],inplace=True)"
      ],
      "metadata": {
        "execution": {
          "iopub.status.busy": "2024-06-11T07:14:22.341231Z",
          "iopub.execute_input": "2024-06-11T07:14:22.341612Z",
          "iopub.status.idle": "2024-06-11T07:14:22.350359Z",
          "shell.execute_reply.started": "2024-06-11T07:14:22.341578Z",
          "shell.execute_reply": "2024-06-11T07:14:22.349275Z"
        },
        "trusted": true,
        "id": "8JqSDhP-_sQ-"
      },
      "execution_count": null,
      "outputs": []
    },
    {
      "cell_type": "code",
      "source": [
        "df.head(3)"
      ],
      "metadata": {
        "execution": {
          "iopub.status.busy": "2024-06-11T07:14:22.351523Z",
          "iopub.execute_input": "2024-06-11T07:14:22.351834Z",
          "iopub.status.idle": "2024-06-11T07:14:22.374047Z",
          "shell.execute_reply.started": "2024-06-11T07:14:22.351809Z",
          "shell.execute_reply": "2024-06-11T07:14:22.372686Z"
        },
        "trusted": true,
        "id": "A3dDrdtY_sQ-",
        "outputId": "a12a6a37-fad9-4d09-d894-58a4b3bc2acd"
      },
      "execution_count": null,
      "outputs": [
        {
          "execution_count": 91,
          "output_type": "execute_result",
          "data": {
            "text/plain": "  Company   TypeName  Ram  Weight       Price  Touchscreen  Ips         Ppi  \\\n0   Apple  Ultrabook    8    1.37  71378.6832            0    1  226.983005   \n1   Apple  Ultrabook    8    1.34  47895.5232            0    0  127.677940   \n2      HP   Notebook    8    1.86  30636.0000            0    0  141.211998   \n\n       Cpu brand  HDD  SSD Gpu Brand                  Os  \n0  Intel Core i5    0  128     Intel                 Mac  \n1  Intel Core i5    0    0     Intel                 Mac  \n2  Intel Core i5    0  256     Intel  Others/No OS/Linux  ",
            "text/html": "<div>\n<style scoped>\n    .dataframe tbody tr th:only-of-type {\n        vertical-align: middle;\n    }\n\n    .dataframe tbody tr th {\n        vertical-align: top;\n    }\n\n    .dataframe thead th {\n        text-align: right;\n    }\n</style>\n<table border=\"1\" class=\"dataframe\">\n  <thead>\n    <tr style=\"text-align: right;\">\n      <th></th>\n      <th>Company</th>\n      <th>TypeName</th>\n      <th>Ram</th>\n      <th>Weight</th>\n      <th>Price</th>\n      <th>Touchscreen</th>\n      <th>Ips</th>\n      <th>Ppi</th>\n      <th>Cpu brand</th>\n      <th>HDD</th>\n      <th>SSD</th>\n      <th>Gpu Brand</th>\n      <th>Os</th>\n    </tr>\n  </thead>\n  <tbody>\n    <tr>\n      <th>0</th>\n      <td>Apple</td>\n      <td>Ultrabook</td>\n      <td>8</td>\n      <td>1.37</td>\n      <td>71378.6832</td>\n      <td>0</td>\n      <td>1</td>\n      <td>226.983005</td>\n      <td>Intel Core i5</td>\n      <td>0</td>\n      <td>128</td>\n      <td>Intel</td>\n      <td>Mac</td>\n    </tr>\n    <tr>\n      <th>1</th>\n      <td>Apple</td>\n      <td>Ultrabook</td>\n      <td>8</td>\n      <td>1.34</td>\n      <td>47895.5232</td>\n      <td>0</td>\n      <td>0</td>\n      <td>127.677940</td>\n      <td>Intel Core i5</td>\n      <td>0</td>\n      <td>0</td>\n      <td>Intel</td>\n      <td>Mac</td>\n    </tr>\n    <tr>\n      <th>2</th>\n      <td>HP</td>\n      <td>Notebook</td>\n      <td>8</td>\n      <td>1.86</td>\n      <td>30636.0000</td>\n      <td>0</td>\n      <td>0</td>\n      <td>141.211998</td>\n      <td>Intel Core i5</td>\n      <td>0</td>\n      <td>256</td>\n      <td>Intel</td>\n      <td>Others/No OS/Linux</td>\n    </tr>\n  </tbody>\n</table>\n</div>"
          },
          "metadata": {}
        }
      ]
    },
    {
      "cell_type": "code",
      "source": [
        "sns.barplot(x=df['Os'],y=df['Price'])\n",
        "plt.xticks(rotation='vertical')\n",
        "plt.show()"
      ],
      "metadata": {
        "execution": {
          "iopub.status.busy": "2024-06-11T07:14:22.375439Z",
          "iopub.execute_input": "2024-06-11T07:14:22.375908Z",
          "iopub.status.idle": "2024-06-11T07:14:22.649147Z",
          "shell.execute_reply.started": "2024-06-11T07:14:22.375874Z",
          "shell.execute_reply": "2024-06-11T07:14:22.648173Z"
        },
        "trusted": true,
        "id": "xGDaxf1t_sQ_",
        "outputId": "98b2e7bc-ec48-43fe-b0d8-a7839bc437f1"
      },
      "execution_count": null,
      "outputs": [
        {
          "output_type": "display_data",
          "data": {
            "text/plain": "<Figure size 640x480 with 1 Axes>",
            "image/png": "[encoded data removed]"
          },
          "metadata": {}
        }
      ]
    },
    {
      "cell_type": "code",
      "source": [
        "sns.scatterplot(x=df['Weight'],y=df['Price'])"
      ],
      "metadata": {
        "execution": {
          "iopub.status.busy": "2024-06-11T07:14:22.650592Z",
          "iopub.execute_input": "2024-06-11T07:14:22.650945Z",
          "iopub.status.idle": "2024-06-11T07:14:22.96921Z",
          "shell.execute_reply.started": "2024-06-11T07:14:22.650918Z",
          "shell.execute_reply": "2024-06-11T07:14:22.968032Z"
        },
        "trusted": true,
        "id": "i2w8ebFI_sQ_",
        "outputId": "0b6f86d7-5d9b-4eec-f960-123719cda367"
      },
      "execution_count": null,
      "outputs": [
        {
          "execution_count": 93,
          "output_type": "execute_result",
          "data": {
            "text/plain": "<Axes: xlabel='Weight', ylabel='Price'>"
          },
          "metadata": {}
        },
        {
          "output_type": "display_data",
          "data": {
            "text/plain": "<Figure size 640x480 with 1 Axes>",
            "image/png": "[encoded data removed]"
          },
          "metadata": {}
        }
      ]
    },
    {
      "cell_type": "code",
      "source": [
        "df.head(2)"
      ],
      "metadata": {
        "execution": {
          "iopub.status.busy": "2024-06-11T07:14:22.97048Z",
          "iopub.execute_input": "2024-06-11T07:14:22.970828Z",
          "iopub.status.idle": "2024-06-11T07:14:22.987012Z",
          "shell.execute_reply.started": "2024-06-11T07:14:22.9708Z",
          "shell.execute_reply": "2024-06-11T07:14:22.985805Z"
        },
        "trusted": true,
        "id": "7CnIOkXs_sQ_",
        "outputId": "0aaf7a30-801c-4cd9-be5c-2ec6f53be111"
      },
      "execution_count": null,
      "outputs": [
        {
          "execution_count": 94,
          "output_type": "execute_result",
          "data": {
            "text/plain": "  Company   TypeName  Ram  Weight       Price  Touchscreen  Ips         Ppi  \\\n0   Apple  Ultrabook    8    1.37  71378.6832            0    1  226.983005   \n1   Apple  Ultrabook    8    1.34  47895.5232            0    0  127.677940   \n\n       Cpu brand  HDD  SSD Gpu Brand   Os  \n0  Intel Core i5    0  128     Intel  Mac  \n1  Intel Core i5    0    0     Intel  Mac  ",
            "text/html": "<div>\n<style scoped>\n    .dataframe tbody tr th:only-of-type {\n        vertical-align: middle;\n    }\n\n    .dataframe tbody tr th {\n        vertical-align: top;\n    }\n\n    .dataframe thead th {\n        text-align: right;\n    }\n</style>\n<table border=\"1\" class=\"dataframe\">\n  <thead>\n    <tr style=\"text-align: right;\">\n      <th></th>\n      <th>Company</th>\n      <th>TypeName</th>\n      <th>Ram</th>\n      <th>Weight</th>\n      <th>Price</th>\n      <th>Touchscreen</th>\n      <th>Ips</th>\n      <th>Ppi</th>\n      <th>Cpu brand</th>\n      <th>HDD</th>\n      <th>SSD</th>\n      <th>Gpu Brand</th>\n      <th>Os</th>\n    </tr>\n  </thead>\n  <tbody>\n    <tr>\n      <th>0</th>\n      <td>Apple</td>\n      <td>Ultrabook</td>\n      <td>8</td>\n      <td>1.37</td>\n      <td>71378.6832</td>\n      <td>0</td>\n      <td>1</td>\n      <td>226.983005</td>\n      <td>Intel Core i5</td>\n      <td>0</td>\n      <td>128</td>\n      <td>Intel</td>\n      <td>Mac</td>\n    </tr>\n    <tr>\n      <th>1</th>\n      <td>Apple</td>\n      <td>Ultrabook</td>\n      <td>8</td>\n      <td>1.34</td>\n      <td>47895.5232</td>\n      <td>0</td>\n      <td>0</td>\n      <td>127.677940</td>\n      <td>Intel Core i5</td>\n      <td>0</td>\n      <td>0</td>\n      <td>Intel</td>\n      <td>Mac</td>\n    </tr>\n  </tbody>\n</table>\n</div>"
          },
          "metadata": {}
        }
      ]
    },
    {
      "cell_type": "markdown",
      "source": [
        "# **Log Transformation :-**A log transformation is a mathematical operation applied to a dataset, typically to make the data conform more closely to the assumptions of statistical tests or models."
      ],
      "metadata": {
        "id": "e61bpaiw_sQ_"
      }
    },
    {
      "cell_type": "code",
      "source": [
        "sns.distplot(np.log(df['Price']))"
      ],
      "metadata": {
        "execution": {
          "iopub.status.busy": "2024-06-11T07:14:22.988428Z",
          "iopub.execute_input": "2024-06-11T07:14:22.988776Z",
          "iopub.status.idle": "2024-06-11T07:14:23.321499Z",
          "shell.execute_reply.started": "2024-06-11T07:14:22.988721Z",
          "shell.execute_reply": "2024-06-11T07:14:23.320224Z"
        },
        "trusted": true,
        "id": "9Uvc5Rfe_sQ_",
        "outputId": "a9228aaf-0df6-40eb-a74d-71d3aadd03f0"
      },
      "execution_count": null,
      "outputs": [
        {
          "name": "stderr",
          "text": "/tmp/ipykernel_33/3556049916.py:1: UserWarning: \n\n`distplot` is a deprecated function and will be removed in seaborn v0.14.0.\n\nPlease adapt your code to use either `displot` (a figure-level function with\nsimilar flexibility) or `histplot` (an axes-level function for histograms).\n\nFor a guide to updating your code to use the new functions, please see\nhttps://gist.github.com/mwaskom/de44147ed2974457ad6372750bbe5751\n\n  sns.distplot(np.log(df['Price']))\n/opt/conda/lib/python3.10/site-packages/seaborn/_oldcore.py:1119: FutureWarning: use_inf_as_na option is deprecated and will be removed in a future version. Convert inf values to NaN before operating instead.\n  with pd.option_context('mode.use_inf_as_na', True):\n",
          "output_type": "stream"
        },
        {
          "execution_count": 95,
          "output_type": "execute_result",
          "data": {
            "text/plain": "<Axes: xlabel='Price', ylabel='Density'>"
          },
          "metadata": {}
        },
        {
          "output_type": "display_data",
          "data": {
            "text/plain": "<Figure size 640x480 with 1 Axes>",
            "image/png": "[encoded data removed]"
          },
          "metadata": {}
        }
      ]
    },
    {
      "cell_type": "code",
      "source": [
        "X = df.drop(columns=['Price'])\n",
        "y = np.log(df['Price'])"
      ],
      "metadata": {
        "execution": {
          "iopub.status.busy": "2024-06-11T07:14:23.323051Z",
          "iopub.execute_input": "2024-06-11T07:14:23.323474Z",
          "iopub.status.idle": "2024-06-11T07:14:23.331788Z",
          "shell.execute_reply.started": "2024-06-11T07:14:23.323434Z",
          "shell.execute_reply": "2024-06-11T07:14:23.330573Z"
        },
        "trusted": true,
        "id": "0D7sNwuS_sQ_"
      },
      "execution_count": null,
      "outputs": []
    },
    {
      "cell_type": "code",
      "source": [
        "X"
      ],
      "metadata": {
        "execution": {
          "iopub.status.busy": "2024-06-11T07:14:23.333644Z",
          "iopub.execute_input": "2024-06-11T07:14:23.334076Z",
          "iopub.status.idle": "2024-06-11T07:14:23.359919Z",
          "shell.execute_reply.started": "2024-06-11T07:14:23.334046Z",
          "shell.execute_reply": "2024-06-11T07:14:23.358719Z"
        },
        "trusted": true,
        "id": "oa9Rhl8n_sQ_",
        "outputId": "7a02b234-9230-43f6-efb7-a02a8287de94"
      },
      "execution_count": null,
      "outputs": [
        {
          "execution_count": 97,
          "output_type": "execute_result",
          "data": {
            "text/plain": "     Company            TypeName  Ram  Weight  Touchscreen  Ips         Ppi  \\\n0      Apple           Ultrabook    8    1.37            0    1  226.983005   \n1      Apple           Ultrabook    8    1.34            0    0  127.677940   \n2         HP            Notebook    8    1.86            0    0  141.211998   \n3      Apple           Ultrabook   16    1.83            0    1  220.534624   \n4      Apple           Ultrabook    8    1.37            0    1  226.983005   \n...      ...                 ...  ...     ...          ...  ...         ...   \n1298  Lenovo  2 in 1 Convertible    4    1.80            1    1  157.350512   \n1299  Lenovo  2 in 1 Convertible   16    1.30            1    1  276.053530   \n1300  Lenovo            Notebook    2    1.50            0    0  111.935204   \n1301      HP            Notebook    6    2.19            0    0  100.454670   \n1302    Asus            Notebook    4    2.20            0    0  100.454670   \n\n                  Cpu brand   HDD  SSD Gpu Brand                  Os  \n0             Intel Core i5     0  128     Intel                 Mac  \n1             Intel Core i5     0    0     Intel                 Mac  \n2             Intel Core i5     0  256     Intel  Others/No OS/Linux  \n3             Intel Core i7     0  512       AMD                 Mac  \n4             Intel Core i5     0  256     Intel                 Mac  \n...                     ...   ...  ...       ...                 ...  \n1298          Intel Core i7     0  128     Intel             Windows  \n1299          Intel Core i7     0  512     Intel             Windows  \n1300  Other Intel Processor     0    0     Intel             Windows  \n1301          Intel Core i7  1000    0       AMD             Windows  \n1302  Other Intel Processor   500    0     Intel             Windows  \n\n[1302 rows x 12 columns]",
            "text/html": "<div>\n<style scoped>\n    .dataframe tbody tr th:only-of-type {\n        vertical-align: middle;\n    }\n\n    .dataframe tbody tr th {\n        vertical-align: top;\n    }\n\n    .dataframe thead th {\n        text-align: right;\n    }\n</style>\n<table border=\"1\" class=\"dataframe\">\n  <thead>\n    <tr style=\"text-align: right;\">\n      <th></th>\n      <th>Company</th>\n      <th>TypeName</th>\n      <th>Ram</th>\n      <th>Weight</th>\n      <th>Touchscreen</th>\n      <th>Ips</th>\n      <th>Ppi</th>\n      <th>Cpu brand</th>\n      <th>HDD</th>\n      <th>SSD</th>\n      <th>Gpu Brand</th>\n      <th>Os</th>\n    </tr>\n  </thead>\n  <tbody>\n    <tr>\n      <th>0</th>\n      <td>Apple</td>\n      <td>Ultrabook</td>\n      <td>8</td>\n      <td>1.37</td>\n      <td>0</td>\n      <td>1</td>\n      <td>226.983005</td>\n      <td>Intel Core i5</td>\n      <td>0</td>\n      <td>128</td>\n      <td>Intel</td>\n      <td>Mac</td>\n    </tr>\n    <tr>\n      <th>1</th>\n      <td>Apple</td>\n      <td>Ultrabook</td>\n      <td>8</td>\n      <td>1.34</td>\n      <td>0</td>\n      <td>0</td>\n      <td>127.677940</td>\n      <td>Intel Core i5</td>\n      <td>0</td>\n      <td>0</td>\n      <td>Intel</td>\n      <td>Mac</td>\n    </tr>\n    <tr>\n      <th>2</th>\n      <td>HP</td>\n      <td>Notebook</td>\n      <td>8</td>\n      <td>1.86</td>\n      <td>0</td>\n      <td>0</td>\n      <td>141.211998</td>\n      <td>Intel Core i5</td>\n      <td>0</td>\n      <td>256</td>\n      <td>Intel</td>\n      <td>Others/No OS/Linux</td>\n    </tr>\n    <tr>\n      <th>3</th>\n      <td>Apple</td>\n      <td>Ultrabook</td>\n      <td>16</td>\n      <td>1.83</td>\n      <td>0</td>\n      <td>1</td>\n      <td>220.534624</td>\n      <td>Intel Core i7</td>\n      <td>0</td>\n      <td>512</td>\n      <td>AMD</td>\n      <td>Mac</td>\n    </tr>\n    <tr>\n      <th>4</th>\n      <td>Apple</td>\n      <td>Ultrabook</td>\n      <td>8</td>\n      <td>1.37</td>\n      <td>0</td>\n      <td>1</td>\n      <td>226.983005</td>\n      <td>Intel Core i5</td>\n      <td>0</td>\n      <td>256</td>\n      <td>Intel</td>\n      <td>Mac</td>\n    </tr>\n    <tr>\n      <th>...</th>\n      <td>...</td>\n      <td>...</td>\n      <td>...</td>\n      <td>...</td>\n      <td>...</td>\n      <td>...</td>\n      <td>...</td>\n      <td>...</td>\n      <td>...</td>\n      <td>...</td>\n      <td>...</td>\n      <td>...</td>\n    </tr>\n    <tr>\n      <th>1298</th>\n      <td>Lenovo</td>\n      <td>2 in 1 Convertible</td>\n      <td>4</td>\n      <td>1.80</td>\n      <td>1</td>\n      <td>1</td>\n      <td>157.350512</td>\n      <td>Intel Core i7</td>\n      <td>0</td>\n      <td>128</td>\n      <td>Intel</td>\n      <td>Windows</td>\n    </tr>\n    <tr>\n      <th>1299</th>\n      <td>Lenovo</td>\n      <td>2 in 1 Convertible</td>\n      <td>16</td>\n      <td>1.30</td>\n      <td>1</td>\n      <td>1</td>\n      <td>276.053530</td>\n      <td>Intel Core i7</td>\n      <td>0</td>\n      <td>512</td>\n      <td>Intel</td>\n      <td>Windows</td>\n    </tr>\n    <tr>\n      <th>1300</th>\n      <td>Lenovo</td>\n      <td>Notebook</td>\n      <td>2</td>\n      <td>1.50</td>\n      <td>0</td>\n      <td>0</td>\n      <td>111.935204</td>\n      <td>Other Intel Processor</td>\n      <td>0</td>\n      <td>0</td>\n      <td>Intel</td>\n      <td>Windows</td>\n    </tr>\n    <tr>\n      <th>1301</th>\n      <td>HP</td>\n      <td>Notebook</td>\n      <td>6</td>\n      <td>2.19</td>\n      <td>0</td>\n      <td>0</td>\n      <td>100.454670</td>\n      <td>Intel Core i7</td>\n      <td>1000</td>\n      <td>0</td>\n      <td>AMD</td>\n      <td>Windows</td>\n    </tr>\n    <tr>\n      <th>1302</th>\n      <td>Asus</td>\n      <td>Notebook</td>\n      <td>4</td>\n      <td>2.20</td>\n      <td>0</td>\n      <td>0</td>\n      <td>100.454670</td>\n      <td>Other Intel Processor</td>\n      <td>500</td>\n      <td>0</td>\n      <td>Intel</td>\n      <td>Windows</td>\n    </tr>\n  </tbody>\n</table>\n<p>1302 rows × 12 columns</p>\n</div>"
          },
          "metadata": {}
        }
      ]
    },
    {
      "cell_type": "code",
      "source": [
        "y"
      ],
      "metadata": {
        "execution": {
          "iopub.status.busy": "2024-06-11T07:14:23.361759Z",
          "iopub.execute_input": "2024-06-11T07:14:23.362182Z",
          "iopub.status.idle": "2024-06-11T07:14:23.375888Z",
          "shell.execute_reply.started": "2024-06-11T07:14:23.362104Z",
          "shell.execute_reply": "2024-06-11T07:14:23.37452Z"
        },
        "trusted": true,
        "id": "I-Q_f6tm_sQ_",
        "outputId": "d7b9e739-59eb-44f5-9b17-d3dd3a4c801a"
      },
      "execution_count": null,
      "outputs": [
        {
          "execution_count": 98,
          "output_type": "execute_result",
          "data": {
            "text/plain": "0       11.175755\n1       10.776777\n2       10.329931\n3       11.814476\n4       11.473101\n          ...    \n1298    10.433899\n1299    11.288115\n1300     9.409283\n1301    10.614129\n1302     9.886358\nName: Price, Length: 1302, dtype: float64"
          },
          "metadata": {}
        }
      ]
    },
    {
      "cell_type": "markdown",
      "source": [
        " ** train-test-split :-**For evaluating the performance of predictive models. It involves splitting a dataset into two subsets: one for training the model and the other for testing the model's performance."
      ],
      "metadata": {
        "id": "-IZnpOyp_sRA"
      }
    },
    {
      "cell_type": "code",
      "source": [
        "from sklearn.model_selection import train_test_split\n",
        "X_train,X_test,y_train,y_test = train_test_split(X,y,test_size=0.15,random_state=2)"
      ],
      "metadata": {
        "execution": {
          "iopub.status.busy": "2024-06-11T07:14:23.377144Z",
          "iopub.execute_input": "2024-06-11T07:14:23.377489Z",
          "iopub.status.idle": "2024-06-11T07:14:23.599382Z",
          "shell.execute_reply.started": "2024-06-11T07:14:23.377461Z",
          "shell.execute_reply": "2024-06-11T07:14:23.598234Z"
        },
        "trusted": true,
        "id": "M8TQGMqQ_sRA"
      },
      "execution_count": null,
      "outputs": []
    },
    {
      "cell_type": "code",
      "source": [
        "X_train"
      ],
      "metadata": {
        "execution": {
          "iopub.status.busy": "2024-06-11T07:14:23.600662Z",
          "iopub.execute_input": "2024-06-11T07:14:23.601032Z",
          "iopub.status.idle": "2024-06-11T07:14:23.621816Z",
          "shell.execute_reply.started": "2024-06-11T07:14:23.601005Z",
          "shell.execute_reply": "2024-06-11T07:14:23.620368Z"
        },
        "trusted": true,
        "id": "L2-FyfA2_sRA",
        "outputId": "fa12be0a-e6c7-4a72-c1ef-1c1cac237dbb"
      },
      "execution_count": null,
      "outputs": [
        {
          "execution_count": 100,
          "output_type": "execute_result",
          "data": {
            "text/plain": "      Company            TypeName  Ram  Weight  Touchscreen  Ips         Ppi  \\\n183   Toshiba            Notebook    8    2.00            0    0  100.454670   \n1141      MSI              Gaming    8    2.40            0    0  141.211998   \n1049     Asus             Netbook    4    1.20            0    0  135.094211   \n1020     Dell  2 in 1 Convertible    4    2.08            1    1  141.211998   \n878      Dell            Notebook    4    2.18            0    0  141.211998   \n...       ...                 ...  ...     ...          ...  ...         ...   \n466      Acer            Notebook    4    2.20            0    0  100.454670   \n299      Asus           Ultrabook   16    1.63            0    0  141.211998   \n493      Acer            Notebook    8    2.20            0    0  100.454670   \n527    Lenovo            Notebook    8    2.20            0    0  100.454670   \n1193    Apple           Ultrabook    8    0.92            0    1  226.415547   \n\n                  Cpu brand   HDD  SSD Gpu Brand                  Os  \n183           Intel Core i5     0  128     Intel             Windows  \n1141          Intel Core i7  1000  128    Nvidia             Windows  \n1049  Other Intel Processor     0    0     Intel  Others/No OS/Linux  \n1020          Intel Core i3  1000    0     Intel             Windows  \n878           Intel Core i5  1000  128    Nvidia             Windows  \n...                     ...   ...  ...       ...                 ...  \n466           Intel Core i3   500    0    Nvidia             Windows  \n299           Intel Core i7     0  512    Nvidia             Windows  \n493           AMD Processor  1000    0       AMD             Windows  \n527           Intel Core i3  2000    0    Nvidia  Others/No OS/Linux  \n1193  Other Intel Processor     0    0     Intel                 Mac  \n\n[1106 rows x 12 columns]",
            "text/html": "<div>\n<style scoped>\n    .dataframe tbody tr th:only-of-type {\n        vertical-align: middle;\n    }\n\n    .dataframe tbody tr th {\n        vertical-align: top;\n    }\n\n    .dataframe thead th {\n        text-align: right;\n    }\n</style>\n<table border=\"1\" class=\"dataframe\">\n  <thead>\n    <tr style=\"text-align: right;\">\n      <th></th>\n      <th>Company</th>\n      <th>TypeName</th>\n      <th>Ram</th>\n      <th>Weight</th>\n      <th>Touchscreen</th>\n      <th>Ips</th>\n      <th>Ppi</th>\n      <th>Cpu brand</th>\n      <th>HDD</th>\n      <th>SSD</th>\n      <th>Gpu Brand</th>\n      <th>Os</th>\n    </tr>\n  </thead>\n  <tbody>\n    <tr>\n      <th>183</th>\n      <td>Toshiba</td>\n      <td>Notebook</td>\n      <td>8</td>\n      <td>2.00</td>\n      <td>0</td>\n      <td>0</td>\n      <td>100.454670</td>\n      <td>Intel Core i5</td>\n      <td>0</td>\n      <td>128</td>\n      <td>Intel</td>\n      <td>Windows</td>\n    </tr>\n    <tr>\n      <th>1141</th>\n      <td>MSI</td>\n      <td>Gaming</td>\n      <td>8</td>\n      <td>2.40</td>\n      <td>0</td>\n      <td>0</td>\n      <td>141.211998</td>\n      <td>Intel Core i7</td>\n      <td>1000</td>\n      <td>128</td>\n      <td>Nvidia</td>\n      <td>Windows</td>\n    </tr>\n    <tr>\n      <th>1049</th>\n      <td>Asus</td>\n      <td>Netbook</td>\n      <td>4</td>\n      <td>1.20</td>\n      <td>0</td>\n      <td>0</td>\n      <td>135.094211</td>\n      <td>Other Intel Processor</td>\n      <td>0</td>\n      <td>0</td>\n      <td>Intel</td>\n      <td>Others/No OS/Linux</td>\n    </tr>\n    <tr>\n      <th>1020</th>\n      <td>Dell</td>\n      <td>2 in 1 Convertible</td>\n      <td>4</td>\n      <td>2.08</td>\n      <td>1</td>\n      <td>1</td>\n      <td>141.211998</td>\n      <td>Intel Core i3</td>\n      <td>1000</td>\n      <td>0</td>\n      <td>Intel</td>\n      <td>Windows</td>\n    </tr>\n    <tr>\n      <th>878</th>\n      <td>Dell</td>\n      <td>Notebook</td>\n      <td>4</td>\n      <td>2.18</td>\n      <td>0</td>\n      <td>0</td>\n      <td>141.211998</td>\n      <td>Intel Core i5</td>\n      <td>1000</td>\n      <td>128</td>\n      <td>Nvidia</td>\n      <td>Windows</td>\n    </tr>\n    <tr>\n      <th>...</th>\n      <td>...</td>\n      <td>...</td>\n      <td>...</td>\n      <td>...</td>\n      <td>...</td>\n      <td>...</td>\n      <td>...</td>\n      <td>...</td>\n      <td>...</td>\n      <td>...</td>\n      <td>...</td>\n      <td>...</td>\n    </tr>\n    <tr>\n      <th>466</th>\n      <td>Acer</td>\n      <td>Notebook</td>\n      <td>4</td>\n      <td>2.20</td>\n      <td>0</td>\n      <td>0</td>\n      <td>100.454670</td>\n      <td>Intel Core i3</td>\n      <td>500</td>\n      <td>0</td>\n      <td>Nvidia</td>\n      <td>Windows</td>\n    </tr>\n    <tr>\n      <th>299</th>\n      <td>Asus</td>\n      <td>Ultrabook</td>\n      <td>16</td>\n      <td>1.63</td>\n      <td>0</td>\n      <td>0</td>\n      <td>141.211998</td>\n      <td>Intel Core i7</td>\n      <td>0</td>\n      <td>512</td>\n      <td>Nvidia</td>\n      <td>Windows</td>\n    </tr>\n    <tr>\n      <th>493</th>\n      <td>Acer</td>\n      <td>Notebook</td>\n      <td>8</td>\n      <td>2.20</td>\n      <td>0</td>\n      <td>0</td>\n      <td>100.454670</td>\n      <td>AMD Processor</td>\n      <td>1000</td>\n      <td>0</td>\n      <td>AMD</td>\n      <td>Windows</td>\n    </tr>\n    <tr>\n      <th>527</th>\n      <td>Lenovo</td>\n      <td>Notebook</td>\n      <td>8</td>\n      <td>2.20</td>\n      <td>0</td>\n      <td>0</td>\n      <td>100.454670</td>\n      <td>Intel Core i3</td>\n      <td>2000</td>\n      <td>0</td>\n      <td>Nvidia</td>\n      <td>Others/No OS/Linux</td>\n    </tr>\n    <tr>\n      <th>1193</th>\n      <td>Apple</td>\n      <td>Ultrabook</td>\n      <td>8</td>\n      <td>0.92</td>\n      <td>0</td>\n      <td>1</td>\n      <td>226.415547</td>\n      <td>Other Intel Processor</td>\n      <td>0</td>\n      <td>0</td>\n      <td>Intel</td>\n      <td>Mac</td>\n    </tr>\n  </tbody>\n</table>\n<p>1106 rows × 12 columns</p>\n</div>"
          },
          "metadata": {}
        }
      ]
    },
    {
      "cell_type": "markdown",
      "source": [
        "**Import Library**"
      ],
      "metadata": {
        "id": "d_D4UCdS_sRA"
      }
    },
    {
      "cell_type": "code",
      "source": [
        "from sklearn.compose import ColumnTransformer\n",
        "from sklearn.pipeline import Pipeline\n",
        "from sklearn.preprocessing import OneHotEncoder\n",
        "from sklearn.metrics import r2_score,mean_absolute_error"
      ],
      "metadata": {
        "execution": {
          "iopub.status.busy": "2024-06-11T07:14:23.623298Z",
          "iopub.execute_input": "2024-06-11T07:14:23.623764Z",
          "iopub.status.idle": "2024-06-11T07:14:23.644342Z",
          "shell.execute_reply.started": "2024-06-11T07:14:23.623709Z",
          "shell.execute_reply": "2024-06-11T07:14:23.643103Z"
        },
        "trusted": true,
        "id": "eA97LwC8_sRA"
      },
      "execution_count": null,
      "outputs": []
    },
    {
      "cell_type": "code",
      "source": [
        "from sklearn.linear_model import LinearRegression,Ridge,Lasso\n",
        "from sklearn.neighbors import KNeighborsRegressor\n",
        "from sklearn.tree import DecisionTreeRegressor\n",
        "from sklearn.ensemble import RandomForestRegressor,GradientBoostingRegressor,AdaBoostRegressor,ExtraTreesRegressor\n",
        "from sklearn.svm import SVR\n",
        "from xgboost import XGBRegressor"
      ],
      "metadata": {
        "execution": {
          "iopub.status.busy": "2024-06-11T07:14:23.645844Z",
          "iopub.execute_input": "2024-06-11T07:14:23.646213Z",
          "iopub.status.idle": "2024-06-11T07:14:24.189829Z",
          "shell.execute_reply.started": "2024-06-11T07:14:23.646179Z",
          "shell.execute_reply": "2024-06-11T07:14:24.188425Z"
        },
        "trusted": true,
        "id": "FOD6dUXl_sRA"
      },
      "execution_count": null,
      "outputs": []
    },
    {
      "cell_type": "markdown",
      "source": [
        "# Linear Regression"
      ],
      "metadata": {
        "id": "BmFC_SQp_sRA"
      }
    },
    {
      "cell_type": "code",
      "source": [
        "psn1 = ColumnTransformer(transformers=[\n",
        "    ('col_tnf',OneHotEncoder(sparse=False,drop='first'),[0,1,7,10,11])\n",
        "],remainder='passthrough')\n",
        "\n",
        "psn2 = LinearRegression()\n",
        "\n",
        "pipe = Pipeline([\n",
        "    ('psn1',psn1),\n",
        "    ('psn2',psn2)\n",
        "])\n",
        "\n",
        "pipe.fit(X_train,y_train)\n",
        "\n",
        "y_pred = pipe.predict(X_test)\n",
        "\n",
        "print('R2 score',r2_score(y_test,y_pred))\n",
        "print('MAE',mean_absolute_error(y_test,y_pred))"
      ],
      "metadata": {
        "execution": {
          "iopub.status.busy": "2024-06-11T07:14:24.191443Z",
          "iopub.execute_input": "2024-06-11T07:14:24.19183Z",
          "iopub.status.idle": "2024-06-11T07:14:24.253098Z",
          "shell.execute_reply.started": "2024-06-11T07:14:24.191799Z",
          "shell.execute_reply": "2024-06-11T07:14:24.249717Z"
        },
        "trusted": true,
        "id": "ZwxGK3Gu_sRB",
        "outputId": "01f27404-a752-4ba5-a98c-cb9bf32e0e18"
      },
      "execution_count": null,
      "outputs": [
        {
          "name": "stdout",
          "text": "R2 score 0.8080818324113126\nMAE 0.20950171998397016\n",
          "output_type": "stream"
        },
        {
          "name": "stderr",
          "text": "/opt/conda/lib/python3.10/site-packages/sklearn/preprocessing/_encoders.py:868: FutureWarning: `sparse` was renamed to `sparse_output` in version 1.2 and will be removed in 1.4. `sparse_output` is ignored unless you leave `sparse` to its default value.\n  warnings.warn(\n",
          "output_type": "stream"
        }
      ]
    },
    {
      "cell_type": "code",
      "source": [
        "np.exp(0.21)"
      ],
      "metadata": {
        "execution": {
          "iopub.status.busy": "2024-06-11T07:14:24.256413Z",
          "iopub.execute_input": "2024-06-11T07:14:24.256901Z",
          "iopub.status.idle": "2024-06-11T07:14:24.270585Z",
          "shell.execute_reply.started": "2024-06-11T07:14:24.256862Z",
          "shell.execute_reply": "2024-06-11T07:14:24.269012Z"
        },
        "trusted": true,
        "id": "V4Cn9roP_sRB",
        "outputId": "c0f5bb52-6808-440f-8d40-7fb237f273fe"
      },
      "execution_count": null,
      "outputs": [
        {
          "execution_count": 104,
          "output_type": "execute_result",
          "data": {
            "text/plain": "1.2336780599567432"
          },
          "metadata": {}
        }
      ]
    },
    {
      "cell_type": "markdown",
      "source": [
        "# Ridge Regression"
      ],
      "metadata": {
        "id": "9IEcdTA1_sRB"
      }
    },
    {
      "cell_type": "code",
      "source": [
        "psn1 = ColumnTransformer(transformers=[\n",
        "    ('col_tnf',OneHotEncoder(sparse=False,drop='first'),[0,1,7,10,11])\n",
        "],remainder='passthrough')\n",
        "\n",
        "psn2 = Ridge(alpha=10)\n",
        "\n",
        "pipe = Pipeline([\n",
        "    ('psn1',psn1),\n",
        "    ('psn2',psn2)\n",
        "])\n",
        "\n",
        "pipe.fit(X_train,y_train)\n",
        "\n",
        "y_pred = pipe.predict(X_test)\n",
        "\n",
        "print('R2 score',r2_score(y_test,y_pred))\n",
        "print('MAE',mean_absolute_error(y_test,y_pred))"
      ],
      "metadata": {
        "execution": {
          "iopub.status.busy": "2024-06-11T07:14:24.271994Z",
          "iopub.execute_input": "2024-06-11T07:14:24.272745Z",
          "iopub.status.idle": "2024-06-11T07:14:24.325943Z",
          "shell.execute_reply.started": "2024-06-11T07:14:24.272691Z",
          "shell.execute_reply": "2024-06-11T07:14:24.324441Z"
        },
        "trusted": true,
        "id": "uvbfHtjA_sRB",
        "outputId": "66981ac2-fde2-4490-859f-26f8810141d2"
      },
      "execution_count": null,
      "outputs": [
        {
          "name": "stdout",
          "text": "R2 score 0.8140542834989068\nMAE 0.20819028385480878\n",
          "output_type": "stream"
        },
        {
          "name": "stderr",
          "text": "/opt/conda/lib/python3.10/site-packages/sklearn/preprocessing/_encoders.py:868: FutureWarning: `sparse` was renamed to `sparse_output` in version 1.2 and will be removed in 1.4. `sparse_output` is ignored unless you leave `sparse` to its default value.\n  warnings.warn(\n",
          "output_type": "stream"
        }
      ]
    },
    {
      "cell_type": "markdown",
      "source": [
        "# Lasso Regression"
      ],
      "metadata": {
        "id": "Ti3JYOyu_sRC"
      }
    },
    {
      "cell_type": "code",
      "source": [
        "psn1 = ColumnTransformer(transformers=[\n",
        "    ('col_tnf',OneHotEncoder(sparse=False,drop='first'),[0,1,7,10,11])\n",
        "],remainder='passthrough')\n",
        "\n",
        "psn2 = Lasso(alpha=0.001)\n",
        "\n",
        "pipe = Pipeline([\n",
        "    ('psn1',psn1),\n",
        "    ('psn2',psn2)\n",
        "])\n",
        "\n",
        "pipe.fit(X_train,y_train)\n",
        "\n",
        "y_pred = pipe.predict(X_test)\n",
        "\n",
        "print('R2 score',r2_score(y_test,y_pred))\n",
        "print('MAE',mean_absolute_error(y_test,y_pred))"
      ],
      "metadata": {
        "execution": {
          "iopub.status.busy": "2024-06-11T07:14:24.328231Z",
          "iopub.execute_input": "2024-06-11T07:14:24.330916Z",
          "iopub.status.idle": "2024-06-11T07:14:24.409997Z",
          "shell.execute_reply.started": "2024-06-11T07:14:24.330857Z",
          "shell.execute_reply": "2024-06-11T07:14:24.408791Z"
        },
        "trusted": true,
        "id": "d2P9muvA_sRC",
        "outputId": "97c7b23c-3ab4-4d70-e8a9-a32e2b1a9a6e"
      },
      "execution_count": null,
      "outputs": [
        {
          "name": "stdout",
          "text": "R2 score 0.8085742552864762\nMAE 0.20996305832617396\n",
          "output_type": "stream"
        },
        {
          "name": "stderr",
          "text": "/opt/conda/lib/python3.10/site-packages/sklearn/preprocessing/_encoders.py:868: FutureWarning: `sparse` was renamed to `sparse_output` in version 1.2 and will be removed in 1.4. `sparse_output` is ignored unless you leave `sparse` to its default value.\n  warnings.warn(\n",
          "output_type": "stream"
        }
      ]
    },
    {
      "cell_type": "markdown",
      "source": [
        "# KNN"
      ],
      "metadata": {
        "id": "GWbooAzT_sRC"
      }
    },
    {
      "cell_type": "code",
      "source": [
        "psn1 = ColumnTransformer(transformers=[\n",
        "    ('col_tnf',OneHotEncoder(sparse=False,drop='first'),[0,1,7,10,11])\n",
        "],remainder='passthrough')\n",
        "\n",
        "psn2 = KNeighborsRegressor(n_neighbors=3)\n",
        "\n",
        "pipe = Pipeline([\n",
        "    ('psn1',psn1),\n",
        "    ('psn2',psn2)\n",
        "])\n",
        "\n",
        "pipe.fit(X_train,y_train)\n",
        "\n",
        "y_pred = pipe.predict(X_test)\n",
        "\n",
        "print('R2 score',r2_score(y_test,y_pred))\n",
        "print('MAE',mean_absolute_error(y_test,y_pred))"
      ],
      "metadata": {
        "execution": {
          "iopub.status.busy": "2024-06-11T07:14:24.416443Z",
          "iopub.execute_input": "2024-06-11T07:14:24.419966Z",
          "iopub.status.idle": "2024-06-11T07:14:24.547507Z",
          "shell.execute_reply.started": "2024-06-11T07:14:24.41991Z",
          "shell.execute_reply": "2024-06-11T07:14:24.546294Z"
        },
        "trusted": true,
        "id": "NRlIOHEN_sRC",
        "outputId": "2ae24aed-a58e-4e63-ff14-8de56c93f001"
      },
      "execution_count": null,
      "outputs": [
        {
          "name": "stderr",
          "text": "/opt/conda/lib/python3.10/site-packages/sklearn/preprocessing/_encoders.py:868: FutureWarning: `sparse` was renamed to `sparse_output` in version 1.2 and will be removed in 1.4. `sparse_output` is ignored unless you leave `sparse` to its default value.\n  warnings.warn(\n",
          "output_type": "stream"
        },
        {
          "name": "stdout",
          "text": "R2 score 0.8184796194260212\nMAE 0.1917197874685423\n",
          "output_type": "stream"
        }
      ]
    },
    {
      "cell_type": "markdown",
      "source": [
        "# Decision Tree"
      ],
      "metadata": {
        "id": "zW7A5cPC_sRD"
      }
    },
    {
      "cell_type": "code",
      "source": [
        "psn1 = ColumnTransformer(transformers=[\n",
        "    ('col_tnf',OneHotEncoder(sparse=False,drop='first'),[0,1,7,10,11])\n",
        "],remainder='passthrough')\n",
        "\n",
        "psn2 = DecisionTreeRegressor(max_depth=8)\n",
        "\n",
        "pipe = Pipeline([\n",
        "    ('psn1',psn1),\n",
        "    ('psn2',psn2)\n",
        "])\n",
        "\n",
        "pipe.fit(X_train,y_train)\n",
        "\n",
        "y_pred = pipe.predict(X_test)\n",
        "\n",
        "print('R2 score',r2_score(y_test,y_pred))\n",
        "print('MAE',mean_absolute_error(y_test,y_pred))"
      ],
      "metadata": {
        "execution": {
          "iopub.status.busy": "2024-06-11T07:14:24.54881Z",
          "iopub.execute_input": "2024-06-11T07:14:24.549164Z",
          "iopub.status.idle": "2024-06-11T07:14:24.579355Z",
          "shell.execute_reply.started": "2024-06-11T07:14:24.549136Z",
          "shell.execute_reply": "2024-06-11T07:14:24.578233Z"
        },
        "trusted": true,
        "id": "Aburt2be_sRD",
        "outputId": "e286a49a-8a22-4bd3-f2ab-c51cb42a4eb0"
      },
      "execution_count": null,
      "outputs": [
        {
          "name": "stdout",
          "text": "R2 score 0.8360095045879579\nMAE 0.18350814480569855\n",
          "output_type": "stream"
        },
        {
          "name": "stderr",
          "text": "/opt/conda/lib/python3.10/site-packages/sklearn/preprocessing/_encoders.py:868: FutureWarning: `sparse` was renamed to `sparse_output` in version 1.2 and will be removed in 1.4. `sparse_output` is ignored unless you leave `sparse` to its default value.\n  warnings.warn(\n",
          "output_type": "stream"
        }
      ]
    },
    {
      "cell_type": "markdown",
      "source": [
        "# SVM"
      ],
      "metadata": {
        "id": "QPGQX4sK_sRE"
      }
    },
    {
      "cell_type": "code",
      "source": [
        "psn1 = ColumnTransformer(transformers=[\n",
        "    ('col_tnf',OneHotEncoder(sparse=False,drop='first'),[0,1,7,10,11])\n",
        "],remainder='passthrough')\n",
        "\n",
        "psn2 = SVR(kernel='rbf',C=10000,epsilon=0.1)\n",
        "\n",
        "pipe = Pipeline([\n",
        "    ('psn1',psn1),\n",
        "    ('psn2',psn2)\n",
        "])\n",
        "\n",
        "pipe.fit(X_train,y_train)\n",
        "\n",
        "y_pred = pipe.predict(X_test)\n",
        "\n",
        "print('R2 score',r2_score(y_test,y_pred))\n",
        "print('MAE',mean_absolute_error(y_test,y_pred))"
      ],
      "metadata": {
        "execution": {
          "iopub.status.busy": "2024-06-11T07:14:24.580705Z",
          "iopub.execute_input": "2024-06-11T07:14:24.581065Z",
          "iopub.status.idle": "2024-06-11T07:14:25.298569Z",
          "shell.execute_reply.started": "2024-06-11T07:14:24.581037Z",
          "shell.execute_reply": "2024-06-11T07:14:25.297506Z"
        },
        "trusted": true,
        "id": "i7AxPFsF_sRE",
        "outputId": "d1274fc6-1e33-4357-9a74-4bf29629fdfb"
      },
      "execution_count": null,
      "outputs": [
        {
          "name": "stderr",
          "text": "/opt/conda/lib/python3.10/site-packages/sklearn/preprocessing/_encoders.py:868: FutureWarning: `sparse` was renamed to `sparse_output` in version 1.2 and will be removed in 1.4. `sparse_output` is ignored unless you leave `sparse` to its default value.\n  warnings.warn(\n",
          "output_type": "stream"
        },
        {
          "name": "stdout",
          "text": "R2 score 0.8175032674235299\nMAE 0.19896541774397286\n",
          "output_type": "stream"
        }
      ]
    },
    {
      "cell_type": "markdown",
      "source": [
        "# Random Forest"
      ],
      "metadata": {
        "id": "7AE_73md_sRE"
      }
    },
    {
      "cell_type": "code",
      "source": [
        "psn1 = ColumnTransformer(transformers=[\n",
        "    ('col_tnf',OneHotEncoder(sparse=False,drop='first'),[0,1,7,10,11])\n",
        "],remainder='passthrough')\n",
        "\n",
        "psn2 = RandomForestRegressor(n_estimators=100,\n",
        "                              random_state=3,\n",
        "                              max_samples=0.5,\n",
        "                              max_features=0.75,\n",
        "                              max_depth=15)\n",
        "\n",
        "pipe = Pipeline([\n",
        "    ('psn1',psn1),\n",
        "    ('psn2',psn2)\n",
        "])\n",
        "\n",
        "pipe.fit(X_train,y_train)\n",
        "\n",
        "y_pred = pipe.predict(X_test)\n",
        "\n",
        "print('R2 score',r2_score(y_test,y_pred))\n",
        "print('MAE',mean_absolute_error(y_test,y_pred))"
      ],
      "metadata": {
        "execution": {
          "iopub.status.busy": "2024-06-11T07:14:25.299818Z",
          "iopub.execute_input": "2024-06-11T07:14:25.300129Z",
          "iopub.status.idle": "2024-06-11T07:14:25.659376Z",
          "shell.execute_reply.started": "2024-06-11T07:14:25.300104Z",
          "shell.execute_reply": "2024-06-11T07:14:25.658049Z"
        },
        "trusted": true,
        "id": "PDHvxWLt_sRE",
        "outputId": "4cf3d0fa-d18b-4980-bebd-e58ea937cfda"
      },
      "execution_count": null,
      "outputs": [
        {
          "name": "stderr",
          "text": "/opt/conda/lib/python3.10/site-packages/sklearn/preprocessing/_encoders.py:868: FutureWarning: `sparse` was renamed to `sparse_output` in version 1.2 and will be removed in 1.4. `sparse_output` is ignored unless you leave `sparse` to its default value.\n  warnings.warn(\n",
          "output_type": "stream"
        },
        {
          "name": "stdout",
          "text": "R2 score 0.8865165056450072\nMAE 0.15882475956932382\n",
          "output_type": "stream"
        }
      ]
    },
    {
      "cell_type": "markdown",
      "source": [
        "# Gradient Boost"
      ],
      "metadata": {
        "id": "gvvhOHI__sRE"
      }
    },
    {
      "cell_type": "code",
      "source": [
        "psn1 = ColumnTransformer(transformers=[\n",
        "    ('col_tnf',OneHotEncoder(sparse=False,drop='first'),[0,1,7,10,11])\n",
        "],remainder='passthrough')\n",
        "\n",
        "psn2 = GradientBoostingRegressor(n_estimators=500)\n",
        "\n",
        "pipe = Pipeline([\n",
        "    ('psn1',psn1),\n",
        "    ('psn2',psn2)\n",
        "])\n",
        "\n",
        "pipe.fit(X_train,y_train)\n",
        "\n",
        "y_pred = pipe.predict(X_test)\n",
        "\n",
        "print('R2 score',r2_score(y_test,y_pred))\n",
        "print('MAE',mean_absolute_error(y_test,y_pred))"
      ],
      "metadata": {
        "execution": {
          "iopub.status.busy": "2024-06-11T07:14:25.661031Z",
          "iopub.execute_input": "2024-06-11T07:14:25.661411Z",
          "iopub.status.idle": "2024-06-11T07:14:26.502719Z",
          "shell.execute_reply.started": "2024-06-11T07:14:25.661381Z",
          "shell.execute_reply": "2024-06-11T07:14:26.501658Z"
        },
        "trusted": true,
        "id": "6-kcqDR7_sRF",
        "outputId": "363cc4ac-e59e-4eba-b454-c60015e86db2"
      },
      "execution_count": null,
      "outputs": [
        {
          "name": "stderr",
          "text": "/opt/conda/lib/python3.10/site-packages/sklearn/preprocessing/_encoders.py:868: FutureWarning: `sparse` was renamed to `sparse_output` in version 1.2 and will be removed in 1.4. `sparse_output` is ignored unless you leave `sparse` to its default value.\n  warnings.warn(\n",
          "output_type": "stream"
        },
        {
          "name": "stdout",
          "text": "R2 score 0.8815257333792899\nMAE 0.15899213728877895\n",
          "output_type": "stream"
        }
      ]
    },
    {
      "cell_type": "markdown",
      "source": [
        "# XgBoost"
      ],
      "metadata": {
        "id": "6FVZMqJo_sRF"
      }
    },
    {
      "cell_type": "code",
      "source": [
        "psn1 = ColumnTransformer(transformers=[\n",
        "    ('col_tnf',OneHotEncoder(sparse=False,drop='first'),[0,1,7,10,11])\n",
        "],remainder='passthrough')\n",
        "\n",
        "psn2 = XGBRegressor(n_estimators=45,max_depth=5,learning_rate=0.5)\n",
        "\n",
        "pipe = Pipeline([\n",
        "    ('psn1',psn1),\n",
        "    ('psn2',psn2)\n",
        "])\n",
        "\n",
        "pipe.fit(X_train,y_train)\n",
        "\n",
        "y_pred = pipe.predict(X_test)\n",
        "\n",
        "print('R2 score',r2_score(y_test,y_pred))\n",
        "print('MAE',mean_absolute_error(y_test,y_pred))"
      ],
      "metadata": {
        "execution": {
          "iopub.status.busy": "2024-06-11T07:14:26.504121Z",
          "iopub.execute_input": "2024-06-11T07:14:26.504492Z",
          "iopub.status.idle": "2024-06-11T07:14:26.614702Z",
          "shell.execute_reply.started": "2024-06-11T07:14:26.504463Z",
          "shell.execute_reply": "2024-06-11T07:14:26.613667Z"
        },
        "trusted": true,
        "id": "-9bBtkPV_sRF",
        "outputId": "36bf5290-d1de-4e0f-bc71-5a880f245d23"
      },
      "execution_count": null,
      "outputs": [
        {
          "name": "stdout",
          "text": "R2 score 0.8813219852221783\nMAE 0.1562213245869103\n",
          "output_type": "stream"
        },
        {
          "name": "stderr",
          "text": "/opt/conda/lib/python3.10/site-packages/sklearn/preprocessing/_encoders.py:868: FutureWarning: `sparse` was renamed to `sparse_output` in version 1.2 and will be removed in 1.4. `sparse_output` is ignored unless you leave `sparse` to its default value.\n  warnings.warn(\n",
          "output_type": "stream"
        }
      ]
    },
    {
      "cell_type": "markdown",
      "source": [
        "# Voting Regressor"
      ],
      "metadata": {
        "id": "g3FGsjfG_sRF"
      }
    },
    {
      "cell_type": "code",
      "source": [
        "psn1 = ColumnTransformer(transformers=[\n",
        "    ('col_tnf', OneHotEncoder(sparse=False, drop='first'), [0, 1, 7, 10, 11])\n",
        "], remainder='passthrough')\n",
        "\n",
        "rf = RandomForestRegressor(n_estimators=350, random_state=3, max_samples=None, max_features=0.75, max_depth=15)\n",
        "gbdt = GradientBoostingRegressor(n_estimators=100, max_features=0.5)\n",
        "xgb = XGBRegressor(n_estimators=25, learning_rate=0.3, max_depth=5)\n",
        "et = ExtraTreesRegressor(n_estimators=100, random_state=3, max_samples=None, max_features=0.75, max_depth=10)\n",
        "\n",
        "psn2 = VotingRegressor([('rf', rf), ('gbdt', gbdt), ('xgb', xgb), ('et', et)], weights=[5, 1, 1, 1])\n",
        "\n",
        "pipe = Pipeline([\n",
        "    ('psn1', psn1),\n",
        "    ('psn2', psn2)\n",
        "])\n",
        "\n",
        "pipe.fit(X_train, y_train)\n",
        "\n",
        "y_pred = pipe.predict(X_test)\n",
        "\n",
        "print('R2 score', r2_score(y_test, y_pred))\n",
        "print('MAE', mean_absolute_error(y_test, y_pred))"
      ],
      "metadata": {
        "execution": {
          "iopub.status.busy": "2024-06-11T07:15:34.698888Z",
          "iopub.execute_input": "2024-06-11T07:15:34.699703Z",
          "iopub.status.idle": "2024-06-11T07:15:36.715987Z",
          "shell.execute_reply.started": "2024-06-11T07:15:34.699647Z",
          "shell.execute_reply": "2024-06-11T07:15:36.714763Z"
        },
        "trusted": true,
        "id": "sTYyVs92_sRF",
        "outputId": "5ec2917a-ba24-49ae-c770-d4eee78ba602"
      },
      "execution_count": null,
      "outputs": [
        {
          "name": "stderr",
          "text": "/opt/conda/lib/python3.10/site-packages/sklearn/preprocessing/_encoders.py:868: FutureWarning: `sparse` was renamed to `sparse_output` in version 1.2 and will be removed in 1.4. `sparse_output` is ignored unless you leave `sparse` to its default value.\n  warnings.warn(\n",
          "output_type": "stream"
        },
        {
          "name": "stdout",
          "text": "R2 score 0.8929059814873557\nMAE 0.1551608812304354\n",
          "output_type": "stream"
        }
      ]
    },
    {
      "cell_type": "markdown",
      "source": [
        "# Stacking"
      ],
      "metadata": {
        "id": "dn1mxPjU_sRF"
      }
    },
    {
      "cell_type": "code",
      "source": [
        "from sklearn.ensemble import VotingRegressor,StackingRegressor\n",
        "\n",
        "psn1 = ColumnTransformer(transformers=[\n",
        "    ('col_tnf',OneHotEncoder(sparse=False,drop='first'),[0,1,7,10,11])\n",
        "],remainder='passthrough')\n",
        "\n",
        "\n",
        "estimators = [\n",
        "    ('rf', RandomForestRegressor(n_estimators=350,random_state=3,max_samples=0.5,max_features=0.75,max_depth=15)),\n",
        "    ('gbdt',GradientBoostingRegressor(n_estimators=100,max_features=0.5)),\n",
        "    ('xgb', XGBRegressor(n_estimators=25,learning_rate=0.3,max_depth=5))\n",
        "]\n",
        "\n",
        "psn2 = StackingRegressor(estimators=estimators, final_estimator=Ridge(alpha=100))\n",
        "\n",
        "pipe = Pipeline([\n",
        "    ('psn1',psn1),\n",
        "    ('psn2',psn2)\n",
        "])\n",
        "\n",
        "pipe.fit(X_train,y_train)\n",
        "\n",
        "y_pred = pipe.predict(X_test)\n",
        "\n",
        "print('R2 score',r2_score(y_test,y_pred))\n",
        "print('MAE',mean_absolute_error(y_test,y_pred))"
      ],
      "metadata": {
        "execution": {
          "iopub.status.busy": "2024-06-11T07:15:19.213358Z",
          "iopub.execute_input": "2024-06-11T07:15:19.213814Z",
          "iopub.status.idle": "2024-06-11T07:15:26.554431Z",
          "shell.execute_reply.started": "2024-06-11T07:15:19.213781Z",
          "shell.execute_reply": "2024-06-11T07:15:26.553542Z"
        },
        "trusted": true,
        "id": "h2oGBpS9_sRG",
        "outputId": "18d83795-119b-42fb-8951-f73f9e9d2b3e"
      },
      "execution_count": null,
      "outputs": [
        {
          "name": "stderr",
          "text": "/opt/conda/lib/python3.10/site-packages/sklearn/preprocessing/_encoders.py:868: FutureWarning: `sparse` was renamed to `sparse_output` in version 1.2 and will be removed in 1.4. `sparse_output` is ignored unless you leave `sparse` to its default value.\n  warnings.warn(\n",
          "output_type": "stream"
        },
        {
          "name": "stdout",
          "text": "R2 score 0.8829556867072781\nMAE 0.165068139180952\n",
          "output_type": "stream"
        }
      ]
    },
    {
      "cell_type": "code",
      "source": [
        "import pickle\n",
        "\n",
        "with open('/kaggle/working/df.pkl', 'wb') as f:\n",
        "    pickle.dump(df, f)\n",
        "with open('/kaggle/working/pipe.pkl', 'wb') as f:\n",
        "    pickle.dump(pipe, f)"
      ],
      "metadata": {
        "execution": {
          "iopub.status.busy": "2024-06-11T07:15:43.15123Z",
          "iopub.execute_input": "2024-06-11T07:15:43.1517Z",
          "iopub.status.idle": "2024-06-11T07:15:43.24729Z",
          "shell.execute_reply.started": "2024-06-11T07:15:43.151667Z",
          "shell.execute_reply": "2024-06-11T07:15:43.245817Z"
        },
        "trusted": true,
        "id": "-eoKOFGm_sRG"
      },
      "execution_count": null,
      "outputs": []
    },
    {
      "cell_type": "code",
      "source": [
        "df"
      ],
      "metadata": {
        "execution": {
          "iopub.status.busy": "2024-06-11T07:15:46.927719Z",
          "iopub.execute_input": "2024-06-11T07:15:46.928354Z",
          "iopub.status.idle": "2024-06-11T07:15:46.951409Z",
          "shell.execute_reply.started": "2024-06-11T07:15:46.928301Z",
          "shell.execute_reply": "2024-06-11T07:15:46.950265Z"
        },
        "trusted": true,
        "id": "30taH35S_sRG",
        "outputId": "6f7abed6-dfe2-498d-b6e3-2f7fecb145df"
      },
      "execution_count": null,
      "outputs": [
        {
          "execution_count": 117,
          "output_type": "execute_result",
          "data": {
            "text/plain": "     Company            TypeName  Ram  Weight        Price  Touchscreen  Ips  \\\n0      Apple           Ultrabook    8    1.37   71378.6832            0    1   \n1      Apple           Ultrabook    8    1.34   47895.5232            0    0   \n2         HP            Notebook    8    1.86   30636.0000            0    0   \n3      Apple           Ultrabook   16    1.83  135195.3360            0    1   \n4      Apple           Ultrabook    8    1.37   96095.8080            0    1   \n...      ...                 ...  ...     ...          ...          ...  ...   \n1298  Lenovo  2 in 1 Convertible    4    1.80   33992.6400            1    1   \n1299  Lenovo  2 in 1 Convertible   16    1.30   79866.7200            1    1   \n1300  Lenovo            Notebook    2    1.50   12201.1200            0    0   \n1301      HP            Notebook    6    2.19   40705.9200            0    0   \n1302    Asus            Notebook    4    2.20   19660.3200            0    0   \n\n             Ppi              Cpu brand   HDD  SSD Gpu Brand  \\\n0     226.983005          Intel Core i5     0  128     Intel   \n1     127.677940          Intel Core i5     0    0     Intel   \n2     141.211998          Intel Core i5     0  256     Intel   \n3     220.534624          Intel Core i7     0  512       AMD   \n4     226.983005          Intel Core i5     0  256     Intel   \n...          ...                    ...   ...  ...       ...   \n1298  157.350512          Intel Core i7     0  128     Intel   \n1299  276.053530          Intel Core i7     0  512     Intel   \n1300  111.935204  Other Intel Processor     0    0     Intel   \n1301  100.454670          Intel Core i7  1000    0       AMD   \n1302  100.454670  Other Intel Processor   500    0     Intel   \n\n                      Os  \n0                    Mac  \n1                    Mac  \n2     Others/No OS/Linux  \n3                    Mac  \n4                    Mac  \n...                  ...  \n1298             Windows  \n1299             Windows  \n1300             Windows  \n1301             Windows  \n1302             Windows  \n\n[1302 rows x 13 columns]",
            "text/html": "<div>\n<style scoped>\n    .dataframe tbody tr th:only-of-type {\n        vertical-align: middle;\n    }\n\n    .dataframe tbody tr th {\n        vertical-align: top;\n    }\n\n    .dataframe thead th {\n        text-align: right;\n    }\n</style>\n<table border=\"1\" class=\"dataframe\">\n  <thead>\n    <tr style=\"text-align: right;\">\n      <th></th>\n      <th>Company</th>\n      <th>TypeName</th>\n      <th>Ram</th>\n      <th>Weight</th>\n      <th>Price</th>\n      <th>Touchscreen</th>\n      <th>Ips</th>\n      <th>Ppi</th>\n      <th>Cpu brand</th>\n      <th>HDD</th>\n      <th>SSD</th>\n      <th>Gpu Brand</th>\n      <th>Os</th>\n    </tr>\n  </thead>\n  <tbody>\n    <tr>\n      <th>0</th>\n      <td>Apple</td>\n      <td>Ultrabook</td>\n      <td>8</td>\n      <td>1.37</td>\n      <td>71378.6832</td>\n      <td>0</td>\n      <td>1</td>\n      <td>226.983005</td>\n      <td>Intel Core i5</td>\n      <td>0</td>\n      <td>128</td>\n      <td>Intel</td>\n      <td>Mac</td>\n    </tr>\n    <tr>\n      <th>1</th>\n      <td>Apple</td>\n      <td>Ultrabook</td>\n      <td>8</td>\n      <td>1.34</td>\n      <td>47895.5232</td>\n      <td>0</td>\n      <td>0</td>\n      <td>127.677940</td>\n      <td>Intel Core i5</td>\n      <td>0</td>\n      <td>0</td>\n      <td>Intel</td>\n      <td>Mac</td>\n    </tr>\n    <tr>\n      <th>2</th>\n      <td>HP</td>\n      <td>Notebook</td>\n      <td>8</td>\n      <td>1.86</td>\n      <td>30636.0000</td>\n      <td>0</td>\n      <td>0</td>\n      <td>141.211998</td>\n      <td>Intel Core i5</td>\n      <td>0</td>\n      <td>256</td>\n      <td>Intel</td>\n      <td>Others/No OS/Linux</td>\n    </tr>\n    <tr>\n      <th>3</th>\n      <td>Apple</td>\n      <td>Ultrabook</td>\n      <td>16</td>\n      <td>1.83</td>\n      <td>135195.3360</td>\n      <td>0</td>\n      <td>1</td>\n      <td>220.534624</td>\n      <td>Intel Core i7</td>\n      <td>0</td>\n      <td>512</td>\n      <td>AMD</td>\n      <td>Mac</td>\n    </tr>\n    <tr>\n      <th>4</th>\n      <td>Apple</td>\n      <td>Ultrabook</td>\n      <td>8</td>\n      <td>1.37</td>\n      <td>96095.8080</td>\n      <td>0</td>\n      <td>1</td>\n      <td>226.983005</td>\n      <td>Intel Core i5</td>\n      <td>0</td>\n      <td>256</td>\n      <td>Intel</td>\n      <td>Mac</td>\n    </tr>\n    <tr>\n      <th>...</th>\n      <td>...</td>\n      <td>...</td>\n      <td>...</td>\n      <td>...</td>\n      <td>...</td>\n      <td>...</td>\n      <td>...</td>\n      <td>...</td>\n      <td>...</td>\n      <td>...</td>\n      <td>...</td>\n      <td>...</td>\n      <td>...</td>\n    </tr>\n    <tr>\n      <th>1298</th>\n      <td>Lenovo</td>\n      <td>2 in 1 Convertible</td>\n      <td>4</td>\n      <td>1.80</td>\n      <td>33992.6400</td>\n      <td>1</td>\n      <td>1</td>\n      <td>157.350512</td>\n      <td>Intel Core i7</td>\n      <td>0</td>\n      <td>128</td>\n      <td>Intel</td>\n      <td>Windows</td>\n    </tr>\n    <tr>\n      <th>1299</th>\n      <td>Lenovo</td>\n      <td>2 in 1 Convertible</td>\n      <td>16</td>\n      <td>1.30</td>\n      <td>79866.7200</td>\n      <td>1</td>\n      <td>1</td>\n      <td>276.053530</td>\n      <td>Intel Core i7</td>\n      <td>0</td>\n      <td>512</td>\n      <td>Intel</td>\n      <td>Windows</td>\n    </tr>\n    <tr>\n      <th>1300</th>\n      <td>Lenovo</td>\n      <td>Notebook</td>\n      <td>2</td>\n      <td>1.50</td>\n      <td>12201.1200</td>\n      <td>0</td>\n      <td>0</td>\n      <td>111.935204</td>\n      <td>Other Intel Processor</td>\n      <td>0</td>\n      <td>0</td>\n      <td>Intel</td>\n      <td>Windows</td>\n    </tr>\n    <tr>\n      <th>1301</th>\n      <td>HP</td>\n      <td>Notebook</td>\n      <td>6</td>\n      <td>2.19</td>\n      <td>40705.9200</td>\n      <td>0</td>\n      <td>0</td>\n      <td>100.454670</td>\n      <td>Intel Core i7</td>\n      <td>1000</td>\n      <td>0</td>\n      <td>AMD</td>\n      <td>Windows</td>\n    </tr>\n    <tr>\n      <th>1302</th>\n      <td>Asus</td>\n      <td>Notebook</td>\n      <td>4</td>\n      <td>2.20</td>\n      <td>19660.3200</td>\n      <td>0</td>\n      <td>0</td>\n      <td>100.454670</td>\n      <td>Other Intel Processor</td>\n      <td>500</td>\n      <td>0</td>\n      <td>Intel</td>\n      <td>Windows</td>\n    </tr>\n  </tbody>\n</table>\n<p>1302 rows × 13 columns</p>\n</div>"
          },
          "metadata": {}
        }
      ]
    },
    {
      "cell_type": "code",
      "source": [
        "X_train"
      ],
      "metadata": {
        "execution": {
          "iopub.status.busy": "2024-06-11T07:15:51.178952Z",
          "iopub.execute_input": "2024-06-11T07:15:51.179478Z",
          "iopub.status.idle": "2024-06-11T07:15:51.204054Z",
          "shell.execute_reply.started": "2024-06-11T07:15:51.179431Z",
          "shell.execute_reply": "2024-06-11T07:15:51.202586Z"
        },
        "trusted": true,
        "id": "igtTqbbQ_sRG",
        "outputId": "6e6fe504-86f0-4f88-9511-3c2ea4cb3ae2"
      },
      "execution_count": null,
      "outputs": [
        {
          "execution_count": 118,
          "output_type": "execute_result",
          "data": {
            "text/plain": "      Company            TypeName  Ram  Weight  Touchscreen  Ips         Ppi  \\\n183   Toshiba            Notebook    8    2.00            0    0  100.454670   \n1141      MSI              Gaming    8    2.40            0    0  141.211998   \n1049     Asus             Netbook    4    1.20            0    0  135.094211   \n1020     Dell  2 in 1 Convertible    4    2.08            1    1  141.211998   \n878      Dell            Notebook    4    2.18            0    0  141.211998   \n...       ...                 ...  ...     ...          ...  ...         ...   \n466      Acer            Notebook    4    2.20            0    0  100.454670   \n299      Asus           Ultrabook   16    1.63            0    0  141.211998   \n493      Acer            Notebook    8    2.20            0    0  100.454670   \n527    Lenovo            Notebook    8    2.20            0    0  100.454670   \n1193    Apple           Ultrabook    8    0.92            0    1  226.415547   \n\n                  Cpu brand   HDD  SSD Gpu Brand                  Os  \n183           Intel Core i5     0  128     Intel             Windows  \n1141          Intel Core i7  1000  128    Nvidia             Windows  \n1049  Other Intel Processor     0    0     Intel  Others/No OS/Linux  \n1020          Intel Core i3  1000    0     Intel             Windows  \n878           Intel Core i5  1000  128    Nvidia             Windows  \n...                     ...   ...  ...       ...                 ...  \n466           Intel Core i3   500    0    Nvidia             Windows  \n299           Intel Core i7     0  512    Nvidia             Windows  \n493           AMD Processor  1000    0       AMD             Windows  \n527           Intel Core i3  2000    0    Nvidia  Others/No OS/Linux  \n1193  Other Intel Processor     0    0     Intel                 Mac  \n\n[1106 rows x 12 columns]",
            "text/html": "<div>\n<style scoped>\n    .dataframe tbody tr th:only-of-type {\n        vertical-align: middle;\n    }\n\n    .dataframe tbody tr th {\n        vertical-align: top;\n    }\n\n    .dataframe thead th {\n        text-align: right;\n    }\n</style>\n<table border=\"1\" class=\"dataframe\">\n  <thead>\n    <tr style=\"text-align: right;\">\n      <th></th>\n      <th>Company</th>\n      <th>TypeName</th>\n      <th>Ram</th>\n      <th>Weight</th>\n      <th>Touchscreen</th>\n      <th>Ips</th>\n      <th>Ppi</th>\n      <th>Cpu brand</th>\n      <th>HDD</th>\n      <th>SSD</th>\n      <th>Gpu Brand</th>\n      <th>Os</th>\n    </tr>\n  </thead>\n  <tbody>\n    <tr>\n      <th>183</th>\n      <td>Toshiba</td>\n      <td>Notebook</td>\n      <td>8</td>\n      <td>2.00</td>\n      <td>0</td>\n      <td>0</td>\n      <td>100.454670</td>\n      <td>Intel Core i5</td>\n      <td>0</td>\n      <td>128</td>\n      <td>Intel</td>\n      <td>Windows</td>\n    </tr>\n    <tr>\n      <th>1141</th>\n      <td>MSI</td>\n      <td>Gaming</td>\n      <td>8</td>\n      <td>2.40</td>\n      <td>0</td>\n      <td>0</td>\n      <td>141.211998</td>\n      <td>Intel Core i7</td>\n      <td>1000</td>\n      <td>128</td>\n      <td>Nvidia</td>\n      <td>Windows</td>\n    </tr>\n    <tr>\n      <th>1049</th>\n      <td>Asus</td>\n      <td>Netbook</td>\n      <td>4</td>\n      <td>1.20</td>\n      <td>0</td>\n      <td>0</td>\n      <td>135.094211</td>\n      <td>Other Intel Processor</td>\n      <td>0</td>\n      <td>0</td>\n      <td>Intel</td>\n      <td>Others/No OS/Linux</td>\n    </tr>\n    <tr>\n      <th>1020</th>\n      <td>Dell</td>\n      <td>2 in 1 Convertible</td>\n      <td>4</td>\n      <td>2.08</td>\n      <td>1</td>\n      <td>1</td>\n      <td>141.211998</td>\n      <td>Intel Core i3</td>\n      <td>1000</td>\n      <td>0</td>\n      <td>Intel</td>\n      <td>Windows</td>\n    </tr>\n    <tr>\n      <th>878</th>\n      <td>Dell</td>\n      <td>Notebook</td>\n      <td>4</td>\n      <td>2.18</td>\n      <td>0</td>\n      <td>0</td>\n      <td>141.211998</td>\n      <td>Intel Core i5</td>\n      <td>1000</td>\n      <td>128</td>\n      <td>Nvidia</td>\n      <td>Windows</td>\n    </tr>\n    <tr>\n      <th>...</th>\n      <td>...</td>\n      <td>...</td>\n      <td>...</td>\n      <td>...</td>\n      <td>...</td>\n      <td>...</td>\n      <td>...</td>\n      <td>...</td>\n      <td>...</td>\n      <td>...</td>\n      <td>...</td>\n      <td>...</td>\n    </tr>\n    <tr>\n      <th>466</th>\n      <td>Acer</td>\n      <td>Notebook</td>\n      <td>4</td>\n      <td>2.20</td>\n      <td>0</td>\n      <td>0</td>\n      <td>100.454670</td>\n      <td>Intel Core i3</td>\n      <td>500</td>\n      <td>0</td>\n      <td>Nvidia</td>\n      <td>Windows</td>\n    </tr>\n    <tr>\n      <th>299</th>\n      <td>Asus</td>\n      <td>Ultrabook</td>\n      <td>16</td>\n      <td>1.63</td>\n      <td>0</td>\n      <td>0</td>\n      <td>141.211998</td>\n      <td>Intel Core i7</td>\n      <td>0</td>\n      <td>512</td>\n      <td>Nvidia</td>\n      <td>Windows</td>\n    </tr>\n    <tr>\n      <th>493</th>\n      <td>Acer</td>\n      <td>Notebook</td>\n      <td>8</td>\n      <td>2.20</td>\n      <td>0</td>\n      <td>0</td>\n      <td>100.454670</td>\n      <td>AMD Processor</td>\n      <td>1000</td>\n      <td>0</td>\n      <td>AMD</td>\n      <td>Windows</td>\n    </tr>\n    <tr>\n      <th>527</th>\n      <td>Lenovo</td>\n      <td>Notebook</td>\n      <td>8</td>\n      <td>2.20</td>\n      <td>0</td>\n      <td>0</td>\n      <td>100.454670</td>\n      <td>Intel Core i3</td>\n      <td>2000</td>\n      <td>0</td>\n      <td>Nvidia</td>\n      <td>Others/No OS/Linux</td>\n    </tr>\n    <tr>\n      <th>1193</th>\n      <td>Apple</td>\n      <td>Ultrabook</td>\n      <td>8</td>\n      <td>0.92</td>\n      <td>0</td>\n      <td>1</td>\n      <td>226.415547</td>\n      <td>Other Intel Processor</td>\n      <td>0</td>\n      <td>0</td>\n      <td>Intel</td>\n      <td>Mac</td>\n    </tr>\n  </tbody>\n</table>\n<p>1106 rows × 12 columns</p>\n</div>"
          },
          "metadata": {}
        }
      ]
    },
    {
      "cell_type": "code",
      "source": [],
      "metadata": {
        "id": "VuiGMARL_sRG"
      },
      "execution_count": null,
      "outputs": []
    }
  ]
}