{
  "nbformat": 4,
  "nbformat_minor": 0,
  "metadata": {
    "colab": {
      "provenance": [],
      "authorship_tag": "ABX9TyN6UEIZLD3T6q0janiyrUD+",
      "include_colab_link": true
    },
    "kernelspec": {
      "name": "python3",
      "display_name": "Python 3"
    },
    "language_info": {
      "name": "python"
    }
  },
  "cells": [
    {
      "cell_type": "markdown",
      "metadata": {
        "id": "view-in-github",
        "colab_type": "text"
      },
      "source": [
        "<a href=\"https://colab.research.google.com/github/PradhumanSinghNaruka/Documentation-M.L/blob/main/Assigment_1.ipynb\" target=\"_parent\"><img src=\"https://colab.research.google.com/assets/colab-badge.svg\" alt=\"Open In Colab\"/></a>"
      ]
    },
    {
      "cell_type": "markdown",
      "source": [
        "# **Random** = The random module in Python defines a series of functions for generating random integers.\n",
        "\n",
        "# **Matplotlib.pyplot** = Matplotlib is a plotting library. The most important function in the (matplotlib.pyplot) module is plot, which allows you to plot 2D data.\n",
        "\n"
      ],
      "metadata": {
        "id": "1whkRvf-I5Wc"
      }
    },
    {
      "cell_type": "code",
      "execution_count": null,
      "metadata": {
        "id": "gevJGKtcIpP2"
      },
      "outputs": [],
      "source": [
        "import random\n",
        "import matplotlib.pyplot as plt"
      ]
    },
    {
      "cell_type": "markdown",
      "source": [
        "# **zip() Function** = It is used to combine two or more lists into a single iterable, where elements from corresponding positions are paired together.\n",
        "\n",
        "# **range() Function** = The range() function returns a sequence of numbers, starting from 0 by default.\n",
        "\n"
      ],
      "metadata": {
        "id": "9HipkHG6I8Vq"
      }
    },
    {
      "cell_type": "code",
      "source": [
        "mapping_dict = dict(zip(range(0,10),range(0,10)))"
      ],
      "metadata": {
        "id": "xbw5Lgw9JB-y"
      },
      "execution_count": null,
      "outputs": []
    },
    {
      "cell_type": "markdown",
      "source": [
        "# Use for print range b/w 0 to 9 (10 number)"
      ],
      "metadata": {
        "id": "RMn-W6yyJHjb"
      }
    },
    {
      "cell_type": "code",
      "source": [
        "mapping_dict"
      ],
      "metadata": {
        "colab": {
          "base_uri": "https://localhost:8080/"
        },
        "id": "vxAMG8DsJIUL",
        "outputId": "09e2b8c1-0835-4e1e-f839-d1d9cd55805a"
      },
      "execution_count": null,
      "outputs": [
        {
          "output_type": "execute_result",
          "data": {
            "text/plain": [
              "{0: 0, 1: 1, 2: 2, 3: 3, 4: 4, 5: 5, 6: 6, 7: 7, 8: 8, 9: 9}"
            ]
          },
          "metadata": {},
          "execution_count": 3
        }
      ]
    },
    {
      "cell_type": "markdown",
      "source": [
        "#**for k in mapping_dict.keys():** This is a loop that iterates over the keys of the dictionary mapping_dict.\n",
        "# k represents one of the keys in the dictionary.\n",
        "\n",
        "# **mapping_dict[k] = str(mapping_dict[k]):** Inside the loop, it updates the value associated with the key k in the mapping_dict. The value is converted to a string using the str() function. This ensures that each value in the dictionary is a string representation of its original value."
      ],
      "metadata": {
        "id": "P4_dSWgIJMyj"
      }
    },
    {
      "cell_type": "code",
      "source": [
        "for k in mapping_dict.keys():\n",
        "\n",
        "  mapping_dict[k] = str(mapping_dict[k])"
      ],
      "metadata": {
        "id": "M1N6-OF3JNNz"
      },
      "execution_count": null,
      "outputs": []
    },
    {
      "cell_type": "markdown",
      "source": [
        "# **mapping_dict:** This appears to be a dictionary in which key-value pairs are being added.\n",
        "# **for i in range(0, 26) :** This is a loop that iterates over the range of numbers from 0 to 25. In each iteration, i takes on values from 0 to 25.\n",
        "#**mapping_dict[10 + i] = chr(65 + i):** Inside the loop, it adds a key-value pair to the (mapping_dict).\n",
        "#The key is 10 + i.\n",
        "#The value is the character represented code point 65 + i.\n",
        "#**In other words, it associates numbers from 10 to 35 with uppercase letters from 'A' to 'Z' in the dictionary.**\n"
      ],
      "metadata": {
        "id": "-ZV8-NI5JREL"
      }
    },
    {
      "cell_type": "code",
      "source": [
        "for i in range(0,26):\n",
        "  mapping_dict[10+i] = chr(65+i)"
      ],
      "metadata": {
        "id": "pImOyJXCJRcr"
      },
      "execution_count": null,
      "outputs": []
    },
    {
      "cell_type": "markdown",
      "source": [
        "# **random_numbers = list():** Initializes an empty list called random_numbers that will store the generated random strings.\n",
        "#**1.**The outer loop **for i in range(0, sample_size):** runs sample_size(500000) times, generating a new random string in each iteration.\n",
        "#**2.**Two random digits are generated using **random.randint(0, 35)** and converted to characters using the mapping_dict. These characters are appended to blank_str.\n",
        "#**3.**The inner loop **for i in range(0, 8):** is responsible for generating up to 8 additional random characters, based on coin tosses.\n",
        "#**4.coin_toss = random.randint(0, 1):** Simulates a coin toss, where 0 represents tails and 1 represents heads.\n",
        "#**5.** The resulting string **blank_str** is appended to the random_numbers list."
      ],
      "metadata": {
        "id": "Cch_2hLVJVaK"
      }
    },
    {
      "cell_type": "code",
      "source": [
        "sample_size = 500000\n",
        "\n",
        "random_numbers = list()\n",
        "\n",
        "for i in range(0,sample_size):\n",
        "\n",
        "  blank_str = str()\n",
        "\n",
        "  random_digit = random.randint(0,35)\n",
        "  blank_str = blank_str + mapping_dict[random_digit]\n",
        "\n",
        "  random_digit = random.randint(0,35)\n",
        "  blank_str = blank_str + mapping_dict[random_digit]\n",
        "\n",
        "  for i in range(0,8):\n",
        "    coin_toss = random.randint(0,1)\n",
        "\n",
        "    if coin_toss == 1:\n",
        "\n",
        "      random_digit = random.randint(0,35)\n",
        "      blank_str = blank_str + mapping_dict[random_digit]\n",
        "\n",
        "    else:\n",
        "      break\n",
        "\n",
        "  random_numbers.append(blank_str)"
      ],
      "metadata": {
        "id": "SKjPzmVBJV1y"
      },
      "execution_count": null,
      "outputs": []
    },
    {
      "cell_type": "markdown",
      "source": [
        "#**1.**The for k in **mapping_dict.keys():** loop iterates over the keys of the existing dictionary mapping_dict.\n",
        "#**2.**Inside the loop = k creates a new entry in the reverse_mapping_dict. It uses the original dictionary's value (mapping_dict[k]) as the key in the new dictionary and assigns the original dictionary's key (k) as the corresponding value."
      ],
      "metadata": {
        "id": "ZEwrMU3PJjbL"
      }
    },
    {
      "cell_type": "code",
      "source": [
        "reverse_mapping_dict = dict()\n",
        "\n",
        "for k in mapping_dict.keys():\n",
        "  reverse_mapping_dict[mapping_dict[k]] = k"
      ],
      "metadata": {
        "id": "M_fcDC2vJj4z"
      },
      "execution_count": null,
      "outputs": []
    },
    {
      "cell_type": "markdown",
      "source": [
        "#**1.base_frequency = dict():** Initializes an empty dictionary called base_frequency, which will store the frequency distribution of the highest base.\n",
        "\n",
        "#**2.**The **for blank_str in random_numbers:** loop iterates over each string in the random_numbers list.\n",
        "\n",
        "#**3.highest_digit = max(blank_str):** Finds the highest character (in terms of Unicode code point) in the current string blank_str.\n",
        "\n",
        "#**4.highest_base:** Retrieves the corresponding base (numeric value) for the highest character using the reversed mapping dictionary reverse_mapping_dict. The +1 is added to the retrieved value.\n"
      ],
      "metadata": {
        "id": "WJVZ1N5rJoHj"
      }
    },
    {
      "cell_type": "code",
      "source": [
        "base_frequency = dict()\n",
        "\n",
        "for blank_str in random_numbers:\n",
        "  highest_digit = max(blank_str)\n",
        "  highest_base = reverse_mapping_dict[highest_digit] + 1\n",
        "\n",
        "  if highest_base in base_frequency.keys():\n",
        "    base_frequency[highest_base] += (1/sample_size)\n",
        "  else:\n",
        "    base_frequency[highest_base] = (1/sample_size)"
      ],
      "metadata": {
        "id": "sLC0hKZyJofj"
      },
      "execution_count": null,
      "outputs": []
    },
    {
      "cell_type": "markdown",
      "source": [
        "# **1.import matplotlib.pyplot as plt:** This allows you to create and customize visualizations, such as line plots, scatter plots, histograms, and more, using the functions and methods provided by the (pyplot) module.\n",
        "\n",
        "#**plt.bar(x=base_frequency.keys(), height=base_frequency.values()):** This line creates a bar chart.\n"
      ],
      "metadata": {
        "id": "YZQTIJHvJt2z"
      }
    },
    {
      "cell_type": "code",
      "source": [
        "plt.bar(x=base_frequency.keys(),height=base_frequency.values())"
      ],
      "metadata": {
        "colab": {
          "base_uri": "https://localhost:8080/",
          "height": 447
        },
        "id": "4cmphFd5JuJr",
        "outputId": "3689b0d0-01cd-4af2-a356-71dd3f80cb0b"
      },
      "execution_count": null,
      "outputs": [
        {
          "output_type": "execute_result",
          "data": {
            "text/plain": [
              "<BarContainer object of 36 artists>"
            ]
          },
          "metadata": {},
          "execution_count": 9
        },
        {
          "output_type": "display_data",
          "data": {
            "text/plain": [
              "<Figure size 640x480 with 1 Axes>"
            ],
            "image/png": "[encoded data removed]"
          },
          "metadata": {}
        }
      ]
    },
    {
      "cell_type": "markdown",
      "source": [
        "# To view the chart, you would typically call **plt.show()** after creating the bar char"
      ],
      "metadata": {
        "id": "GNVlMvkJACpU"
      }
    }
  ]
}